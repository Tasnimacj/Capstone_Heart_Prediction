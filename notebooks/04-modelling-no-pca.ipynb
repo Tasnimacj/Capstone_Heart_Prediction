{
 "cells": [
  {
   "cell_type": "markdown",
   "metadata": {},
   "source": [
    "# 04. Modeling without PCA\n",
    "___\n"
   ]
  },
  {
   "cell_type": "code",
   "execution_count": 1,
   "metadata": {},
   "outputs": [],
   "source": [
    "import numpy as np\n",
    "import pandas as pd\n",
    "import matplotlib.pyplot as plt\n",
    "import seaborn as sns\n",
    "\n",
    "\n",
    "from sklearn.model_selection import train_test_split\n",
    "\n",
    "\n",
    "from sklearn.preprocessing import StandardScaler, MinMaxScaler\n",
    "from sklearn.linear_model import LogisticRegression\n",
    "from sklearn.pipeline import Pipeline\n",
    "\n",
    "from sklearn.tree import DecisionTreeClassifier, plot_tree\n",
    "from sklearn.metrics import ConfusionMatrixDisplay, classification_report\n",
    "from sklearn.metrics import confusion_matrix, recall_score, precision_score, f1_score, roc_curve, roc_auc_score\n",
    "\n",
    "from sklearn.model_selection import GridSearchCV\n",
    "\n",
    "\n"
   ]
  },
  {
   "cell_type": "markdown",
   "metadata": {},
   "source": [
    "___\n",
    "\n",
    "\n",
    "Introduction\n",
    "\n",
    "\n",
    "In this notebook, I will be building two types of classification models. Using Logistic Regression and Decision Trees, we will see if we can correctly classify our target variable and predict the classes of new datapoints. \n",
    "I will train each model with a portion of the dataset and then compare the outputs with my test set. \n",
    "\n",
    "\n",
    "___\n"
   ]
  },
  {
   "cell_type": "code",
   "execution_count": 2,
   "metadata": {},
   "outputs": [],
   "source": [
    "heart22 = pd.read_csv('~/Desktop/capstone-project-Tasnimacj/data/cleaned_data/heart22_preprocessed.csv', index_col=0)"
   ]
  },
  {
   "cell_type": "code",
   "execution_count": 3,
   "metadata": {},
   "outputs": [
    {
     "name": "stdout",
     "output_type": "stream",
     "text": [
      "<class 'pandas.core.frame.DataFrame'>\n",
      "Index: 246013 entries, 0 to 246012\n",
      "Data columns (total 42 columns):\n",
      " #   Column                         Non-Null Count   Dtype  \n",
      "---  ------                         --------------   -----  \n",
      " 0   Female                         246013 non-null  int64  \n",
      " 1   GeneralHealth                  246013 non-null  int64  \n",
      " 2   PhysicalHealthDays             246013 non-null  float64\n",
      " 3   MentalHealthDays               246013 non-null  float64\n",
      " 4   LastCheckupTime                246013 non-null  int64  \n",
      " 5   PhysicalActivities             246013 non-null  int64  \n",
      " 6   SleepHours                     246013 non-null  float64\n",
      " 7   RemovedTeeth                   246013 non-null  int64  \n",
      " 8   HadHeartAttack                 246013 non-null  int64  \n",
      " 9   HadAngina                      246013 non-null  int64  \n",
      " 10  HadStroke                      246013 non-null  int64  \n",
      " 11  HadAsthma                      246013 non-null  int64  \n",
      " 12  HadSkinCancer                  246013 non-null  int64  \n",
      " 13  HadCOPD                        246013 non-null  int64  \n",
      " 14  HadDepressiveDisorder          246013 non-null  int64  \n",
      " 15  HadKidneyDisease               246013 non-null  int64  \n",
      " 16  HadArthritis                   246013 non-null  int64  \n",
      " 17  HadDiabetes                    246013 non-null  int64  \n",
      " 18  DeafOrHardOfHearing            246013 non-null  int64  \n",
      " 19  BlindOrVisionDifficulty        246013 non-null  int64  \n",
      " 20  DifficultyConcentrating        246013 non-null  int64  \n",
      " 21  DifficultyWalking              246013 non-null  int64  \n",
      " 22  DifficultyDressingBathing      246013 non-null  int64  \n",
      " 23  DifficultyErrands              246013 non-null  int64  \n",
      " 24  SmokerStatus                   246013 non-null  int64  \n",
      " 25  ECigaretteUsage                246013 non-null  int64  \n",
      " 26  ChestScan                      246013 non-null  int64  \n",
      " 27  AgeCategory                    246013 non-null  int64  \n",
      " 28  HeightInMeters                 246013 non-null  float64\n",
      " 29  WeightInKilograms              246013 non-null  float64\n",
      " 30  BMI                            246013 non-null  float64\n",
      " 31  AlcoholDrinkers                246013 non-null  int64  \n",
      " 32  HIVTesting                     246013 non-null  int64  \n",
      " 33  FluVaxLast12                   246013 non-null  int64  \n",
      " 34  PneumoVaxEver                  246013 non-null  int64  \n",
      " 35  TetanusLast10Tdap              246013 non-null  int64  \n",
      " 36  HighRiskLastYear               246013 non-null  int64  \n",
      " 37  CovidPos                       246013 non-null  int64  \n",
      " 38  RaceEthnicity_Black only       246013 non-null  int64  \n",
      " 39  RaceEthnicity_Hispanic         246013 non-null  int64  \n",
      " 40  RaceEthnicity_Multiracial      246013 non-null  int64  \n",
      " 41  RaceEthnicity_Other race only  246013 non-null  int64  \n",
      "dtypes: float64(6), int64(36)\n",
      "memory usage: 80.7 MB\n"
     ]
    }
   ],
   "source": [
    "heart22.info()"
   ]
  },
  {
   "cell_type": "markdown",
   "metadata": {},
   "source": [
    "Here I load in the data that we saved from the previous notebook. Checking if our dataset is properly encoded, with 0 null values and has a correct index. Everything looks good, so we can move straight into modeling now."
   ]
  },
  {
   "cell_type": "code",
   "execution_count": 4,
   "metadata": {},
   "outputs": [],
   "source": [
    "y = heart22['HadAngina'] # Target Variable\n",
    "X = heart22.drop('HadAngina', axis=1) "
   ]
  },
  {
   "cell_type": "code",
   "execution_count": 5,
   "metadata": {},
   "outputs": [
    {
     "name": "stdout",
     "output_type": "stream",
     "text": [
      "Shape of y: (246013,)\n",
      "Shape of X: (246013, 41)\n"
     ]
    }
   ],
   "source": [
    "print('Shape of y:', y.shape)\n",
    "print('Shape of X:', X.shape)"
   ]
  },
  {
   "cell_type": "markdown",
   "metadata": {},
   "source": [
    "Split our data into our feature columns and our target variable. We will be putting our X into our models and comparing the outputs with our y.\n"
   ]
  },
  {
   "cell_type": "code",
   "execution_count": 6,
   "metadata": {},
   "outputs": [
    {
     "name": "stdout",
     "output_type": "stream",
     "text": [
      "The remainder set has 196810 data points.\n",
      "The test set has 49203 data points.\n"
     ]
    }
   ],
   "source": [
    "#1st split\n",
    "\n",
    "X_rem, X_test, y_rem, y_test = train_test_split(X, y, test_size=0.2, random_state=25, stratify=y)\n",
    "\n",
    "print(f'The remainder set has {len(X_rem)} data points.')\n",
    "print(f'The test set has {len(X_test)} data points.')"
   ]
  },
  {
   "cell_type": "markdown",
   "metadata": {},
   "source": [
    "For the model, we need to split our data into a training set and a test set. Here I did a 80:20 split, keeping an even distribution of y variables in each split. \n",
    "We use the train set to fit the model and then evaluate on the test set. Splitting the datapoints helps prevent overfitting and a way to accurately check model performance. By having unseen data, we can come close to replicating real life scenarios that the model will face."
   ]
  },
  {
   "cell_type": "markdown",
   "metadata": {},
   "source": [
    "___\n",
    "\n",
    "### 1 Baseline Logistic Regression\n"
   ]
  },
  {
   "cell_type": "markdown",
   "metadata": {},
   "source": [
    "For my first model, I will attempt to create a model that has no hyperparameter optimization. This will be a a model we can use for comparison. I am expecting that this model will perform poorly and will be very good at predicting 0, or 'did not have angina'\n",
    "As logistic regression takes L2 Regularisation as its default penalty, I will need to scale my data beforehand."
   ]
  },
  {
   "cell_type": "code",
   "execution_count": 7,
   "metadata": {},
   "outputs": [],
   "source": [
    "ss = StandardScaler().fit(X_rem)\n",
    "X_rem_ss = ss.transform(X_rem)\n",
    "X_test_ss = ss.transform(X_test)"
   ]
  },
  {
   "cell_type": "code",
   "execution_count": 8,
   "metadata": {},
   "outputs": [
    {
     "data": {
      "text/plain": [
       "LogisticRegression(random_state=1)"
      ]
     },
     "execution_count": 8,
     "metadata": {},
     "output_type": "execute_result"
    }
   ],
   "source": [
    "baseline_log_reg = LogisticRegression(random_state=1)\n",
    "baseline_log_reg.fit(X_rem_ss, y_rem)"
   ]
  },
  {
   "cell_type": "markdown",
   "metadata": {},
   "source": [
    "We instantiate the model and then fit the model on our y remainder data and the scaled X remainder data. We then input unknown data into the model and compare accuracy scores with our test data."
   ]
  },
  {
   "cell_type": "code",
   "execution_count": 9,
   "metadata": {},
   "outputs": [
    {
     "name": "stdout",
     "output_type": "stream",
     "text": [
      "Accuracy on remainder set: 0.9450840912555256\n",
      "Accuracy on test set: 0.9445359022823812\n"
     ]
    }
   ],
   "source": [
    "print(f'Accuracy on remainder set: {baseline_log_reg.score(X_rem_ss, y_rem)}')\n",
    "print(f'Accuracy on test set: {baseline_log_reg.score(X_test_ss, y_test)}')"
   ]
  },
  {
   "cell_type": "markdown",
   "metadata": {},
   "source": [
    "Our accuracy on the remainder and test set is the same, 94.5%. This means our model has correctly classified 94.5% of the data points in both sets. This shows that the model has a good fit, and can handle unseen data.\n",
    "\n",
    "However, accuracy is not a good indicator of the model outcomes as it does not show if our model is behaving how we expect. \n",
    "We can look further by using a classification report and confusion matrix to see what datapoints were classified as."
   ]
  },
  {
   "cell_type": "code",
   "execution_count": 207,
   "metadata": {},
   "outputs": [
    {
     "data": {
      "text/html": [
       "<div>\n",
       "<style scoped>\n",
       "    .dataframe tbody tr th:only-of-type {\n",
       "        vertical-align: middle;\n",
       "    }\n",
       "\n",
       "    .dataframe tbody tr th {\n",
       "        vertical-align: top;\n",
       "    }\n",
       "\n",
       "    .dataframe thead th {\n",
       "        text-align: right;\n",
       "    }\n",
       "</style>\n",
       "<table border=\"1\" class=\"dataframe\">\n",
       "  <thead>\n",
       "    <tr style=\"text-align: right;\">\n",
       "      <th></th>\n",
       "      <th>predicted 0</th>\n",
       "      <th>predicted 1</th>\n",
       "    </tr>\n",
       "  </thead>\n",
       "  <tbody>\n",
       "    <tr>\n",
       "      <th>true 0</th>\n",
       "      <td>45639</td>\n",
       "      <td>573</td>\n",
       "    </tr>\n",
       "    <tr>\n",
       "      <th>true 1</th>\n",
       "      <td>2156</td>\n",
       "      <td>835</td>\n",
       "    </tr>\n",
       "  </tbody>\n",
       "</table>\n",
       "</div>"
      ],
      "text/plain": [
       "        predicted 0  predicted 1\n",
       "true 0        45639          573\n",
       "true 1         2156          835"
      ]
     },
     "metadata": {},
     "output_type": "display_data"
    },
    {
     "data": {
      "text/html": [
       "<div>\n",
       "<style scoped>\n",
       "    .dataframe tbody tr th:only-of-type {\n",
       "        vertical-align: middle;\n",
       "    }\n",
       "\n",
       "    .dataframe tbody tr th {\n",
       "        vertical-align: top;\n",
       "    }\n",
       "\n",
       "    .dataframe thead th {\n",
       "        text-align: right;\n",
       "    }\n",
       "</style>\n",
       "<table border=\"1\" class=\"dataframe\">\n",
       "  <thead>\n",
       "    <tr style=\"text-align: right;\">\n",
       "      <th></th>\n",
       "      <th>predicted 0</th>\n",
       "      <th>predicted 1</th>\n",
       "    </tr>\n",
       "  </thead>\n",
       "  <tbody>\n",
       "    <tr>\n",
       "      <th>true 0</th>\n",
       "      <td>92.756539</td>\n",
       "      <td>1.164563</td>\n",
       "    </tr>\n",
       "    <tr>\n",
       "      <th>true 1</th>\n",
       "      <td>4.381847</td>\n",
       "      <td>1.697051</td>\n",
       "    </tr>\n",
       "  </tbody>\n",
       "</table>\n",
       "</div>"
      ],
      "text/plain": [
       "        predicted 0  predicted 1\n",
       "true 0    92.756539     1.164563\n",
       "true 1     4.381847     1.697051"
      ]
     },
     "metadata": {},
     "output_type": "display_data"
    },
    {
     "name": "stdout",
     "output_type": "stream",
     "text": [
      "Recall score: 27.92%\n",
      "Precision score: 59.30%\n",
      "F1 score: 37.96%\n"
     ]
    }
   ],
   "source": [
    "\n",
    "y_test_pred = baseline_log_reg.predict(X_test_ss)\n",
    "\n",
    "\n",
    "cmat = pd.DataFrame(\n",
    "    data = confusion_matrix(y_test, y_test_pred),\n",
    "    index = ['true 0', 'true 1'],\n",
    "    columns = ['predicted 0', 'predicted 1'])\n",
    "    \n",
    "display(cmat)\n",
    "\n",
    "cmat_n = pd.DataFrame(\n",
    "    data = confusion_matrix(y_test, y_test_pred, normalize='all')*100,\n",
    "    index = ['true 0', 'true 1'],\n",
    "    columns = ['predicted 0', 'predicted 1'])\n",
    "    \n",
    "display(cmat_n)\n",
    "\n",
    "\n",
    "print(f'Recall score: {recall_score(y_test, y_test_pred)*100:0.2f}%')\n",
    "print(f'Precision score: {precision_score(y_test, y_test_pred)*100:0.2f}%')\n",
    "print(f'F1 score: {f1_score(y_test, y_test_pred)*100:0.2f}%')\n"
   ]
  },
  {
   "cell_type": "code",
   "execution_count": 192,
   "metadata": {},
   "outputs": [
    {
     "name": "stdout",
     "output_type": "stream",
     "text": [
      "              precision    recall  f1-score   support\n",
      "\n",
      "           0       0.95      0.99      0.97     46212\n",
      "           1       0.59      0.28      0.38      2991\n",
      "\n",
      "    accuracy                           0.94     49203\n",
      "   macro avg       0.77      0.63      0.68     49203\n",
      "weighted avg       0.93      0.94      0.94     49203\n",
      "\n"
     ]
    }
   ],
   "source": [
    "print(classification_report(y_test, y_test_pred))"
   ]
  },
  {
   "cell_type": "code",
   "execution_count": 208,
   "metadata": {},
   "outputs": [],
   "source": [
    "# save the results \n",
    "baseline_logreg_recall = round(recall_score(y_test, y_test_pred)*100, 2)\n",
    "baseline_logreg_precision = round(precision_score(y_test, y_test_pred)*100, 2)\n",
    "baseline_logreg_f1 = round(f1_score(y_test, y_test_pred)*100, 2)\n",
    "baseline_logreg_accu = round(baseline_log_reg.score(X_test_ss, y_test)*100,2)"
   ]
  },
  {
   "cell_type": "markdown",
   "metadata": {},
   "source": [
    "Even though our model was 94.5% accurate, it was only good at predicting 'Had no Angina'.  We can see in the confusion matrix, that it correctly predicted 93% of true 0s, but 2% of true 1s.\n",
    "\n",
    "This is most likely due to the imbalance in our dataset. It has seen more cases where y would be '0' than when y would be '1'.\n",
    "\n",
    "\n",
    " My main goal is to get high recall without sacrificing precision and accuracy. For my problem, it would be better to have more false positives than false negatives. It would be worse to mischaracterise someone as not at risk than saying they could be at risk. My model could only classify 837 datapoints correcty as '1' out of 2991 '1' values."
   ]
  },
  {
   "cell_type": "code",
   "execution_count": 193,
   "metadata": {},
   "outputs": [
    {
     "name": "stdout",
     "output_type": "stream",
     "text": [
      "Threshold of 0.5:\n",
      "Precision score: 6.08%\n",
      "Recall score: 100.00% \n",
      "\n",
      "Threshold of 0.8:\n",
      "Precision score: 6.12%\n",
      "Recall score: 100.00%\n"
     ]
    }
   ],
   "source": [
    "y_proba_base = baseline_log_reg.predict_proba(X_test)[:,1]\n",
    "\n",
    "# precision and recall for default (0.5) cut-off\n",
    "y_threshold = np.where(y_proba_base > 0.5, 1, 0)\n",
    "\n",
    "print(\"Threshold of 0.5:\")\n",
    "print(f\"Precision score: {precision_score(y_test, y_threshold)*100:0.2f}%\")\n",
    "print(f\"Recall score: {recall_score(y_test, y_threshold)*100:0.2f}%\",'\\n')\n",
    "\n",
    "\n",
    "# higher cut-off (0.8)\n",
    "y_threshold = np.where(y_proba > 0.8, 1, 0)\n",
    "\n",
    "print(\"Threshold of 0.8:\")\n",
    "print(f\"Precision score: {precision_score(y_test, y_threshold)*100:0.2f}%\")\n",
    "print(f\"Recall score: {recall_score(y_test, y_threshold)*100:0.2f}%\")\n"
   ]
  },
  {
   "cell_type": "markdown",
   "metadata": {},
   "source": [
    "For a medical diagnosis, we would want to be very sure about the predictions and would only want a confidence of 0.9 or higher. As I only want to create a early detection/risk flagging system, I will allow my model to have a confidence threshold of 0.8 for now. \n",
    "\n",
    "By doing this, we can see the recall has improved, but we have mislabelled a lot of the datapoints."
   ]
  },
  {
   "cell_type": "code",
   "execution_count": 194,
   "metadata": {},
   "outputs": [],
   "source": [
    "from sklearn.metrics import roc_curve, roc_auc_score \n",
    "\n",
    "fprs_base, tprs_base, thresholds_base = roc_curve(y_test, y_proba_base)\n",
    "roc_auc_base = roc_auc_score(y_test, y_proba_base)\n"
   ]
  },
  {
   "cell_type": "markdown",
   "metadata": {},
   "source": [
    "___\n",
    "\n",
    "### 2 Tuning Logistic Regression"
   ]
  },
  {
   "cell_type": "markdown",
   "metadata": {},
   "source": [
    "Pipeline\n",
    "\n",
    "Using a pipeline, I want to find the best hyperparameters for my model. I set up a pipeline that contains a scaler and the model of our choice. "
   ]
  },
  {
   "cell_type": "code",
   "execution_count": 13,
   "metadata": {},
   "outputs": [],
   "source": [
    "from tempfile import mkdtemp\n",
    "cachedir = mkdtemp()"
   ]
  },
  {
   "cell_type": "code",
   "execution_count": 14,
   "metadata": {},
   "outputs": [],
   "source": [
    "pipe = Pipeline([(\"scaler\", StandardScaler()),\n",
    "                 (\"model\", LogisticRegression())], memory=cachedir)"
   ]
  },
  {
   "cell_type": "markdown",
   "metadata": {},
   "source": [
    "Hyperparameter Optimisation\n",
    "\n",
    "Setting up a parameter grid with what I would like to change in my model. I want to explore different c values, looking at if my model performs better with a big regularisation penalty (small c value) or with a small regularisation penalty (big c value). I also want to see what model penalty would be better. I need to scale my data, so I will be using a standard scaler."
   ]
  },
  {
   "cell_type": "code",
   "execution_count": 15,
   "metadata": {},
   "outputs": [],
   "source": [
    "c_values = [.0001, .001, .01, .1, 1, 10, 100, 1000, 10000]\n",
    "\n",
    "# Parameters\n",
    "log_reg_param = [\n",
    "\n",
    "    {'scaler': [ StandardScaler()],\n",
    "     'model': [LogisticRegression(solver='saga',random_state=1, n_jobs=-1, max_iter=10000)], \n",
    "     'model__C': c_values,\n",
    "     'model__penalty': ['l1', 'l2'],\n",
    "    }\n",
    "]"
   ]
  },
  {
   "cell_type": "markdown",
   "metadata": {},
   "source": [
    "GridSearch"
   ]
  },
  {
   "cell_type": "code",
   "execution_count": 16,
   "metadata": {},
   "outputs": [],
   "source": [
    "grid = GridSearchCV(estimator=pipe,param_grid=log_reg_param, cv=5,verbose=1,refit=True)"
   ]
  },
  {
   "cell_type": "code",
   "execution_count": 17,
   "metadata": {},
   "outputs": [
    {
     "name": "stdout",
     "output_type": "stream",
     "text": [
      "Fitting 5 folds for each of 18 candidates, totalling 90 fits\n"
     ]
    }
   ],
   "source": [
    "fittedgrid_lr = grid.fit(X_rem,y_rem)"
   ]
  },
  {
   "cell_type": "code",
   "execution_count": 18,
   "metadata": {},
   "outputs": [
    {
     "data": {
      "text/plain": [
       "{'model': LogisticRegression(C=0.01, max_iter=10000, n_jobs=-1, penalty='l1',\n",
       "                    random_state=1, solver='saga'),\n",
       " 'model__C': 0.01,\n",
       " 'model__penalty': 'l1',\n",
       " 'scaler': StandardScaler()}"
      ]
     },
     "execution_count": 18,
     "metadata": {},
     "output_type": "execute_result"
    }
   ],
   "source": [
    "fittedgrid_lr.best_params_"
   ]
  },
  {
   "cell_type": "markdown",
   "metadata": {},
   "source": [
    "GridSearch looks at different parameter settings across 5 cross folds on our Remainder set. It does this to find the best model settings whilst preventing data leakage and overfitting on our train set. \n",
    "GridSearch has found that the best parameters for our Logistic Regression is having a C value of 0.01, which means we need a strong regularization strength. We need a L1 penalty in this model to help set coefficients to 0."
   ]
  },
  {
   "cell_type": "markdown",
   "metadata": {},
   "source": [
    "Model Interpretation \n",
    "\n"
   ]
  },
  {
   "cell_type": "code",
   "execution_count": 73,
   "metadata": {},
   "outputs": [],
   "source": [
    "coef_ = fittedgrid_lr.best_estimator_.named_steps[\"model\"].coef_.flatten()"
   ]
  },
  {
   "cell_type": "code",
   "execution_count": 75,
   "metadata": {},
   "outputs": [],
   "source": [
    "coef_df = pd.DataFrame({'Variable': X_rem.columns, 'Coefficients': coef_})\n",
    "\n",
    "coef_df.sort_values(by='Coefficients', ascending=False, inplace=True)"
   ]
  },
  {
   "cell_type": "code",
   "execution_count": 98,
   "metadata": {},
   "outputs": [
    {
     "data": {
      "image/png": "[encoded data removed]",
      "text/plain": [
       "<Figure size 1400x1000 with 1 Axes>"
      ]
     },
     "metadata": {},
     "output_type": "display_data"
    }
   ],
   "source": [
    "\n",
    "plt.figure(figsize=(14,10))\n",
    "\n",
    "sns.set_style('darkgrid')\n",
    "\n",
    "plt.barh(coef_df['Variable'], coef_df['Coefficients'])\n",
    "\n",
    "sns.despine()\n",
    "\n"
   ]
  },
  {
   "cell_type": "code",
   "execution_count": 171,
   "metadata": {},
   "outputs": [
    {
     "data": {
      "text/html": [
       "<div>\n",
       "<style scoped>\n",
       "    .dataframe tbody tr th:only-of-type {\n",
       "        vertical-align: middle;\n",
       "    }\n",
       "\n",
       "    .dataframe tbody tr th {\n",
       "        vertical-align: top;\n",
       "    }\n",
       "\n",
       "    .dataframe thead th {\n",
       "        text-align: right;\n",
       "    }\n",
       "</style>\n",
       "<table border=\"1\" class=\"dataframe\">\n",
       "  <thead>\n",
       "    <tr style=\"text-align: right;\">\n",
       "      <th></th>\n",
       "      <th>Variable</th>\n",
       "      <th>Coefficients</th>\n",
       "    </tr>\n",
       "  </thead>\n",
       "  <tbody>\n",
       "    <tr>\n",
       "      <th>26</th>\n",
       "      <td>AgeCategory</td>\n",
       "      <td>0.683477</td>\n",
       "    </tr>\n",
       "    <tr>\n",
       "      <th>8</th>\n",
       "      <td>HadHeartAttack</td>\n",
       "      <td>0.552071</td>\n",
       "    </tr>\n",
       "    <tr>\n",
       "      <th>1</th>\n",
       "      <td>GeneralHealth</td>\n",
       "      <td>0.360902</td>\n",
       "    </tr>\n",
       "    <tr>\n",
       "      <th>25</th>\n",
       "      <td>ChestScan</td>\n",
       "      <td>0.312123</td>\n",
       "    </tr>\n",
       "    <tr>\n",
       "      <th>33</th>\n",
       "      <td>PneumoVaxEver</td>\n",
       "      <td>0.149391</td>\n",
       "    </tr>\n",
       "  </tbody>\n",
       "</table>\n",
       "</div>"
      ],
      "text/plain": [
       "          Variable  Coefficients\n",
       "26     AgeCategory      0.683477\n",
       "8   HadHeartAttack      0.552071\n",
       "1    GeneralHealth      0.360902\n",
       "25       ChestScan      0.312123\n",
       "33   PneumoVaxEver      0.149391"
      ]
     },
     "execution_count": 171,
     "metadata": {},
     "output_type": "execute_result"
    }
   ],
   "source": [
    "coef_df.head()"
   ]
  },
  {
   "cell_type": "code",
   "execution_count": 172,
   "metadata": {},
   "outputs": [
    {
     "data": {
      "text/html": [
       "<div>\n",
       "<style scoped>\n",
       "    .dataframe tbody tr th:only-of-type {\n",
       "        vertical-align: middle;\n",
       "    }\n",
       "\n",
       "    .dataframe tbody tr th {\n",
       "        vertical-align: top;\n",
       "    }\n",
       "\n",
       "    .dataframe thead th {\n",
       "        text-align: right;\n",
       "    }\n",
       "</style>\n",
       "<table border=\"1\" class=\"dataframe\">\n",
       "  <thead>\n",
       "    <tr style=\"text-align: right;\">\n",
       "      <th></th>\n",
       "      <th>Variable</th>\n",
       "      <th>Coefficients</th>\n",
       "    </tr>\n",
       "  </thead>\n",
       "  <tbody>\n",
       "    <tr>\n",
       "      <th>24</th>\n",
       "      <td>ECigaretteUsage</td>\n",
       "      <td>0.0</td>\n",
       "    </tr>\n",
       "    <tr>\n",
       "      <th>27</th>\n",
       "      <td>HeightInMeters</td>\n",
       "      <td>0.0</td>\n",
       "    </tr>\n",
       "    <tr>\n",
       "      <th>30</th>\n",
       "      <td>AlcoholDrinkers</td>\n",
       "      <td>0.0</td>\n",
       "    </tr>\n",
       "    <tr>\n",
       "      <th>31</th>\n",
       "      <td>HIVTesting</td>\n",
       "      <td>0.0</td>\n",
       "    </tr>\n",
       "    <tr>\n",
       "      <th>22</th>\n",
       "      <td>DifficultyErrands</td>\n",
       "      <td>0.0</td>\n",
       "    </tr>\n",
       "    <tr>\n",
       "      <th>35</th>\n",
       "      <td>HighRiskLastYear</td>\n",
       "      <td>0.0</td>\n",
       "    </tr>\n",
       "  </tbody>\n",
       "</table>\n",
       "</div>"
      ],
      "text/plain": [
       "             Variable  Coefficients\n",
       "24    ECigaretteUsage           0.0\n",
       "27     HeightInMeters           0.0\n",
       "30    AlcoholDrinkers           0.0\n",
       "31         HIVTesting           0.0\n",
       "22  DifficultyErrands           0.0\n",
       "35   HighRiskLastYear           0.0"
      ]
     },
     "execution_count": 172,
     "metadata": {},
     "output_type": "execute_result"
    }
   ],
   "source": [
    "coef_df.loc[coef_df['Coefficients'] == 0]"
   ]
  },
  {
   "cell_type": "markdown",
   "metadata": {},
   "source": [
    "The model is greatly impacted by a persons age when predicting whether they have Angina or not. Having a Heartattack also impacts the models, and increases the risk of developing Angina. There are several features that have 0 impact on the model, due to the L1 penalty. A persons biological sex can highly impact if you don't develop a cardiovascular disease, being female can decrease your risk. \n"
   ]
  },
  {
   "cell_type": "markdown",
   "metadata": {},
   "source": [
    "Model Evaluation"
   ]
  },
  {
   "cell_type": "code",
   "execution_count": 216,
   "metadata": {},
   "outputs": [
    {
     "name": "stdout",
     "output_type": "stream",
     "text": [
      "Best accuracy on the remainder set: 0.9450891722981556\n",
      "Best accuracy on the test set: 0.9448001138141984\n"
     ]
    }
   ],
   "source": [
    "print(f\"Best accuracy on the remainder set: {fittedgrid_lr.score(X_rem, y_rem)}\")\n",
    "print(f\"Best accuracy on the test set: {fittedgrid_lr.score(X_test, y_test)}\")"
   ]
  },
  {
   "cell_type": "code",
   "execution_count": 217,
   "metadata": {},
   "outputs": [
    {
     "data": {
      "text/html": [
       "<div>\n",
       "<style scoped>\n",
       "    .dataframe tbody tr th:only-of-type {\n",
       "        vertical-align: middle;\n",
       "    }\n",
       "\n",
       "    .dataframe tbody tr th {\n",
       "        vertical-align: top;\n",
       "    }\n",
       "\n",
       "    .dataframe thead th {\n",
       "        text-align: right;\n",
       "    }\n",
       "</style>\n",
       "<table border=\"1\" class=\"dataframe\">\n",
       "  <thead>\n",
       "    <tr style=\"text-align: right;\">\n",
       "      <th></th>\n",
       "      <th>predicted 0</th>\n",
       "      <th>predicted 1</th>\n",
       "    </tr>\n",
       "  </thead>\n",
       "  <tbody>\n",
       "    <tr>\n",
       "      <th>true 0</th>\n",
       "      <td>45656</td>\n",
       "      <td>556</td>\n",
       "    </tr>\n",
       "    <tr>\n",
       "      <th>true 1</th>\n",
       "      <td>2160</td>\n",
       "      <td>831</td>\n",
       "    </tr>\n",
       "  </tbody>\n",
       "</table>\n",
       "</div>"
      ],
      "text/plain": [
       "        predicted 0  predicted 1\n",
       "true 0        45656          556\n",
       "true 1         2160          831"
      ]
     },
     "metadata": {},
     "output_type": "display_data"
    },
    {
     "data": {
      "text/html": [
       "<div>\n",
       "<style scoped>\n",
       "    .dataframe tbody tr th:only-of-type {\n",
       "        vertical-align: middle;\n",
       "    }\n",
       "\n",
       "    .dataframe tbody tr th {\n",
       "        vertical-align: top;\n",
       "    }\n",
       "\n",
       "    .dataframe thead th {\n",
       "        text-align: right;\n",
       "    }\n",
       "</style>\n",
       "<table border=\"1\" class=\"dataframe\">\n",
       "  <thead>\n",
       "    <tr style=\"text-align: right;\">\n",
       "      <th></th>\n",
       "      <th>predicted 0</th>\n",
       "      <th>predicted 1</th>\n",
       "    </tr>\n",
       "  </thead>\n",
       "  <tbody>\n",
       "    <tr>\n",
       "      <th>true 0</th>\n",
       "      <td>0.927911</td>\n",
       "      <td>0.011300</td>\n",
       "    </tr>\n",
       "    <tr>\n",
       "      <th>true 1</th>\n",
       "      <td>0.043900</td>\n",
       "      <td>0.016889</td>\n",
       "    </tr>\n",
       "  </tbody>\n",
       "</table>\n",
       "</div>"
      ],
      "text/plain": [
       "        predicted 0  predicted 1\n",
       "true 0     0.927911     0.011300\n",
       "true 1     0.043900     0.016889"
      ]
     },
     "metadata": {},
     "output_type": "display_data"
    },
    {
     "name": "stdout",
     "output_type": "stream",
     "text": [
      "Recall score: 27.78%\n",
      "Precision score: 59.91%\n",
      "F1 score: 37.96%\n"
     ]
    }
   ],
   "source": [
    "y_test_pred = fittedgrid_lr.predict(X_test)\n",
    "\n",
    "\n",
    "conmat = pd.DataFrame(\n",
    "    data = confusion_matrix(y_test, y_test_pred),\n",
    "    index = ['true 0', 'true 1'],\n",
    "    columns = ['predicted 0', 'predicted 1'],\n",
    ")\n",
    "display(conmat)\n",
    "\n",
    "cmat_n = pd.DataFrame(\n",
    "    data = confusion_matrix(y_test, y_test_pred, normalize='all'),\n",
    "    index = ['true 0', 'true 1'],\n",
    "    columns = ['predicted 0', 'predicted 1'])\n",
    "    \n",
    "display(cmat_n)\n",
    "\n",
    "print(f'Recall score: {recall_score(y_test, y_test_pred)*100:0.2f}%')\n",
    "print(f'Precision score: {precision_score(y_test, y_test_pred)*100:0.2f}%')\n",
    "print(f'F1 score: {f1_score(y_test, y_test_pred)*100:0.2f}%')"
   ]
  },
  {
   "cell_type": "code",
   "execution_count": 219,
   "metadata": {},
   "outputs": [],
   "source": [
    "# save the results \n",
    "best_lr_recall = round(recall_score(y_test, y_test_pred)*100, 2)\n",
    "best_lr_precision = round(precision_score(y_test, y_test_pred)*100, 2)\n",
    "best_lr_f1 = round(f1_score(y_test, y_test_pred)*100, 2)\n",
    "best_lr_accu = round(fittedgrid_lr.score(X_test, y_test)*100,2)"
   ]
  },
  {
   "cell_type": "markdown",
   "metadata": {},
   "source": [
    "Our decided best logistic regression model is performing similar than our baseline in terms of recall and precision. There has not been much change in our scores. Perhaps for our next model iterations we can look into changing other hyperparameters such as looking into having no penalty or adding both penalty terms, or adding a class weight.\n"
   ]
  },
  {
   "cell_type": "code",
   "execution_count": 173,
   "metadata": {},
   "outputs": [
    {
     "name": "stdout",
     "output_type": "stream",
     "text": [
      "Threshold of 0.5:\n",
      "Precision score: 59.91%\n",
      "Recall score: 27.78% \n",
      "\n",
      "Threshold of 0.8:\n",
      "Precision score: 77.01%\n",
      "Recall score: 4.48%\n"
     ]
    }
   ],
   "source": [
    "y_proba_lr = fittedgrid_lr.best_estimator_.predict_proba(X_test)[:,1]\n",
    "\n",
    "# precision and recall for default (0.5) cut-off\n",
    "y_threshold_lr = np.where(y_proba_lr > 0.5, 1, 0)\n",
    "\n",
    "print(\"Threshold of 0.5:\")\n",
    "print(f\"Precision score: {precision_score(y_test, y_threshold_lr)*100:0.2f}%\")\n",
    "print(f\"Recall score: {recall_score(y_test, y_threshold_lr)*100:0.2f}%\",'\\n')\n",
    "\n",
    "\n",
    "# higher cut-off (0.8)\n",
    "y_threshold_lr = np.where(y_proba_lr > 0.8, 1, 0)\n",
    "\n",
    "print(\"Threshold of 0.8:\")\n",
    "print(f\"Precision score: {precision_score(y_test, y_threshold_lr)*100:0.2f}%\")\n",
    "print(f\"Recall score: {recall_score(y_test, y_threshold_lr)*100:0.2f}%\")\n"
   ]
  },
  {
   "cell_type": "code",
   "execution_count": 175,
   "metadata": {},
   "outputs": [],
   "source": [
    "fprs_lr, tprs_lr, thresholds_lr = roc_curve(y_test, y_proba_lr)\n",
    "roc_auc_lr = roc_auc_score(y_test, y_proba_lr)"
   ]
  },
  {
   "cell_type": "markdown",
   "metadata": {},
   "source": [
    "With this model our recall has dropped but our precision has increased if we move our probability threeshold."
   ]
  },
  {
   "cell_type": "markdown",
   "metadata": {},
   "source": [
    "___\n",
    "\n",
    "### 3 Tuning Decision Tree"
   ]
  },
  {
   "cell_type": "markdown",
   "metadata": {},
   "source": [
    "Pipeline\n",
    "\n",
    "Setting up the pipeline for another classification model, this time I will use Decision Tree Classifier."
   ]
  },
  {
   "cell_type": "code",
   "execution_count": 27,
   "metadata": {},
   "outputs": [],
   "source": [
    "pipe = Pipeline([(\"scaler\", StandardScaler()),\n",
    "                 (\"dt_model\", DecisionTreeClassifier())], memory=cachedir)"
   ]
  },
  {
   "cell_type": "markdown",
   "metadata": {},
   "source": [
    "Hyperparameter Optimisation\n",
    "\n",
    "For the parameter grid, this time I want to see if scaling data would make a change in modeling. I will explore different options for the trees max_depth and min_samples_leaf. The max_depth parameter will limit the depth of a tree so by having none, we will have a tree that can keep expanding.\n"
   ]
  },
  {
   "cell_type": "code",
   "execution_count": 28,
   "metadata": {},
   "outputs": [],
   "source": [
    "\n",
    "dt_param  = {\"scaler\":[StandardScaler(), None],\n",
    "            \"dt_model__max_depth\": [None, 2, 4, 6, 8,10],\n",
    "            \"dt_model__min_samples_leaf\": [2, 5, 10] }"
   ]
  },
  {
   "cell_type": "code",
   "execution_count": 29,
   "metadata": {},
   "outputs": [],
   "source": [
    "grid = GridSearchCV(estimator=pipe,param_grid=dt_param, cv=5,verbose=1,refit=True)"
   ]
  },
  {
   "cell_type": "code",
   "execution_count": 30,
   "metadata": {},
   "outputs": [
    {
     "name": "stdout",
     "output_type": "stream",
     "text": [
      "Fitting 5 folds for each of 36 candidates, totalling 180 fits\n"
     ]
    }
   ],
   "source": [
    "fittedgrid_dt = grid.fit(X_rem,y_rem)"
   ]
  },
  {
   "cell_type": "code",
   "execution_count": 31,
   "metadata": {},
   "outputs": [
    {
     "data": {
      "text/plain": [
       "{'dt_model__max_depth': 6,\n",
       " 'dt_model__min_samples_leaf': 10,\n",
       " 'scaler': StandardScaler()}"
      ]
     },
     "execution_count": 31,
     "metadata": {},
     "output_type": "execute_result"
    }
   ],
   "source": [
    "fittedgrid_dt.best_params_"
   ]
  },
  {
   "cell_type": "markdown",
   "metadata": {},
   "source": [
    "The best optimization for our decision tree would be using a standard scaler, having a max_depth of 6 and 10 min_samples_leaf. Scaling my data beforehand seems to be a crucial step for modeling."
   ]
  },
  {
   "cell_type": "markdown",
   "metadata": {},
   "source": [
    "Model Interpretation"
   ]
  },
  {
   "cell_type": "code",
   "execution_count": 102,
   "metadata": {},
   "outputs": [
    {
     "data": {
      "text/plain": [
       "<Axes: >"
      ]
     },
     "execution_count": 102,
     "metadata": {},
     "output_type": "execute_result"
    },
    {
     "data": {
      "image/png": "[encoded data removed]",
      "text/plain": [
       "<Figure size 800x600 with 1 Axes>"
      ]
     },
     "metadata": {},
     "output_type": "display_data"
    }
   ],
   "source": [
    "feat_importances = pd.DataFrame({'Feature': X_rem.columns, 'Importance': fittedgrid_dt.best_estimator_.named_steps[\"dt_model\"].feature_importances_,})\n",
    "feat_importances.sort_values(by='Importance', ascending=False, inplace=True)\n",
    "\n",
    "feat_importances.plot(kind='bar', figsize=(8,6))"
   ]
  },
  {
   "cell_type": "code",
   "execution_count": 176,
   "metadata": {},
   "outputs": [
    {
     "data": {
      "text/html": [
       "<div>\n",
       "<style scoped>\n",
       "    .dataframe tbody tr th:only-of-type {\n",
       "        vertical-align: middle;\n",
       "    }\n",
       "\n",
       "    .dataframe tbody tr th {\n",
       "        vertical-align: top;\n",
       "    }\n",
       "\n",
       "    .dataframe thead th {\n",
       "        text-align: right;\n",
       "    }\n",
       "</style>\n",
       "<table border=\"1\" class=\"dataframe\">\n",
       "  <thead>\n",
       "    <tr style=\"text-align: right;\">\n",
       "      <th></th>\n",
       "      <th>Feature</th>\n",
       "      <th>Importance</th>\n",
       "    </tr>\n",
       "  </thead>\n",
       "  <tbody>\n",
       "    <tr>\n",
       "      <th>8</th>\n",
       "      <td>HadHeartAttack</td>\n",
       "      <td>0.787611</td>\n",
       "    </tr>\n",
       "    <tr>\n",
       "      <th>26</th>\n",
       "      <td>AgeCategory</td>\n",
       "      <td>0.063921</td>\n",
       "    </tr>\n",
       "    <tr>\n",
       "      <th>1</th>\n",
       "      <td>GeneralHealth</td>\n",
       "      <td>0.060643</td>\n",
       "    </tr>\n",
       "    <tr>\n",
       "      <th>25</th>\n",
       "      <td>ChestScan</td>\n",
       "      <td>0.025545</td>\n",
       "    </tr>\n",
       "    <tr>\n",
       "      <th>0</th>\n",
       "      <td>Female</td>\n",
       "      <td>0.017793</td>\n",
       "    </tr>\n",
       "  </tbody>\n",
       "</table>\n",
       "</div>"
      ],
      "text/plain": [
       "           Feature  Importance\n",
       "8   HadHeartAttack    0.787611\n",
       "26     AgeCategory    0.063921\n",
       "1    GeneralHealth    0.060643\n",
       "25       ChestScan    0.025545\n",
       "0           Female    0.017793"
      ]
     },
     "execution_count": 176,
     "metadata": {},
     "output_type": "execute_result"
    }
   ],
   "source": [
    "feat_importances.head()"
   ]
  },
  {
   "cell_type": "markdown",
   "metadata": {},
   "source": [
    "We can see that for our DecisionTree, the most important feature is whether someone had a Heart Attack."
   ]
  },
  {
   "cell_type": "markdown",
   "metadata": {},
   "source": [
    "Model Evaluation"
   ]
  },
  {
   "cell_type": "code",
   "execution_count": 32,
   "metadata": {},
   "outputs": [
    {
     "name": "stdout",
     "output_type": "stream",
     "text": [
      "Best accuracy on the remainder set: 0.9455820334332605\n",
      "Best accuracy on the test set: 0.9447391419222405\n"
     ]
    }
   ],
   "source": [
    "print(f\"Best accuracy on the remainder set: {fittedgrid_dt.score(X_rem, y_rem)}\")\n",
    "print(f\"Best accuracy on the test set: {fittedgrid_dt.score(X_test, y_test)}\")"
   ]
  },
  {
   "cell_type": "markdown",
   "metadata": {},
   "source": [
    "Our accuracies are, again, similar to each other. We have no issue with over/underfitting. The accuracies being in the 90s shows that it is very confident in predicting classes correctly. "
   ]
  },
  {
   "cell_type": "code",
   "execution_count": 145,
   "metadata": {},
   "outputs": [
    {
     "data": {
      "text/html": [
       "<div>\n",
       "<style scoped>\n",
       "    .dataframe tbody tr th:only-of-type {\n",
       "        vertical-align: middle;\n",
       "    }\n",
       "\n",
       "    .dataframe tbody tr th {\n",
       "        vertical-align: top;\n",
       "    }\n",
       "\n",
       "    .dataframe thead th {\n",
       "        text-align: right;\n",
       "    }\n",
       "</style>\n",
       "<table border=\"1\" class=\"dataframe\">\n",
       "  <thead>\n",
       "    <tr style=\"text-align: right;\">\n",
       "      <th></th>\n",
       "      <th>predicted 0</th>\n",
       "      <th>predicted 1</th>\n",
       "    </tr>\n",
       "  </thead>\n",
       "  <tbody>\n",
       "    <tr>\n",
       "      <th>true 0</th>\n",
       "      <td>45593</td>\n",
       "      <td>619</td>\n",
       "    </tr>\n",
       "    <tr>\n",
       "      <th>true 1</th>\n",
       "      <td>2100</td>\n",
       "      <td>891</td>\n",
       "    </tr>\n",
       "  </tbody>\n",
       "</table>\n",
       "</div>"
      ],
      "text/plain": [
       "        predicted 0  predicted 1\n",
       "true 0        45593          619\n",
       "true 1         2100          891"
      ]
     },
     "metadata": {},
     "output_type": "display_data"
    },
    {
     "data": {
      "text/html": [
       "<div>\n",
       "<style scoped>\n",
       "    .dataframe tbody tr th:only-of-type {\n",
       "        vertical-align: middle;\n",
       "    }\n",
       "\n",
       "    .dataframe tbody tr th {\n",
       "        vertical-align: top;\n",
       "    }\n",
       "\n",
       "    .dataframe thead th {\n",
       "        text-align: right;\n",
       "    }\n",
       "</style>\n",
       "<table border=\"1\" class=\"dataframe\">\n",
       "  <thead>\n",
       "    <tr style=\"text-align: right;\">\n",
       "      <th></th>\n",
       "      <th>predicted 0</th>\n",
       "      <th>predicted 1</th>\n",
       "    </tr>\n",
       "  </thead>\n",
       "  <tbody>\n",
       "    <tr>\n",
       "      <th>true 0</th>\n",
       "      <td>0.92663</td>\n",
       "      <td>0.012581</td>\n",
       "    </tr>\n",
       "    <tr>\n",
       "      <th>true 1</th>\n",
       "      <td>0.04268</td>\n",
       "      <td>0.018109</td>\n",
       "    </tr>\n",
       "  </tbody>\n",
       "</table>\n",
       "</div>"
      ],
      "text/plain": [
       "        predicted 0  predicted 1\n",
       "true 0      0.92663     0.012581\n",
       "true 1      0.04268     0.018109"
      ]
     },
     "metadata": {},
     "output_type": "display_data"
    },
    {
     "name": "stdout",
     "output_type": "stream",
     "text": [
      "Recall score: 29.79%\n",
      "Precision score: 59.01%\n",
      "F1 score: 39.59%\n"
     ]
    }
   ],
   "source": [
    "\n",
    "y_test_pred = fittedgrid_dt.predict(X_test)\n",
    "\n",
    "\n",
    "conmat = pd.DataFrame(\n",
    "    data = confusion_matrix(y_test, y_test_pred),\n",
    "    index = ['true 0', 'true 1'],\n",
    "    columns = ['predicted 0', 'predicted 1']\n",
    ")\n",
    "display(conmat)\n",
    "cmat_n = pd.DataFrame(\n",
    "    data = confusion_matrix(y_test, y_test_pred, normalize='all'),\n",
    "    index = ['true 0', 'true 1'],\n",
    "    columns = ['predicted 0', 'predicted 1'])\n",
    "    \n",
    "display(cmat_n)\n",
    "\n",
    "print(f'Recall score: {recall_score(y_test, y_test_pred)*100:0.2f}%')\n",
    "print(f'Precision score: {precision_score(y_test, y_test_pred)*100:0.2f}%')\n",
    "print(f'F1 score: {f1_score(y_test, y_test_pred)*100:0.2f}%')"
   ]
  },
  {
   "cell_type": "code",
   "execution_count": 34,
   "metadata": {},
   "outputs": [],
   "source": [
    "# save the results \n",
    "best_dt_recall = round(recall_score(y_test, y_test_pred)*100, 2)\n",
    "best_dt_precision = round(precision_score(y_test, y_test_pred)*100, 2)\n",
    "best_dt_f1 = round(f1_score(y_test, y_test_pred)*100, 2)\n",
    "best_dt_accu = round(fittedgrid_dt.score(X_test, y_test)*100,2)"
   ]
  },
  {
   "cell_type": "markdown",
   "metadata": {},
   "source": [
    "Our recall score is 29.79%. This model is only a bit better at classifying '1's than our logistic regression models.\n",
    "The precision is around 60%, so more than half of its '1' predictions were correct.   "
   ]
  },
  {
   "cell_type": "markdown",
   "metadata": {},
   "source": [
    "ROC"
   ]
  },
  {
   "cell_type": "code",
   "execution_count": 177,
   "metadata": {},
   "outputs": [
    {
     "name": "stdout",
     "output_type": "stream",
     "text": [
      "Threshold of 0.5:\n",
      "Precision score: 0.590066225165563\n",
      "Recall score: 0.2978936810431294 \n",
      "\n",
      "Threshold of 0.8:\n",
      "Precision score: 0.0\n",
      "Recall score: 0.0\n"
     ]
    }
   ],
   "source": [
    "y_proba_dt = fittedgrid_dt.best_estimator_.predict_proba(X_test)[:,1]\n",
    "\n",
    "# precision and recall for default (0.5) cut-off\n",
    "y_threshold = np.where(y_proba_dt > 0.5, 1, 0)\n",
    "\n",
    "print(\"Threshold of 0.5:\")\n",
    "print(f\"Precision score: {precision_score(y_test, y_threshold)}\")\n",
    "print(f\"Recall score: {recall_score(y_test, y_threshold)}\",'\\n')\n",
    "\n",
    "\n",
    "# higher cut-off (0.8)\n",
    "y_threshold = np.where(y_proba_dt > 0.8, 1, 0)\n",
    "\n",
    "print(\"Threshold of 0.8:\")\n",
    "print(f\"Precision score: {precision_score(y_test, y_threshold)}\")\n",
    "print(f\"Recall score: {recall_score(y_test, y_threshold)}\")\n"
   ]
  },
  {
   "cell_type": "markdown",
   "metadata": {},
   "source": [
    "We can see that this model had no predictions if we increased the threshold."
   ]
  },
  {
   "cell_type": "code",
   "execution_count": 182,
   "metadata": {},
   "outputs": [],
   "source": [
    "\n",
    "fprs_dt, tprs_dt, thresholds_dt = roc_curve(y_test, y_proba_dt)\n",
    "roc_auc_dt = roc_auc_score(y_test, y_proba)"
   ]
  },
  {
   "cell_type": "markdown",
   "metadata": {},
   "source": [
    "___\n",
    "\n",
    "### 4 SMOTE"
   ]
  },
  {
   "cell_type": "markdown",
   "metadata": {},
   "source": [
    "As we saw in EDA, the actual proportion of 'HadAngina' in our target column was very small. To try and combat this we can sample our data, either using Upsampling, Downsampling or SMOTE. Here, I will be using SMOTE to create 'fake' data points by interpolating between datapoints. I hope to see model performances increase as they can learn better from having a more balanced dataset. "
   ]
  },
  {
   "cell_type": "code",
   "execution_count": 35,
   "metadata": {},
   "outputs": [],
   "source": [
    "from imblearn.over_sampling import SMOTE"
   ]
  },
  {
   "cell_type": "code",
   "execution_count": 36,
   "metadata": {},
   "outputs": [],
   "source": [
    "X_rem_sm, y_rem_sm = SMOTE(random_state=1).fit_resample(X_rem, y_rem)"
   ]
  },
  {
   "cell_type": "code",
   "execution_count": 37,
   "metadata": {},
   "outputs": [
    {
     "name": "stdout",
     "output_type": "stream",
     "text": [
      "Original class distribution\n"
     ]
    },
    {
     "data": {
      "text/plain": [
       "HadAngina\n",
       "0    184848\n",
       "1     11962\n",
       "Name: count, dtype: int64"
      ]
     },
     "metadata": {},
     "output_type": "display_data"
    },
    {
     "name": "stdout",
     "output_type": "stream",
     "text": [
      "\n",
      "Resampled class distribution\n"
     ]
    },
    {
     "data": {
      "text/plain": [
       "HadAngina\n",
       "0    184848\n",
       "1    184848\n",
       "Name: count, dtype: int64"
      ]
     },
     "metadata": {},
     "output_type": "display_data"
    }
   ],
   "source": [
    "print('Original class distribution')\n",
    "display(pd.Series(y_rem).value_counts().sort_index())\n",
    "\n",
    "print('\\nResampled class distribution')\n",
    "display(pd.Series(y_rem_sm).value_counts().sort_index())"
   ]
  },
  {
   "cell_type": "markdown",
   "metadata": {},
   "source": [
    "SMOTE has inflated our '1' distribution to now be equal with the number of '0's."
   ]
  },
  {
   "cell_type": "markdown",
   "metadata": {},
   "source": [
    "#### 4.1 LogReg\n",
    "\n",
    "Repeating the previous steps again but this time fitting with our new balanced remainder set."
   ]
  },
  {
   "cell_type": "code",
   "execution_count": 42,
   "metadata": {},
   "outputs": [],
   "source": [
    "pipe = Pipeline([(\"scaler\", StandardScaler()),\n",
    "                 (\"model\", LogisticRegression())], memory=cachedir)\n",
    "log_reg_param = [\n",
    "\n",
    "    {'scaler': [ StandardScaler()],\n",
    "     'model': [LogisticRegression(solver='saga',random_state=1, n_jobs=-1, max_iter=10000)], \n",
    "     'model__C': c_values,\n",
    "     'model__penalty': ['l1', 'l2'],\n",
    "    }\n",
    "]\n",
    "\n",
    "grid_sm = GridSearchCV(estimator=pipe,param_grid=log_reg_param, cv=5,verbose=1,refit=True)"
   ]
  },
  {
   "cell_type": "code",
   "execution_count": 43,
   "metadata": {},
   "outputs": [
    {
     "name": "stdout",
     "output_type": "stream",
     "text": [
      "Fitting 5 folds for each of 18 candidates, totalling 90 fits\n"
     ]
    }
   ],
   "source": [
    "fittedgrid_lr_sm = grid_sm.fit(X_rem_sm,y_rem_sm)"
   ]
  },
  {
   "cell_type": "code",
   "execution_count": 44,
   "metadata": {},
   "outputs": [
    {
     "data": {
      "text/plain": [
       "{'model': LogisticRegression(C=0.01, max_iter=10000, n_jobs=-1, penalty='l1',\n",
       "                    random_state=1, solver='saga'),\n",
       " 'model__C': 0.01,\n",
       " 'model__penalty': 'l1',\n",
       " 'scaler': StandardScaler()}"
      ]
     },
     "execution_count": 44,
     "metadata": {},
     "output_type": "execute_result"
    }
   ],
   "source": [
    "fittedgrid_lr_sm.best_params_"
   ]
  },
  {
   "cell_type": "markdown",
   "metadata": {},
   "source": [
    "The gridsearch has chosen the same parameters as our other logistic regression model."
   ]
  },
  {
   "cell_type": "markdown",
   "metadata": {},
   "source": [
    "Model Interpretation"
   ]
  },
  {
   "cell_type": "code",
   "execution_count": 107,
   "metadata": {},
   "outputs": [],
   "source": [
    "coef_sm = fittedgrid_lr_sm.best_estimator_.named_steps[\"model\"].coef_.flatten()"
   ]
  },
  {
   "cell_type": "code",
   "execution_count": 108,
   "metadata": {},
   "outputs": [],
   "source": [
    "coef_sm_df = pd.DataFrame({'Variable': X_rem.columns, 'Coefficients': coef_sm})\n",
    "\n",
    "coef_sm_df.sort_values(by='Coefficients', ascending=False, inplace=True)\n"
   ]
  },
  {
   "cell_type": "code",
   "execution_count": 112,
   "metadata": {},
   "outputs": [
    {
     "data": {
      "image/png": "[encoded data removed]",
      "text/plain": [
       "<Figure size 1400x1000 with 1 Axes>"
      ]
     },
     "metadata": {},
     "output_type": "display_data"
    }
   ],
   "source": [
    "plt.figure(figsize=(14,10))\n",
    "\n",
    "plt.barh(coef_sm_df['Variable'], coef_sm_df['Coefficients'])\n",
    "\n",
    "sns.despine()\n"
   ]
  },
  {
   "cell_type": "code",
   "execution_count": 113,
   "metadata": {},
   "outputs": [
    {
     "data": {
      "text/html": [
       "<div>\n",
       "<style scoped>\n",
       "    .dataframe tbody tr th:only-of-type {\n",
       "        vertical-align: middle;\n",
       "    }\n",
       "\n",
       "    .dataframe tbody tr th {\n",
       "        vertical-align: top;\n",
       "    }\n",
       "\n",
       "    .dataframe thead th {\n",
       "        text-align: right;\n",
       "    }\n",
       "</style>\n",
       "<table border=\"1\" class=\"dataframe\">\n",
       "  <thead>\n",
       "    <tr style=\"text-align: right;\">\n",
       "      <th></th>\n",
       "      <th>Variable</th>\n",
       "      <th>Coefficients</th>\n",
       "    </tr>\n",
       "  </thead>\n",
       "  <tbody>\n",
       "    <tr>\n",
       "      <th>8</th>\n",
       "      <td>HadHeartAttack</td>\n",
       "      <td>0.712003</td>\n",
       "    </tr>\n",
       "    <tr>\n",
       "      <th>26</th>\n",
       "      <td>AgeCategory</td>\n",
       "      <td>0.643284</td>\n",
       "    </tr>\n",
       "    <tr>\n",
       "      <th>1</th>\n",
       "      <td>GeneralHealth</td>\n",
       "      <td>0.403249</td>\n",
       "    </tr>\n",
       "    <tr>\n",
       "      <th>3</th>\n",
       "      <td>MentalHealthDays</td>\n",
       "      <td>0.304694</td>\n",
       "    </tr>\n",
       "    <tr>\n",
       "      <th>2</th>\n",
       "      <td>PhysicalHealthDays</td>\n",
       "      <td>0.279000</td>\n",
       "    </tr>\n",
       "  </tbody>\n",
       "</table>\n",
       "</div>"
      ],
      "text/plain": [
       "              Variable  Coefficients\n",
       "8       HadHeartAttack      0.712003\n",
       "26         AgeCategory      0.643284\n",
       "1        GeneralHealth      0.403249\n",
       "3     MentalHealthDays      0.304694\n",
       "2   PhysicalHealthDays      0.279000"
      ]
     },
     "execution_count": 113,
     "metadata": {},
     "output_type": "execute_result"
    }
   ],
   "source": [
    "coef_sm_df.head()"
   ]
  },
  {
   "cell_type": "markdown",
   "metadata": {},
   "source": [
    "For this model, HadHeartAttack is the coefficient with the most impact in predicting heart disease. We can see that if you are female, your risk of developing Angina is lowered but this time it has a stronger negative coefficient."
   ]
  },
  {
   "cell_type": "markdown",
   "metadata": {},
   "source": [
    "Model Evaluation "
   ]
  },
  {
   "cell_type": "code",
   "execution_count": 146,
   "metadata": {},
   "outputs": [
    {
     "name": "stdout",
     "output_type": "stream",
     "text": [
      "Best accuracy on the remainder set: 0.8445209036613867\n",
      "Best accuracy on the test set: 0.8155600268276325\n"
     ]
    },
    {
     "data": {
      "text/html": [
       "<div>\n",
       "<style scoped>\n",
       "    .dataframe tbody tr th:only-of-type {\n",
       "        vertical-align: middle;\n",
       "    }\n",
       "\n",
       "    .dataframe tbody tr th {\n",
       "        vertical-align: top;\n",
       "    }\n",
       "\n",
       "    .dataframe thead th {\n",
       "        text-align: right;\n",
       "    }\n",
       "</style>\n",
       "<table border=\"1\" class=\"dataframe\">\n",
       "  <thead>\n",
       "    <tr style=\"text-align: right;\">\n",
       "      <th></th>\n",
       "      <th>predicted 0</th>\n",
       "      <th>predicted 1</th>\n",
       "    </tr>\n",
       "  </thead>\n",
       "  <tbody>\n",
       "    <tr>\n",
       "      <th>true 0</th>\n",
       "      <td>38403</td>\n",
       "      <td>7809</td>\n",
       "    </tr>\n",
       "    <tr>\n",
       "      <th>true 1</th>\n",
       "      <td>1266</td>\n",
       "      <td>1725</td>\n",
       "    </tr>\n",
       "  </tbody>\n",
       "</table>\n",
       "</div>"
      ],
      "text/plain": [
       "        predicted 0  predicted 1\n",
       "true 0        38403         7809\n",
       "true 1         1266         1725"
      ]
     },
     "metadata": {},
     "output_type": "display_data"
    },
    {
     "data": {
      "text/html": [
       "<div>\n",
       "<style scoped>\n",
       "    .dataframe tbody tr th:only-of-type {\n",
       "        vertical-align: middle;\n",
       "    }\n",
       "\n",
       "    .dataframe tbody tr th {\n",
       "        vertical-align: top;\n",
       "    }\n",
       "\n",
       "    .dataframe thead th {\n",
       "        text-align: right;\n",
       "    }\n",
       "</style>\n",
       "<table border=\"1\" class=\"dataframe\">\n",
       "  <thead>\n",
       "    <tr style=\"text-align: right;\">\n",
       "      <th></th>\n",
       "      <th>predicted 0</th>\n",
       "      <th>predicted 1</th>\n",
       "    </tr>\n",
       "  </thead>\n",
       "  <tbody>\n",
       "    <tr>\n",
       "      <th>true 0</th>\n",
       "      <td>0.780501</td>\n",
       "      <td>0.158710</td>\n",
       "    </tr>\n",
       "    <tr>\n",
       "      <th>true 1</th>\n",
       "      <td>0.025730</td>\n",
       "      <td>0.035059</td>\n",
       "    </tr>\n",
       "  </tbody>\n",
       "</table>\n",
       "</div>"
      ],
      "text/plain": [
       "        predicted 0  predicted 1\n",
       "true 0     0.780501     0.158710\n",
       "true 1     0.025730     0.035059"
      ]
     },
     "metadata": {},
     "output_type": "display_data"
    },
    {
     "name": "stdout",
     "output_type": "stream",
     "text": [
      "Recall score: 57.67%\n",
      "Precision score: 18.09%\n",
      "F1 score: 27.54%\n"
     ]
    }
   ],
   "source": [
    "\n",
    "print(f\"Best accuracy on the remainder set: {fittedgrid_lr_sm.score(X_rem_sm, y_rem_sm)}\")\n",
    "print(f\"Best accuracy on the test set: {fittedgrid_lr_sm.score(X_test, y_test)}\")\n",
    "\n",
    "\n",
    "y_test_pred = fittedgrid_lr_sm.predict(X_test)\n",
    "\n",
    "conmat = pd.DataFrame(\n",
    "    data = confusion_matrix(y_test, y_test_pred),\n",
    "    index = ['true 0', 'true 1'],\n",
    "    columns = ['predicted 0', 'predicted 1']\n",
    ")\n",
    "display(conmat)\n",
    "\n",
    "cmat_n = pd.DataFrame(\n",
    "    data = confusion_matrix(y_test, y_test_pred, normalize='all'),\n",
    "    index = ['true 0', 'true 1'],\n",
    "    columns = ['predicted 0', 'predicted 1'])\n",
    "    \n",
    "display(cmat_n)\n",
    "\n",
    "print(f'Recall score: {recall_score(y_test, y_test_pred)*100:0.2f}%')\n",
    "print(f'Precision score: {precision_score(y_test, y_test_pred)*100:0.2f}%')\n",
    "print(f'F1 score: {f1_score(y_test, y_test_pred)*100:0.2f}%')"
   ]
  },
  {
   "cell_type": "code",
   "execution_count": 47,
   "metadata": {},
   "outputs": [],
   "source": [
    "# save the results \n",
    "best_lr_sm_recall = round(recall_score(y_test, y_test_pred)*100, 2)\n",
    "best_lr_sm_precision = round(precision_score(y_test, y_test_pred)*100, 2)\n",
    "best_lr_sm_f1 = round(f1_score(y_test, y_test_pred)*100, 2)\n",
    "best_lr_sm_accu = round(fittedgrid_lr_sm.score(X_test, y_test)*100,2)"
   ]
  },
  {
   "cell_type": "markdown",
   "metadata": {},
   "source": [
    "Although the accuracy has dropped, I can see an increase in our recall. The model became more familiar with cases that are classed as '1'  and can recognise it. However, our precision has fallen quite a bit, which shows that the model is not  predicting correctly. I can try to investigate further and make more changes to find a model with a better recall score."
   ]
  },
  {
   "cell_type": "code",
   "execution_count": 183,
   "metadata": {},
   "outputs": [
    {
     "name": "stdout",
     "output_type": "stream",
     "text": [
      "Threshold of 0.5:\n",
      "Precision score: 18.09%\n",
      "Recall score: 57.67% \n",
      "\n",
      "Threshold of 0.8:\n",
      "Precision score: 29.83%\n",
      "Recall score: 31.36%\n"
     ]
    }
   ],
   "source": [
    "y_proba_lr_sm = fittedgrid_lr_sm.best_estimator_.predict_proba(X_test)[:,1]\n",
    "\n",
    "# precision and recall for default (0.5) cut-off\n",
    "y_threshold = np.where(y_proba_lr_sm > 0.5, 1, 0)\n",
    "\n",
    "print(\"Threshold of 0.5:\")\n",
    "print(f\"Precision score: {precision_score(y_test, y_threshold)*100:0.2f}%\")\n",
    "print(f\"Recall score: {recall_score(y_test, y_threshold)*100:0.2f}%\",'\\n')\n",
    "\n",
    "\n",
    "# higher cut-off (0.8)\n",
    "y_threshold = np.where(y_proba_lr_sm > 0.8, 1, 0)\n",
    "\n",
    "print(\"Threshold of 0.8:\")\n",
    "print(f\"Precision score: {precision_score(y_test, y_threshold)*100:0.2f}%\")\n",
    "print(f\"Recall score: {recall_score(y_test, y_threshold)*100:0.2f}%\")"
   ]
  },
  {
   "cell_type": "markdown",
   "metadata": {},
   "source": [
    "We can see that if we increase our threshold, our precision increases slightly but our recall goes down."
   ]
  },
  {
   "cell_type": "code",
   "execution_count": 185,
   "metadata": {},
   "outputs": [],
   "source": [
    "fprs_lr_sm, tprs_lr_sm, thresholds_lr_sm = roc_curve(y_test, y_proba_lr_sm)\n",
    "roc_auc_lr_sm = roc_auc_score(y_test, y_proba_lr_sm)\n"
   ]
  },
  {
   "cell_type": "markdown",
   "metadata": {},
   "source": [
    "#### 4.2 DT\n",
    "\n",
    "Fitting a decision tree with our balanced data."
   ]
  },
  {
   "cell_type": "code",
   "execution_count": 48,
   "metadata": {},
   "outputs": [],
   "source": [
    "pipe = Pipeline([(\"scaler\", StandardScaler()),\n",
    "                 (\"dt_model\", DecisionTreeClassifier())], memory=cachedir)\n",
    "\n",
    "dt_param  = {\"scaler\":[StandardScaler(), None],\n",
    "            \"dt_model__max_depth\": [None, 2, 4, 6, 8,10],\n",
    "            \"dt_model__min_samples_leaf\": [2, 5, 10] }\n",
    "\n",
    "\n",
    "grid_sm = GridSearchCV(estimator=pipe,param_grid=dt_param, cv=5,verbose=1,refit=True)"
   ]
  },
  {
   "cell_type": "code",
   "execution_count": 49,
   "metadata": {},
   "outputs": [
    {
     "name": "stdout",
     "output_type": "stream",
     "text": [
      "Fitting 5 folds for each of 36 candidates, totalling 180 fits\n"
     ]
    }
   ],
   "source": [
    "fittedgrid_dt_sm = grid_sm.fit(X_rem_sm,y_rem_sm)"
   ]
  },
  {
   "cell_type": "code",
   "execution_count": 50,
   "metadata": {},
   "outputs": [
    {
     "data": {
      "text/plain": [
       "{'dt_model__max_depth': None, 'dt_model__min_samples_leaf': 2, 'scaler': None}"
      ]
     },
     "execution_count": 50,
     "metadata": {},
     "output_type": "execute_result"
    }
   ],
   "source": [
    "fittedgrid_dt_sm.best_params_"
   ]
  },
  {
   "cell_type": "markdown",
   "metadata": {},
   "source": [
    "For this decision tree model, our data does not need to be scaled. We have no max depth but min sample leaf is set to 2."
   ]
  },
  {
   "cell_type": "markdown",
   "metadata": {},
   "source": [
    "Model Interpretation"
   ]
  },
  {
   "cell_type": "code",
   "execution_count": null,
   "metadata": {},
   "outputs": [
    {
     "data": {
      "text/plain": [
       "<Axes: >"
      ]
     },
     "execution_count": 114,
     "metadata": {},
     "output_type": "execute_result"
    },
    {
     "data": {
      "image/png": "[encoded data removed]",
      "text/plain": [
       "<Figure size 800x600 with 1 Axes>"
      ]
     },
     "metadata": {},
     "output_type": "display_data"
    }
   ],
   "source": [
    "\n",
    "feat_sm_importances = pd.DataFrame({'Feature': X_rem_sm.columns, 'Importance': fittedgrid_dt_sm.best_estimator_.named_steps[\"dt_model\"].feature_importances_,})\n",
    "feat_sm_importances.sort_values(by='Importance', ascending=False, inplace=True)\n",
    "feat_sm_importances.plot(kind='bar', figsize=(8,6))"
   ]
  },
  {
   "cell_type": "code",
   "execution_count": 199,
   "metadata": {},
   "outputs": [
    {
     "data": {
      "text/html": [
       "<div>\n",
       "<style scoped>\n",
       "    .dataframe tbody tr th:only-of-type {\n",
       "        vertical-align: middle;\n",
       "    }\n",
       "\n",
       "    .dataframe tbody tr th {\n",
       "        vertical-align: top;\n",
       "    }\n",
       "\n",
       "    .dataframe thead th {\n",
       "        text-align: right;\n",
       "    }\n",
       "</style>\n",
       "<table border=\"1\" class=\"dataframe\">\n",
       "  <thead>\n",
       "    <tr style=\"text-align: right;\">\n",
       "      <th></th>\n",
       "      <th>Feature</th>\n",
       "      <th>Importance</th>\n",
       "    </tr>\n",
       "  </thead>\n",
       "  <tbody>\n",
       "    <tr>\n",
       "      <th>26</th>\n",
       "      <td>AgeCategory</td>\n",
       "      <td>0.194846</td>\n",
       "    </tr>\n",
       "    <tr>\n",
       "      <th>27</th>\n",
       "      <td>HeightInMeters</td>\n",
       "      <td>0.131698</td>\n",
       "    </tr>\n",
       "    <tr>\n",
       "      <th>6</th>\n",
       "      <td>SleepHours</td>\n",
       "      <td>0.085791</td>\n",
       "    </tr>\n",
       "    <tr>\n",
       "      <th>8</th>\n",
       "      <td>HadHeartAttack</td>\n",
       "      <td>0.074306</td>\n",
       "    </tr>\n",
       "    <tr>\n",
       "      <th>28</th>\n",
       "      <td>WeightInKilograms</td>\n",
       "      <td>0.051775</td>\n",
       "    </tr>\n",
       "  </tbody>\n",
       "</table>\n",
       "</div>"
      ],
      "text/plain": [
       "              Feature  Importance\n",
       "26        AgeCategory    0.194846\n",
       "27     HeightInMeters    0.131698\n",
       "6          SleepHours    0.085791\n",
       "8      HadHeartAttack    0.074306\n",
       "28  WeightInKilograms    0.051775"
      ]
     },
     "execution_count": 199,
     "metadata": {},
     "output_type": "execute_result"
    }
   ],
   "source": [
    "feat_sm_importances.head()"
   ]
  },
  {
   "cell_type": "markdown",
   "metadata": {},
   "source": [
    "We can see that for our DecisionTree, the most important feature is what AgeCategory a person falls into."
   ]
  },
  {
   "cell_type": "markdown",
   "metadata": {},
   "source": [
    "Model Evaluation  "
   ]
  },
  {
   "cell_type": "code",
   "execution_count": 147,
   "metadata": {},
   "outputs": [
    {
     "name": "stdout",
     "output_type": "stream",
     "text": [
      "Best accuracy on the remainder set: 0.9844331558902449\n",
      "Best accuracy on the test set: 0.8894376359165092\n"
     ]
    },
    {
     "data": {
      "text/html": [
       "<div>\n",
       "<style scoped>\n",
       "    .dataframe tbody tr th:only-of-type {\n",
       "        vertical-align: middle;\n",
       "    }\n",
       "\n",
       "    .dataframe tbody tr th {\n",
       "        vertical-align: top;\n",
       "    }\n",
       "\n",
       "    .dataframe thead th {\n",
       "        text-align: right;\n",
       "    }\n",
       "</style>\n",
       "<table border=\"1\" class=\"dataframe\">\n",
       "  <thead>\n",
       "    <tr style=\"text-align: right;\">\n",
       "      <th></th>\n",
       "      <th>predicted 0</th>\n",
       "      <th>predicted 1</th>\n",
       "    </tr>\n",
       "  </thead>\n",
       "  <tbody>\n",
       "    <tr>\n",
       "      <th>true 0</th>\n",
       "      <td>42801</td>\n",
       "      <td>3411</td>\n",
       "    </tr>\n",
       "    <tr>\n",
       "      <th>true 1</th>\n",
       "      <td>2029</td>\n",
       "      <td>962</td>\n",
       "    </tr>\n",
       "  </tbody>\n",
       "</table>\n",
       "</div>"
      ],
      "text/plain": [
       "        predicted 0  predicted 1\n",
       "true 0        42801         3411\n",
       "true 1         2029          962"
      ]
     },
     "metadata": {},
     "output_type": "display_data"
    },
    {
     "data": {
      "text/html": [
       "<div>\n",
       "<style scoped>\n",
       "    .dataframe tbody tr th:only-of-type {\n",
       "        vertical-align: middle;\n",
       "    }\n",
       "\n",
       "    .dataframe tbody tr th {\n",
       "        vertical-align: top;\n",
       "    }\n",
       "\n",
       "    .dataframe thead th {\n",
       "        text-align: right;\n",
       "    }\n",
       "</style>\n",
       "<table border=\"1\" class=\"dataframe\">\n",
       "  <thead>\n",
       "    <tr style=\"text-align: right;\">\n",
       "      <th></th>\n",
       "      <th>predicted 0</th>\n",
       "      <th>predicted 1</th>\n",
       "    </tr>\n",
       "  </thead>\n",
       "  <tbody>\n",
       "    <tr>\n",
       "      <th>true 0</th>\n",
       "      <td>0.869886</td>\n",
       "      <td>0.069325</td>\n",
       "    </tr>\n",
       "    <tr>\n",
       "      <th>true 1</th>\n",
       "      <td>0.041237</td>\n",
       "      <td>0.019552</td>\n",
       "    </tr>\n",
       "  </tbody>\n",
       "</table>\n",
       "</div>"
      ],
      "text/plain": [
       "        predicted 0  predicted 1\n",
       "true 0     0.869886     0.069325\n",
       "true 1     0.041237     0.019552"
      ]
     },
     "metadata": {},
     "output_type": "display_data"
    },
    {
     "name": "stdout",
     "output_type": "stream",
     "text": [
      "Recall score: 32.16%\n",
      "Precision score: 22.00%\n",
      "F1 score: 26.13%\n"
     ]
    }
   ],
   "source": [
    "print(f\"Best accuracy on the remainder set: {fittedgrid_dt_sm.score(X_rem_sm, y_rem_sm)}\")\n",
    "print(f\"Best accuracy on the test set: {fittedgrid_dt_sm.score(X_test, y_test)}\")\n",
    "\n",
    "\n",
    "y_test_pred = fittedgrid_dt_sm.predict(X_test)\n",
    "\n",
    "\n",
    "conmat = pd.DataFrame(\n",
    "    data = confusion_matrix(y_test, y_test_pred),\n",
    "    index = ['true 0', 'true 1'],\n",
    "    columns = ['predicted 0', 'predicted 1']\n",
    ")\n",
    "display(conmat)\n",
    "\n",
    "cmat_n = pd.DataFrame(\n",
    "    data = confusion_matrix(y_test, y_test_pred, normalize='all'),\n",
    "    index = ['true 0', 'true 1'],\n",
    "    columns = ['predicted 0', 'predicted 1'])\n",
    "    \n",
    "display(cmat_n)\n",
    "\n",
    "print(f'Recall score: {recall_score(y_test, y_test_pred)*100:0.2f}%')\n",
    "print(f'Precision score: {precision_score(y_test, y_test_pred)*100:0.2f}%')\n",
    "print(f'F1 score: {f1_score(y_test, y_test_pred)*100:0.2f}%')"
   ]
  },
  {
   "cell_type": "code",
   "execution_count": 55,
   "metadata": {},
   "outputs": [],
   "source": [
    "# save the results \n",
    "best_dt_sm_recall = round(recall_score(y_test, y_test_pred)*100, 2)\n",
    "best_dt_sm_precision = round(precision_score(y_test, y_test_pred)*100, 2)\n",
    "best_dt_sm_f1 = round(f1_score(y_test, y_test_pred)*100, 2)\n",
    "best_dt_sm_accu = round(fittedgrid_dt_sm.score(X_test, y_test)*100,2)"
   ]
  },
  {
   "cell_type": "markdown",
   "metadata": {},
   "source": [
    "Theres a slight difference in our train and test accuracies, indicating that the model has overfitted to the train data. This is a problem, if I were to use new unseen data, the model would not be able to perform well as it has fitted to a specfic case.\n",
    "\n",
    "There is an increase in our recall score compared to our previous decision tree model. So we can see that SMOTE does help with prediction.\n",
    "\n",
    "But our precision score has dropped again. With SMOTE, we can see that it does improve our recall scores as it gives the model more datapoints to learn from but it does sacrifice our precision."
   ]
  },
  {
   "cell_type": "markdown",
   "metadata": {},
   "source": [
    "ROC"
   ]
  },
  {
   "cell_type": "code",
   "execution_count": 200,
   "metadata": {},
   "outputs": [
    {
     "name": "stdout",
     "output_type": "stream",
     "text": [
      "Threshold of 0.5:\n",
      "Precision score: 22.00%\n",
      "Recall score: 32.16% \n",
      "\n",
      "Threshold of 0.8:\n",
      "Precision score: 22.80%\n",
      "Recall score: 30.29%\n"
     ]
    }
   ],
   "source": [
    "y_proba_dt_sm = fittedgrid_dt_sm.best_estimator_.predict_proba(X_test)[:,1]\n",
    "\n",
    "# precision and recall for default (0.5) cut-off\n",
    "y_threshold = np.where(y_proba_dt_sm > 0.5, 1, 0)\n",
    "\n",
    "print(\"Threshold of 0.5:\")\n",
    "print(f\"Precision score: {precision_score(y_test, y_threshold)*100:0.2f}%\")\n",
    "print(f\"Recall score: {recall_score(y_test, y_threshold)*100:0.2f}%\",'\\n')\n",
    "\n",
    "\n",
    "# higher cut-off (0.8)\n",
    "y_threshold = np.where(y_proba_dt_sm > 0.8, 1, 0)\n",
    "\n",
    "print(\"Threshold of 0.8:\")\n",
    "print(f\"Precision score: {precision_score(y_test, y_threshold)*100:0.2f}%\")\n",
    "print(f\"Recall score: {recall_score(y_test, y_threshold)*100:0.2f}%\")\n"
   ]
  },
  {
   "cell_type": "markdown",
   "metadata": {},
   "source": [
    "Increasing the probability threshold did not make a big change to the models predictions."
   ]
  },
  {
   "cell_type": "code",
   "execution_count": 201,
   "metadata": {},
   "outputs": [],
   "source": [
    "fprs_dt_sm, tprs_dt_sm, thresholds_dt_sm = roc_curve(y_test, y_proba_dt_sm)\n",
    "roc_auc_dt_sm = roc_auc_score(y_test, y_proba_dt_sm)"
   ]
  },
  {
   "cell_type": "markdown",
   "metadata": {},
   "source": [
    "___\n",
    "\n",
    "\n",
    "Conclusion"
   ]
  },
  {
   "cell_type": "code",
   "execution_count": 220,
   "metadata": {},
   "outputs": [],
   "source": [
    "data = {'F1 score' :[baseline_logreg_f1,best_lr_f1,best_dt_f1,best_lr_sm_f1,best_dt_sm_f1],\n",
    "     'Recall score':[baseline_logreg_recall,best_lr_recall,best_dt_recall,best_lr_sm_recall,best_dt_sm_recall], \n",
    "     'Precision score':[baseline_logreg_precision,best_lr_precision,best_dt_precision,best_lr_sm_precision,best_dt_sm_precision],\n",
    "      'Accuracy':[baseline_logreg_accu,best_lr_accu,best_dt_accu,best_lr_sm_accu,best_dt_sm_accu]}\n",
    "\n",
    "\n",
    "scores = pd.DataFrame(\n",
    "    data = data,\n",
    "    index = ['Basline LogReg', 'Best LogReg', 'Best DT','Best SMOTE LogReg', 'Best SMOTE DT' ],\n",
    "    columns = ['F1 score','Recall score', 'Precision score', 'Accuracy']\n",
    ")"
   ]
  },
  {
   "cell_type": "markdown",
   "metadata": {},
   "source": [
    "Here is a table that compares the F1, Recall, Precision and Test Accuracy for each model."
   ]
  },
  {
   "cell_type": "code",
   "execution_count": 221,
   "metadata": {},
   "outputs": [
    {
     "data": {
      "text/html": [
       "<div>\n",
       "<style scoped>\n",
       "    .dataframe tbody tr th:only-of-type {\n",
       "        vertical-align: middle;\n",
       "    }\n",
       "\n",
       "    .dataframe tbody tr th {\n",
       "        vertical-align: top;\n",
       "    }\n",
       "\n",
       "    .dataframe thead th {\n",
       "        text-align: right;\n",
       "    }\n",
       "</style>\n",
       "<table border=\"1\" class=\"dataframe\">\n",
       "  <thead>\n",
       "    <tr style=\"text-align: right;\">\n",
       "      <th></th>\n",
       "      <th>F1 score</th>\n",
       "      <th>Recall score</th>\n",
       "      <th>Precision score</th>\n",
       "      <th>Accuracy</th>\n",
       "    </tr>\n",
       "  </thead>\n",
       "  <tbody>\n",
       "    <tr>\n",
       "      <th>Basline LogReg</th>\n",
       "      <td>37.96</td>\n",
       "      <td>27.92</td>\n",
       "      <td>59.30</td>\n",
       "      <td>94.45</td>\n",
       "    </tr>\n",
       "    <tr>\n",
       "      <th>Best LogReg</th>\n",
       "      <td>37.96</td>\n",
       "      <td>27.78</td>\n",
       "      <td>59.91</td>\n",
       "      <td>94.48</td>\n",
       "    </tr>\n",
       "    <tr>\n",
       "      <th>Best DT</th>\n",
       "      <td>39.59</td>\n",
       "      <td>29.79</td>\n",
       "      <td>59.01</td>\n",
       "      <td>94.47</td>\n",
       "    </tr>\n",
       "    <tr>\n",
       "      <th>Best SMOTE LogReg</th>\n",
       "      <td>27.54</td>\n",
       "      <td>57.67</td>\n",
       "      <td>18.09</td>\n",
       "      <td>81.56</td>\n",
       "    </tr>\n",
       "    <tr>\n",
       "      <th>Best SMOTE DT</th>\n",
       "      <td>26.13</td>\n",
       "      <td>32.16</td>\n",
       "      <td>22.00</td>\n",
       "      <td>88.94</td>\n",
       "    </tr>\n",
       "  </tbody>\n",
       "</table>\n",
       "</div>"
      ],
      "text/plain": [
       "                   F1 score  Recall score  Precision score  Accuracy\n",
       "Basline LogReg        37.96         27.92            59.30     94.45\n",
       "Best LogReg           37.96         27.78            59.91     94.48\n",
       "Best DT               39.59         29.79            59.01     94.47\n",
       "Best SMOTE LogReg     27.54         57.67            18.09     81.56\n",
       "Best SMOTE DT         26.13         32.16            22.00     88.94"
      ]
     },
     "execution_count": 221,
     "metadata": {},
     "output_type": "execute_result"
    }
   ],
   "source": [
    "scores"
   ]
  },
  {
   "cell_type": "markdown",
   "metadata": {},
   "source": [
    "Before sampling, my best model would have been my baseline Logistic Regression model. After sampling, I found that my recall improves, which is what I ultimately want. In future notebooks, I will be looking at modelling with PCA, and also trying out ensemble learning with RandomForestClassifier models. \n",
    "I will have to look into different combinations for my model that would give me a good recall score but also not affect the precision as much.\n"
   ]
  },
  {
   "cell_type": "code",
   "execution_count": 222,
   "metadata": {},
   "outputs": [
    {
     "data": {
      "image/png": "[encoded data removed]",
      "text/plain": [
       "<Figure size 640x480 with 1 Axes>"
      ]
     },
     "metadata": {},
     "output_type": "display_data"
    },
    {
     "name": "stdout",
     "output_type": "stream",
     "text": [
      "Area under curve (AUC) Baseline:0.8144726093801182\n",
      "Area under curve (AUC) Best LogReg:0.8967212595980619\n",
      "Area under curve (AUC) Best DT:0.8144726093801182\n",
      "Area under curve (AUC) Best LR SMOTE:0.7819396112107927\n",
      "Area under curve (AUC) Best DT SMOTE:0.6604517453222357\n",
      "\n"
     ]
    }
   ],
   "source": [
    "plt.figure()\n",
    "\n",
    "plt.plot(fprs_base, tprs_base, color='darkorange',\n",
    "         lw=2, label='AUC Baseline = %0.2f' % roc_auc_base)\n",
    "plt.plot(fprs_lr, tprs_lr, color='green',\n",
    "         lw=2, label='AUC Best LR = %0.2f' % roc_auc_lr)\n",
    "plt.plot(fprs_dt, tprs_dt, color='firebrick',\n",
    "         lw=2, label='AUC Best DT = %0.2f' % roc_auc_dt)\n",
    "plt.plot(fprs_lr_sm, tprs_lr_sm, color='teal',\n",
    "         lw=2, label='AUC Best LR SMOTE = %0.2f' % roc_auc_lr_sm)\n",
    "plt.plot(fprs_dt_sm, tprs_dt_sm, color='salmon',\n",
    "         lw=2, label='AUC Best DT SMOTE = %0.2f' % roc_auc_dt_sm)\n",
    "\n",
    "plt.axhline(0.8, c='red', linestyle='--')\n",
    "plt.plot([0, 1], [0, 1], color='navy', lw=2, linestyle='--')\n",
    "plt.xlabel('False Positive Rate (FPR)')\n",
    "plt.ylabel('True Positive Rate (TPR)')\n",
    "plt.title('ROC Curve for Angina Prediction')\n",
    "plt.legend(loc=\"best\")\n",
    "plt.show()\n",
    "\n",
    "\n",
    "print(f'Area under curve (AUC) Baseline:{roc_auc_base}')\n",
    "print(f'Area under curve (AUC) Best LogReg:{roc_auc_lr}')\n",
    "print(f'Area under curve (AUC) Best DT:{roc_auc_dt}')\n",
    "print(f'Area under curve (AUC) Best LR SMOTE:{roc_auc_lr_sm}')\n",
    "print(f'Area under curve (AUC) Best DT SMOTE:{roc_auc_dt_sm}')\n",
    "print()\n",
    "\n",
    "## Code block sourced from Brainstation Model Evaluation notebook"
   ]
  },
  {
   "cell_type": "markdown",
   "metadata": {},
   "source": [
    "For each model we were changing our models probabilty threshold, this was to reduce the rate of false positives but this also decreases the recall of true positives. By plotting a ROC curve, we can compare the true positive and false positive rates of our model.\n",
    "If we wanted a true positive rate of 0.8 (indicated by the red dashed line), we can see what false positive rate we would have to take into consideration.\n",
    "\n",
    "We can see that for the two SMOTE models, the false positive rate increases if we want a high true positive rate. \n",
    "\n",
    "Our best model so far would be the Logistic Regression model after our gridsearch, as it has an Area under curve of 0.9."
   ]
  }
 ],
 "metadata": {
  "kernelspec": {
   "display_name": "capstone",
   "language": "python",
   "name": "python3"
  },
  "language_info": {
   "codemirror_mode": {
    "name": "ipython",
    "version": 3
   },
   "file_extension": ".py",
   "mimetype": "text/x-python",
   "name": "python",
   "nbconvert_exporter": "python",
   "pygments_lexer": "ipython3",
   "version": "3.8.18"
  },
  "orig_nbformat": 4
 },
 "nbformat": 4,
 "nbformat_minor": 2
}
