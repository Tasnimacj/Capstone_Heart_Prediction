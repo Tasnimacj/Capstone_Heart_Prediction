{
 "cells": [
  {
   "cell_type": "markdown",
   "metadata": {},
   "source": [
    "# 06. Random Forest Modeling\n",
    "___\n"
   ]
  },
  {
   "cell_type": "code",
   "execution_count": 1,
   "metadata": {},
   "outputs": [],
   "source": [
    "import numpy as np\n",
    "import pandas as pd\n",
    "import matplotlib.pyplot as plt\n",
    "import seaborn as sns\n",
    "\n",
    "\n",
    "from sklearn.model_selection import train_test_split\n",
    "\n",
    "from sklearn.ensemble import RandomForestClassifier\n",
    "from sklearn.preprocessing import StandardScaler, MinMaxScaler\n",
    "from sklearn.pipeline import Pipeline\n",
    "from sklearn.decomposition import PCA\n",
    "from sklearn.tree import DecisionTreeClassifier, plot_tree\n",
    "from sklearn.metrics import ConfusionMatrixDisplay, classification_report\n",
    "from sklearn.metrics import confusion_matrix, recall_score, precision_score, f1_score, roc_curve, roc_auc_score\n",
    "\n",
    "from sklearn.model_selection import GridSearchCV\n",
    "\n",
    "\n"
   ]
  },
  {
   "cell_type": "markdown",
   "metadata": {},
   "source": []
  },
  {
   "cell_type": "code",
   "execution_count": 2,
   "metadata": {},
   "outputs": [],
   "source": [
    "heart22 = pd.read_csv('~/Desktop/capstone-project-Tasnimacj/data/cleaned_data/heart22_preprocessed.csv',index_col=0)"
   ]
  },
  {
   "cell_type": "code",
   "execution_count": 3,
   "metadata": {},
   "outputs": [],
   "source": [
    "y = heart22['HadAngina'] # Target Variable\n",
    "X = heart22.drop('HadAngina', axis=1) "
   ]
  },
  {
   "cell_type": "code",
   "execution_count": 4,
   "metadata": {},
   "outputs": [
    {
     "name": "stdout",
     "output_type": "stream",
     "text": [
      "Shape of y: (246013,)\n",
      "Shape of X: (246013, 41)\n"
     ]
    }
   ],
   "source": [
    "print('Shape of y:', y.shape)\n",
    "print('Shape of X:', X.shape)"
   ]
  },
  {
   "cell_type": "code",
   "execution_count": 5,
   "metadata": {},
   "outputs": [
    {
     "name": "stdout",
     "output_type": "stream",
     "text": [
      "The remainder set has 196810 data points.\n",
      "The test set has 49203 data points.\n"
     ]
    }
   ],
   "source": [
    "#1st split\n",
    "\n",
    "X_rem, X_test, y_rem, y_test = train_test_split(X, y, test_size=0.2, random_state=25, stratify=y)\n",
    "\n",
    "print(f'The remainder set has {len(X_rem)} data points.')\n",
    "print(f'The test set has {len(X_test)} data points.')"
   ]
  },
  {
   "cell_type": "code",
   "execution_count": 6,
   "metadata": {},
   "outputs": [
    {
     "data": {
      "text/plain": [
       "RandomForestClassifier()"
      ]
     },
     "execution_count": 6,
     "metadata": {},
     "output_type": "execute_result"
    }
   ],
   "source": [
    "\n",
    "random_forest_model = RandomForestClassifier()\n",
    "random_forest_model.fit(X_rem, y_rem)\n"
   ]
  },
  {
   "cell_type": "code",
   "execution_count": 7,
   "metadata": {},
   "outputs": [
    {
     "name": "stdout",
     "output_type": "stream",
     "text": [
      "Accuracy on remainder set: 0.9999237843605507\n",
      "Accuracy on test set: 0.943946507326789\n"
     ]
    }
   ],
   "source": [
    "print(f'Accuracy on remainder set: {random_forest_model.score(X_rem, y_rem)}')\n",
    "print(f'Accuracy on test set: {random_forest_model.score(X_test, y_test)}')\n"
   ]
  },
  {
   "cell_type": "code",
   "execution_count": 8,
   "metadata": {},
   "outputs": [
    {
     "data": {
      "text/html": [
       "<div>\n",
       "<style scoped>\n",
       "    .dataframe tbody tr th:only-of-type {\n",
       "        vertical-align: middle;\n",
       "    }\n",
       "\n",
       "    .dataframe tbody tr th {\n",
       "        vertical-align: top;\n",
       "    }\n",
       "\n",
       "    .dataframe thead th {\n",
       "        text-align: right;\n",
       "    }\n",
       "</style>\n",
       "<table border=\"1\" class=\"dataframe\">\n",
       "  <thead>\n",
       "    <tr style=\"text-align: right;\">\n",
       "      <th></th>\n",
       "      <th>predicted 0</th>\n",
       "      <th>predicted 1</th>\n",
       "    </tr>\n",
       "  </thead>\n",
       "  <tbody>\n",
       "    <tr>\n",
       "      <th>true 0</th>\n",
       "      <td>45766</td>\n",
       "      <td>446</td>\n",
       "    </tr>\n",
       "    <tr>\n",
       "      <th>true 1</th>\n",
       "      <td>2312</td>\n",
       "      <td>679</td>\n",
       "    </tr>\n",
       "  </tbody>\n",
       "</table>\n",
       "</div>"
      ],
      "text/plain": [
       "        predicted 0  predicted 1\n",
       "true 0        45766          446\n",
       "true 1         2312          679"
      ]
     },
     "metadata": {},
     "output_type": "display_data"
    },
    {
     "name": "stdout",
     "output_type": "stream",
     "text": [
      "Recall score: 22.70%\n",
      "Precision score: 60.36%\n",
      "F1 score: 32.99%\n"
     ]
    }
   ],
   "source": [
    "y_test_pred = random_forest_model.predict(X_test)\n",
    "\n",
    "conmat = pd.DataFrame(\n",
    "    data = confusion_matrix(y_test, y_test_pred),\n",
    "    index = ['true 0', 'true 1'],\n",
    "    columns = ['predicted 0', 'predicted 1']\n",
    ")\n",
    "display(conmat)\n",
    "\n",
    "print(f'Recall score: {recall_score(y_test, y_test_pred)*100:0.2f}%')\n",
    "print(f'Precision score: {precision_score(y_test, y_test_pred)*100:0.2f}%')\n",
    "print(f'F1 score: {f1_score(y_test, y_test_pred)*100:0.2f}%')"
   ]
  },
  {
   "cell_type": "markdown",
   "metadata": {},
   "source": []
  },
  {
   "cell_type": "code",
   "execution_count": 9,
   "metadata": {},
   "outputs": [],
   "source": [
    "from tempfile import mkdtemp\n",
    "cachedir = mkdtemp()"
   ]
  },
  {
   "cell_type": "code",
   "execution_count": 10,
   "metadata": {},
   "outputs": [],
   "source": [
    "# gridsearch\n",
    "\n",
    "pipe = Pipeline([(\"scaler\", StandardScaler()),\n",
    "                 (\"model\", RandomForestClassifier())], memory=cachedir)\n",
    "                 \n",
    "param =  {'scaler': [ StandardScaler()],\n",
    "          'model__max_depth' : [4, 8, 12],\n",
    "          'model__n_estimators' : [64, 128] }\n",
    "\n",
    "\n",
    "grid = GridSearchCV(estimator=pipe,param_grid=param, cv=5,verbose=1,refit=True)"
   ]
  },
  {
   "cell_type": "code",
   "execution_count": 11,
   "metadata": {},
   "outputs": [
    {
     "name": "stdout",
     "output_type": "stream",
     "text": [
      "Fitting 5 folds for each of 6 candidates, totalling 30 fits\n"
     ]
    }
   ],
   "source": [
    "fittedgrid = grid.fit(X_rem,y_rem)"
   ]
  },
  {
   "cell_type": "code",
   "execution_count": 12,
   "metadata": {},
   "outputs": [
    {
     "data": {
      "text/plain": [
       "dict_keys(['memory', 'steps', 'verbose', 'scaler', 'model', 'scaler__copy', 'scaler__with_mean', 'scaler__with_std', 'model__bootstrap', 'model__ccp_alpha', 'model__class_weight', 'model__criterion', 'model__max_depth', 'model__max_features', 'model__max_leaf_nodes', 'model__max_samples', 'model__min_impurity_decrease', 'model__min_impurity_split', 'model__min_samples_leaf', 'model__min_samples_split', 'model__min_weight_fraction_leaf', 'model__n_estimators', 'model__n_jobs', 'model__oob_score', 'model__random_state', 'model__verbose', 'model__warm_start'])"
      ]
     },
     "execution_count": 12,
     "metadata": {},
     "output_type": "execute_result"
    }
   ],
   "source": [
    "pipe.get_params().keys()"
   ]
  },
  {
   "cell_type": "code",
   "execution_count": 13,
   "metadata": {},
   "outputs": [
    {
     "data": {
      "text/plain": [
       "{'model__max_depth': 12,\n",
       " 'model__n_estimators': 128,\n",
       " 'scaler': StandardScaler()}"
      ]
     },
     "execution_count": 13,
     "metadata": {},
     "output_type": "execute_result"
    }
   ],
   "source": [
    "fittedgrid.best_params_"
   ]
  },
  {
   "cell_type": "markdown",
   "metadata": {},
   "source": [
    "Model Interpretation"
   ]
  },
  {
   "cell_type": "code",
   "execution_count": 31,
   "metadata": {},
   "outputs": [
    {
     "data": {
      "text/plain": [
       "<Axes: >"
      ]
     },
     "execution_count": 31,
     "metadata": {},
     "output_type": "execute_result"
    },
    {
     "data": {
      "image/png": "[encoded data removed]",
      "text/plain": [
       "<Figure size 800x600 with 1 Axes>"
      ]
     },
     "metadata": {},
     "output_type": "display_data"
    }
   ],
   "source": [
    "\n",
    "feat_importances = pd.DataFrame({'Feature': X_rem.columns, 'Importance': fittedgrid.best_estimator_.named_steps[\"model\"].feature_importances_,})\n",
    "feat_importances.sort_values(by='Importance', ascending=False, inplace=True)\n",
    "feat_importances.plot(kind='bar', figsize=(8,6))"
   ]
  },
  {
   "cell_type": "code",
   "execution_count": 32,
   "metadata": {},
   "outputs": [
    {
     "data": {
      "text/html": [
       "<div>\n",
       "<style scoped>\n",
       "    .dataframe tbody tr th:only-of-type {\n",
       "        vertical-align: middle;\n",
       "    }\n",
       "\n",
       "    .dataframe tbody tr th {\n",
       "        vertical-align: top;\n",
       "    }\n",
       "\n",
       "    .dataframe thead th {\n",
       "        text-align: right;\n",
       "    }\n",
       "</style>\n",
       "<table border=\"1\" class=\"dataframe\">\n",
       "  <thead>\n",
       "    <tr style=\"text-align: right;\">\n",
       "      <th></th>\n",
       "      <th>Feature</th>\n",
       "      <th>Importance</th>\n",
       "    </tr>\n",
       "  </thead>\n",
       "  <tbody>\n",
       "    <tr>\n",
       "      <th>26</th>\n",
       "      <td>AgeCategory</td>\n",
       "      <td>0.173836</td>\n",
       "    </tr>\n",
       "    <tr>\n",
       "      <th>8</th>\n",
       "      <td>HadHeartAttack</td>\n",
       "      <td>0.105537</td>\n",
       "    </tr>\n",
       "    <tr>\n",
       "      <th>30</th>\n",
       "      <td>AlcoholDrinkers</td>\n",
       "      <td>0.089224</td>\n",
       "    </tr>\n",
       "    <tr>\n",
       "      <th>0</th>\n",
       "      <td>Female</td>\n",
       "      <td>0.067024</td>\n",
       "    </tr>\n",
       "    <tr>\n",
       "      <th>4</th>\n",
       "      <td>LastCheckupTime</td>\n",
       "      <td>0.066795</td>\n",
       "    </tr>\n",
       "    <tr>\n",
       "      <th>5</th>\n",
       "      <td>PhysicalActivities</td>\n",
       "      <td>0.064869</td>\n",
       "    </tr>\n",
       "    <tr>\n",
       "      <th>31</th>\n",
       "      <td>HIVTesting</td>\n",
       "      <td>0.047362</td>\n",
       "    </tr>\n",
       "    <tr>\n",
       "      <th>36</th>\n",
       "      <td>CovidPos</td>\n",
       "      <td>0.046556</td>\n",
       "    </tr>\n",
       "    <tr>\n",
       "      <th>2</th>\n",
       "      <td>PhysicalHealthDays</td>\n",
       "      <td>0.042364</td>\n",
       "    </tr>\n",
       "    <tr>\n",
       "      <th>6</th>\n",
       "      <td>SleepHours</td>\n",
       "      <td>0.035982</td>\n",
       "    </tr>\n",
       "    <tr>\n",
       "      <th>1</th>\n",
       "      <td>GeneralHealth</td>\n",
       "      <td>0.033170</td>\n",
       "    </tr>\n",
       "    <tr>\n",
       "      <th>25</th>\n",
       "      <td>ChestScan</td>\n",
       "      <td>0.029763</td>\n",
       "    </tr>\n",
       "    <tr>\n",
       "      <th>27</th>\n",
       "      <td>HeightInMeters</td>\n",
       "      <td>0.027948</td>\n",
       "    </tr>\n",
       "    <tr>\n",
       "      <th>37</th>\n",
       "      <td>RaceEthnicity_Black only</td>\n",
       "      <td>0.024312</td>\n",
       "    </tr>\n",
       "    <tr>\n",
       "      <th>38</th>\n",
       "      <td>RaceEthnicity_Hispanic</td>\n",
       "      <td>0.023528</td>\n",
       "    </tr>\n",
       "    <tr>\n",
       "      <th>23</th>\n",
       "      <td>SmokerStatus</td>\n",
       "      <td>0.015259</td>\n",
       "    </tr>\n",
       "    <tr>\n",
       "      <th>33</th>\n",
       "      <td>PneumoVaxEver</td>\n",
       "      <td>0.011431</td>\n",
       "    </tr>\n",
       "    <tr>\n",
       "      <th>40</th>\n",
       "      <td>RaceEthnicity_Other race only</td>\n",
       "      <td>0.010614</td>\n",
       "    </tr>\n",
       "    <tr>\n",
       "      <th>28</th>\n",
       "      <td>WeightInKilograms</td>\n",
       "      <td>0.010392</td>\n",
       "    </tr>\n",
       "    <tr>\n",
       "      <th>3</th>\n",
       "      <td>MentalHealthDays</td>\n",
       "      <td>0.008849</td>\n",
       "    </tr>\n",
       "  </tbody>\n",
       "</table>\n",
       "</div>"
      ],
      "text/plain": [
       "                          Feature  Importance\n",
       "26                    AgeCategory    0.173836\n",
       "8                  HadHeartAttack    0.105537\n",
       "30                AlcoholDrinkers    0.089224\n",
       "0                          Female    0.067024\n",
       "4                 LastCheckupTime    0.066795\n",
       "5              PhysicalActivities    0.064869\n",
       "31                     HIVTesting    0.047362\n",
       "36                       CovidPos    0.046556\n",
       "2              PhysicalHealthDays    0.042364\n",
       "6                      SleepHours    0.035982\n",
       "1                   GeneralHealth    0.033170\n",
       "25                      ChestScan    0.029763\n",
       "27                 HeightInMeters    0.027948\n",
       "37       RaceEthnicity_Black only    0.024312\n",
       "38         RaceEthnicity_Hispanic    0.023528\n",
       "23                   SmokerStatus    0.015259\n",
       "33                  PneumoVaxEver    0.011431\n",
       "40  RaceEthnicity_Other race only    0.010614\n",
       "28              WeightInKilograms    0.010392\n",
       "3                MentalHealthDays    0.008849"
      ]
     },
     "execution_count": 32,
     "metadata": {},
     "output_type": "execute_result"
    }
   ],
   "source": [
    "feat_importances_sm.head(20)"
   ]
  },
  {
   "cell_type": "markdown",
   "metadata": {},
   "source": [
    "Model Evaluation"
   ]
  },
  {
   "cell_type": "code",
   "execution_count": 14,
   "metadata": {},
   "outputs": [
    {
     "name": "stdout",
     "output_type": "stream",
     "text": [
      "Best accuracy on the remainder set: 0.9568060566028149\n",
      "Best accuracy on the test set: 0.9442107188586062\n"
     ]
    },
    {
     "data": {
      "text/html": [
       "<div>\n",
       "<style scoped>\n",
       "    .dataframe tbody tr th:only-of-type {\n",
       "        vertical-align: middle;\n",
       "    }\n",
       "\n",
       "    .dataframe tbody tr th {\n",
       "        vertical-align: top;\n",
       "    }\n",
       "\n",
       "    .dataframe thead th {\n",
       "        text-align: right;\n",
       "    }\n",
       "</style>\n",
       "<table border=\"1\" class=\"dataframe\">\n",
       "  <thead>\n",
       "    <tr style=\"text-align: right;\">\n",
       "      <th></th>\n",
       "      <th>predicted 0</th>\n",
       "      <th>predicted 1</th>\n",
       "    </tr>\n",
       "  </thead>\n",
       "  <tbody>\n",
       "    <tr>\n",
       "      <th>true 0</th>\n",
       "      <td>45873</td>\n",
       "      <td>339</td>\n",
       "    </tr>\n",
       "    <tr>\n",
       "      <th>true 1</th>\n",
       "      <td>2406</td>\n",
       "      <td>585</td>\n",
       "    </tr>\n",
       "  </tbody>\n",
       "</table>\n",
       "</div>"
      ],
      "text/plain": [
       "        predicted 0  predicted 1\n",
       "true 0        45873          339\n",
       "true 1         2406          585"
      ]
     },
     "metadata": {},
     "output_type": "display_data"
    },
    {
     "name": "stdout",
     "output_type": "stream",
     "text": [
      "Recall score: 19.56%\n",
      "Precision score: 63.31%\n",
      "F1 score: 29.89%\n"
     ]
    }
   ],
   "source": [
    "print(f\"Best accuracy on the remainder set: {fittedgrid.score(X_rem, y_rem)}\")\n",
    "print(f\"Best accuracy on the test set: {fittedgrid.score(X_test, y_test)}\")\n",
    "\n",
    "\n",
    "y_test_pred = fittedgrid.predict(X_test)\n",
    "\n",
    "\n",
    "conmat = pd.DataFrame(\n",
    "    data = confusion_matrix(y_test, y_test_pred),\n",
    "    index = ['true 0', 'true 1'],\n",
    "    columns = ['predicted 0', 'predicted 1']\n",
    ")\n",
    "display(conmat)\n",
    "\n",
    "print(f'Recall score: {recall_score(y_test, y_test_pred)*100:0.2f}%')\n",
    "print(f'Precision score: {precision_score(y_test, y_test_pred)*100:0.2f}%')\n",
    "print(f'F1 score: {f1_score(y_test, y_test_pred)*100:0.2f}%')"
   ]
  },
  {
   "cell_type": "markdown",
   "metadata": {},
   "source": [
    "ROC"
   ]
  },
  {
   "cell_type": "code",
   "execution_count": 33,
   "metadata": {},
   "outputs": [
    {
     "name": "stdout",
     "output_type": "stream",
     "text": [
      "Threshold of 0.5:\n",
      "Precision score: 0.6331168831168831\n",
      "Recall score: 0.19558676028084251 \n",
      "\n",
      "Threshold of 0.8:\n",
      "Precision score: 1.0\n",
      "Recall score: 0.00033433634236041456\n"
     ]
    }
   ],
   "source": [
    "y_proba = fittedgrid.best_estimator_.predict_proba(X_test)[:,1]\n",
    "\n",
    "# precision and recall for default (0.5) cut-off\n",
    "y_threshold = np.where(y_proba > 0.5, 1, 0)\n",
    "\n",
    "print(\"Threshold of 0.5:\")\n",
    "print(f\"Precision score: {precision_score(y_test, y_threshold)}\")\n",
    "print(f\"Recall score: {recall_score(y_test, y_threshold)}\",'\\n')\n",
    "\n",
    "\n",
    "# higher cut-off (0.8)\n",
    "y_threshold = np.where(y_proba > 0.8, 1, 0)\n",
    "\n",
    "print(\"Threshold of 0.8:\")\n",
    "print(f\"Precision score: {precision_score(y_test, y_threshold)}\")\n",
    "print(f\"Recall score: {recall_score(y_test, y_threshold)}\")\n"
   ]
  },
  {
   "cell_type": "code",
   "execution_count": 34,
   "metadata": {},
   "outputs": [
    {
     "data": {
      "image/png": "[encoded data removed]",
      "text/plain": [
       "<Figure size 640x480 with 1 Axes>"
      ]
     },
     "metadata": {},
     "output_type": "display_data"
    },
    {
     "name": "stdout",
     "output_type": "stream",
     "text": [
      "Area under curve (AUC):0.8952475519984461\n",
      "\n"
     ]
    }
   ],
   "source": [
    "from sklearn.metrics import roc_curve, roc_auc_score # template block of code\n",
    "\n",
    "fprs, tprs, thresholds = roc_curve(y_test, y_proba)\n",
    "roc_auc = roc_auc_score(y_test, y_proba)\n",
    "\n",
    "plt.figure()\n",
    "plt.plot(fprs, tprs, color='darkorange',\n",
    "         lw=2, label='AUC = %0.2f' % roc_auc)\n",
    "plt.plot([0, 1], [0, 1], color='navy', lw=2, linestyle='--')\n",
    "plt.xlabel('False Positive Rate (FPR)')\n",
    "plt.ylabel('True Positive Rate (TPR)')\n",
    "plt.title('ROC Curve for Angina Prediction')\n",
    "plt.legend(loc=\"best\")\n",
    "plt.show()\n",
    "\n",
    "print(f'Area under curve (AUC):{roc_auc}')\n",
    "print()\n",
    "\n",
    "\n",
    "## Code block sourced from Brainstation Model Evaluation notebook\n"
   ]
  },
  {
   "cell_type": "markdown",
   "metadata": {},
   "source": [
    "SMOTE"
   ]
  },
  {
   "cell_type": "code",
   "execution_count": 15,
   "metadata": {},
   "outputs": [],
   "source": [
    "# SMOTE\n",
    "from imblearn.over_sampling import SMOTE\n",
    "\n",
    "X_rem_sm, y_rem_sm = SMOTE(random_state=1).fit_resample(X_rem, y_rem)"
   ]
  },
  {
   "cell_type": "code",
   "execution_count": 16,
   "metadata": {},
   "outputs": [
    {
     "name": "stdout",
     "output_type": "stream",
     "text": [
      "Original class distribution\n",
      "HadAngina\n",
      "0    184848\n",
      "1     11962\n",
      "Name: count, dtype: int64 \n",
      "\n",
      "Resampled class distribution\n",
      "HadAngina\n",
      "0    184848\n",
      "1    184848\n",
      "Name: count, dtype: int64\n"
     ]
    }
   ],
   "source": [
    "\n",
    "print('Original class distribution')\n",
    "print((y_rem).value_counts().sort_index(),'\\n')\n",
    "\n",
    "print('Resampled class distribution')\n",
    "print((y_rem_sm).value_counts().sort_index())"
   ]
  },
  {
   "cell_type": "code",
   "execution_count": 17,
   "metadata": {},
   "outputs": [],
   "source": [
    "# gridsearch\n",
    "\n",
    "pipe = Pipeline([(\"scaler\", StandardScaler()),\n",
    "                 (\"model\", RandomForestClassifier())], memory=cachedir)\n",
    "                 \n",
    "param =  {'scaler': [ StandardScaler()],\n",
    "          'model__max_depth' : [4, 8, 12],\n",
    "          'model__n_estimators' : [64, 128] }\n",
    "\n",
    "\n",
    "grid = GridSearchCV(estimator=pipe,param_grid=param, cv=5,verbose=1,refit=True)"
   ]
  },
  {
   "cell_type": "code",
   "execution_count": 18,
   "metadata": {},
   "outputs": [
    {
     "name": "stdout",
     "output_type": "stream",
     "text": [
      "Fitting 5 folds for each of 6 candidates, totalling 30 fits\n"
     ]
    }
   ],
   "source": [
    "fittedgrid_sm = grid.fit(X_rem_sm,y_rem_sm)"
   ]
  },
  {
   "cell_type": "code",
   "execution_count": 19,
   "metadata": {},
   "outputs": [
    {
     "data": {
      "text/plain": [
       "{'model__max_depth': 12,\n",
       " 'model__n_estimators': 128,\n",
       " 'scaler': StandardScaler()}"
      ]
     },
     "execution_count": 19,
     "metadata": {},
     "output_type": "execute_result"
    }
   ],
   "source": [
    "fittedgrid_sm.best_params_"
   ]
  },
  {
   "cell_type": "code",
   "execution_count": 20,
   "metadata": {},
   "outputs": [
    {
     "data": {
      "text/plain": [
       "Pipeline(memory='/var/folders/r3/bz5mjtds4dvdw0hskxwvs9vc0000gp/T/tmpyvthk1ol',\n",
       "         steps=[('scaler', StandardScaler()),\n",
       "                ('model',\n",
       "                 RandomForestClassifier(max_depth=12, n_estimators=128))])"
      ]
     },
     "execution_count": 20,
     "metadata": {},
     "output_type": "execute_result"
    }
   ],
   "source": [
    "fittedgrid_sm.best_estimator_"
   ]
  },
  {
   "cell_type": "markdown",
   "metadata": {},
   "source": [
    "Model Interpretation"
   ]
  },
  {
   "cell_type": "code",
   "execution_count": 29,
   "metadata": {},
   "outputs": [
    {
     "data": {
      "text/plain": [
       "<Axes: >"
      ]
     },
     "execution_count": 29,
     "metadata": {},
     "output_type": "execute_result"
    },
    {
     "data": {
      "image/png": "[encoded data removed]",
      "text/plain": [
       "<Figure size 800x600 with 1 Axes>"
      ]
     },
     "metadata": {},
     "output_type": "display_data"
    }
   ],
   "source": [
    "\n",
    "feat_importances_sm = pd.DataFrame({'Feature': X_rem_sm.columns, 'Importance': fittedgrid_sm.best_estimator_.named_steps[\"model\"].feature_importances_,})\n",
    "feat_importances_sm.sort_values(by='Importance', ascending=False, inplace=True)\n",
    "feat_importances_sm.plot(kind='bar', figsize=(8,6))"
   ]
  },
  {
   "cell_type": "code",
   "execution_count": 30,
   "metadata": {},
   "outputs": [
    {
     "data": {
      "text/html": [
       "<div>\n",
       "<style scoped>\n",
       "    .dataframe tbody tr th:only-of-type {\n",
       "        vertical-align: middle;\n",
       "    }\n",
       "\n",
       "    .dataframe tbody tr th {\n",
       "        vertical-align: top;\n",
       "    }\n",
       "\n",
       "    .dataframe thead th {\n",
       "        text-align: right;\n",
       "    }\n",
       "</style>\n",
       "<table border=\"1\" class=\"dataframe\">\n",
       "  <thead>\n",
       "    <tr style=\"text-align: right;\">\n",
       "      <th></th>\n",
       "      <th>Feature</th>\n",
       "      <th>Importance</th>\n",
       "    </tr>\n",
       "  </thead>\n",
       "  <tbody>\n",
       "    <tr>\n",
       "      <th>26</th>\n",
       "      <td>AgeCategory</td>\n",
       "      <td>0.173836</td>\n",
       "    </tr>\n",
       "    <tr>\n",
       "      <th>8</th>\n",
       "      <td>HadHeartAttack</td>\n",
       "      <td>0.105537</td>\n",
       "    </tr>\n",
       "    <tr>\n",
       "      <th>30</th>\n",
       "      <td>AlcoholDrinkers</td>\n",
       "      <td>0.089224</td>\n",
       "    </tr>\n",
       "    <tr>\n",
       "      <th>0</th>\n",
       "      <td>Female</td>\n",
       "      <td>0.067024</td>\n",
       "    </tr>\n",
       "    <tr>\n",
       "      <th>4</th>\n",
       "      <td>LastCheckupTime</td>\n",
       "      <td>0.066795</td>\n",
       "    </tr>\n",
       "    <tr>\n",
       "      <th>5</th>\n",
       "      <td>PhysicalActivities</td>\n",
       "      <td>0.064869</td>\n",
       "    </tr>\n",
       "    <tr>\n",
       "      <th>31</th>\n",
       "      <td>HIVTesting</td>\n",
       "      <td>0.047362</td>\n",
       "    </tr>\n",
       "    <tr>\n",
       "      <th>36</th>\n",
       "      <td>CovidPos</td>\n",
       "      <td>0.046556</td>\n",
       "    </tr>\n",
       "    <tr>\n",
       "      <th>2</th>\n",
       "      <td>PhysicalHealthDays</td>\n",
       "      <td>0.042364</td>\n",
       "    </tr>\n",
       "    <tr>\n",
       "      <th>6</th>\n",
       "      <td>SleepHours</td>\n",
       "      <td>0.035982</td>\n",
       "    </tr>\n",
       "    <tr>\n",
       "      <th>1</th>\n",
       "      <td>GeneralHealth</td>\n",
       "      <td>0.033170</td>\n",
       "    </tr>\n",
       "    <tr>\n",
       "      <th>25</th>\n",
       "      <td>ChestScan</td>\n",
       "      <td>0.029763</td>\n",
       "    </tr>\n",
       "    <tr>\n",
       "      <th>27</th>\n",
       "      <td>HeightInMeters</td>\n",
       "      <td>0.027948</td>\n",
       "    </tr>\n",
       "    <tr>\n",
       "      <th>37</th>\n",
       "      <td>RaceEthnicity_Black only</td>\n",
       "      <td>0.024312</td>\n",
       "    </tr>\n",
       "    <tr>\n",
       "      <th>38</th>\n",
       "      <td>RaceEthnicity_Hispanic</td>\n",
       "      <td>0.023528</td>\n",
       "    </tr>\n",
       "    <tr>\n",
       "      <th>23</th>\n",
       "      <td>SmokerStatus</td>\n",
       "      <td>0.015259</td>\n",
       "    </tr>\n",
       "    <tr>\n",
       "      <th>33</th>\n",
       "      <td>PneumoVaxEver</td>\n",
       "      <td>0.011431</td>\n",
       "    </tr>\n",
       "    <tr>\n",
       "      <th>40</th>\n",
       "      <td>RaceEthnicity_Other race only</td>\n",
       "      <td>0.010614</td>\n",
       "    </tr>\n",
       "    <tr>\n",
       "      <th>28</th>\n",
       "      <td>WeightInKilograms</td>\n",
       "      <td>0.010392</td>\n",
       "    </tr>\n",
       "    <tr>\n",
       "      <th>3</th>\n",
       "      <td>MentalHealthDays</td>\n",
       "      <td>0.008849</td>\n",
       "    </tr>\n",
       "  </tbody>\n",
       "</table>\n",
       "</div>"
      ],
      "text/plain": [
       "                          Feature  Importance\n",
       "26                    AgeCategory    0.173836\n",
       "8                  HadHeartAttack    0.105537\n",
       "30                AlcoholDrinkers    0.089224\n",
       "0                          Female    0.067024\n",
       "4                 LastCheckupTime    0.066795\n",
       "5              PhysicalActivities    0.064869\n",
       "31                     HIVTesting    0.047362\n",
       "36                       CovidPos    0.046556\n",
       "2              PhysicalHealthDays    0.042364\n",
       "6                      SleepHours    0.035982\n",
       "1                   GeneralHealth    0.033170\n",
       "25                      ChestScan    0.029763\n",
       "27                 HeightInMeters    0.027948\n",
       "37       RaceEthnicity_Black only    0.024312\n",
       "38         RaceEthnicity_Hispanic    0.023528\n",
       "23                   SmokerStatus    0.015259\n",
       "33                  PneumoVaxEver    0.011431\n",
       "40  RaceEthnicity_Other race only    0.010614\n",
       "28              WeightInKilograms    0.010392\n",
       "3                MentalHealthDays    0.008849"
      ]
     },
     "execution_count": 30,
     "metadata": {},
     "output_type": "execute_result"
    }
   ],
   "source": [
    "feat_importances_sm.head(20)"
   ]
  },
  {
   "cell_type": "markdown",
   "metadata": {},
   "source": [
    "Model Evaluation"
   ]
  },
  {
   "cell_type": "code",
   "execution_count": 22,
   "metadata": {},
   "outputs": [
    {
     "name": "stdout",
     "output_type": "stream",
     "text": [
      "Best accuracy on the remainder set: 0.8267618515319344\n",
      "Best accuracy on the test set: 0.8162307176391683\n"
     ]
    },
    {
     "data": {
      "text/html": [
       "<div>\n",
       "<style scoped>\n",
       "    .dataframe tbody tr th:only-of-type {\n",
       "        vertical-align: middle;\n",
       "    }\n",
       "\n",
       "    .dataframe tbody tr th {\n",
       "        vertical-align: top;\n",
       "    }\n",
       "\n",
       "    .dataframe thead th {\n",
       "        text-align: right;\n",
       "    }\n",
       "</style>\n",
       "<table border=\"1\" class=\"dataframe\">\n",
       "  <thead>\n",
       "    <tr style=\"text-align: right;\">\n",
       "      <th></th>\n",
       "      <th>predicted 0</th>\n",
       "      <th>predicted 1</th>\n",
       "    </tr>\n",
       "  </thead>\n",
       "  <tbody>\n",
       "    <tr>\n",
       "      <th>true 0</th>\n",
       "      <td>38182</td>\n",
       "      <td>8030</td>\n",
       "    </tr>\n",
       "    <tr>\n",
       "      <th>true 1</th>\n",
       "      <td>1012</td>\n",
       "      <td>1979</td>\n",
       "    </tr>\n",
       "  </tbody>\n",
       "</table>\n",
       "</div>"
      ],
      "text/plain": [
       "        predicted 0  predicted 1\n",
       "true 0        38182         8030\n",
       "true 1         1012         1979"
      ]
     },
     "metadata": {},
     "output_type": "display_data"
    },
    {
     "name": "stdout",
     "output_type": "stream",
     "text": [
      "Recall score: 66.17%\n",
      "Precision score: 19.77%\n",
      "F1 score: 30.45%\n"
     ]
    }
   ],
   "source": [
    "print(f\"Best accuracy on the remainder set: {fittedgrid_sm.score(X_rem, y_rem)}\")\n",
    "print(f\"Best accuracy on the test set: {fittedgrid_sm.score(X_test, y_test)}\")\n",
    "\n",
    "\n",
    "y_test_pred = fittedgrid_sm.predict(X_test)\n",
    "\n",
    "\n",
    "conmat = pd.DataFrame(\n",
    "    data = confusion_matrix(y_test, y_test_pred),\n",
    "    index = ['true 0', 'true 1'],\n",
    "    columns = ['predicted 0', 'predicted 1']\n",
    ")\n",
    "display(conmat)\n",
    "\n",
    "print(f'Recall score: {recall_score(y_test, y_test_pred)*100:0.2f}%')\n",
    "print(f'Precision score: {precision_score(y_test, y_test_pred)*100:0.2f}%')\n",
    "print(f'F1 score: {f1_score(y_test, y_test_pred)*100:0.2f}%')"
   ]
  },
  {
   "cell_type": "code",
   "execution_count": 23,
   "metadata": {},
   "outputs": [
    {
     "name": "stdout",
     "output_type": "stream",
     "text": [
      "Threshold of 0.5:\n",
      "Precision score: 0.19772205015486063\n",
      "Recall score: 0.6616516215312604 \n",
      "\n",
      "Threshold of 0.8:\n",
      "Precision score: 0.3909716908951798\n",
      "Recall score: 0.17084587094617185\n"
     ]
    }
   ],
   "source": [
    "y_proba = fittedgrid_sm.best_estimator_.predict_proba(X_test)[:,1]\n",
    "\n",
    "# precision and recall for default (0.5) cut-off\n",
    "y_threshold = np.where(y_proba > 0.5, 1, 0)\n",
    "\n",
    "print(\"Threshold of 0.5:\")\n",
    "print(f\"Precision score: {precision_score(y_test, y_threshold)}\")\n",
    "print(f\"Recall score: {recall_score(y_test, y_threshold)}\",'\\n')\n",
    "\n",
    "\n",
    "# higher cut-off (0.8)\n",
    "y_threshold = np.where(y_proba > 0.8, 1, 0)\n",
    "\n",
    "print(\"Threshold of 0.8:\")\n",
    "print(f\"Precision score: {precision_score(y_test, y_threshold)}\")\n",
    "print(f\"Recall score: {recall_score(y_test, y_threshold)}\")"
   ]
  },
  {
   "cell_type": "code",
   "execution_count": 24,
   "metadata": {},
   "outputs": [
    {
     "data": {
      "image/png": "[encoded data removed]",
      "text/plain": [
       "<Figure size 640x480 with 1 Axes>"
      ]
     },
     "metadata": {},
     "output_type": "display_data"
    },
    {
     "name": "stdout",
     "output_type": "stream",
     "text": [
      "Area under curve (AUC):0.8382557978618622\n",
      "\n"
     ]
    }
   ],
   "source": [
    "from sklearn.metrics import roc_curve, roc_auc_score # template block of code\n",
    "\n",
    "fprs, tprs, thresholds = roc_curve(y_test, y_proba)\n",
    "roc_auc = roc_auc_score(y_test, y_proba)\n",
    "\n",
    "plt.figure()\n",
    "plt.plot(fprs, tprs, color='darkorange',\n",
    "         lw=2, label='AUC = %0.2f' % roc_auc)\n",
    "plt.plot([0, 1], [0, 1], color='navy', lw=2, linestyle='--')\n",
    "plt.xlabel('False Positive Rate (FPR)')\n",
    "plt.ylabel('True Positive Rate (TPR)')\n",
    "plt.title('ROC Curve for Angina Prediction')\n",
    "plt.legend(loc=\"best\")\n",
    "plt.show()\n",
    "\n",
    "print(f'Area under curve (AUC):{roc_auc}')\n",
    "print()\n",
    "\n",
    "\n",
    "## Code block sourced from Brainstation Model Evaluation notebook\n"
   ]
  },
  {
   "cell_type": "code",
   "execution_count": null,
   "metadata": {},
   "outputs": [],
   "source": []
  }
 ],
 "metadata": {
  "kernelspec": {
   "display_name": "capstone",
   "language": "python",
   "name": "python3"
  },
  "language_info": {
   "codemirror_mode": {
    "name": "ipython",
    "version": 3
   },
   "file_extension": ".py",
   "mimetype": "text/x-python",
   "name": "python",
   "nbconvert_exporter": "python",
   "pygments_lexer": "ipython3",
   "version": "3.8.18"
  }
 },
 "nbformat": 4,
 "nbformat_minor": 2
}
