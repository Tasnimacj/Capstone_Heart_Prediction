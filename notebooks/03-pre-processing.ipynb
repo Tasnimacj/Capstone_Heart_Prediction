{
 "cells": [
  {
   "cell_type": "markdown",
   "metadata": {},
   "source": [
    "# 03. Pre-Processing\n",
    "___\n"
   ]
  },
  {
   "cell_type": "code",
   "execution_count": 56,
   "metadata": {},
   "outputs": [],
   "source": [
    "import numpy as np\n",
    "import pandas as pd\n",
    "import matplotlib.pyplot as plt\n",
    "import seaborn as sns\n",
    "\n",
    "from scipy import stats\n",
    "from scipy.stats import norm \n",
    "\n",
    "\n",
    "import warnings\n",
    "warnings.filterwarnings('ignore')\n"
   ]
  },
  {
   "cell_type": "code",
   "execution_count": 57,
   "metadata": {},
   "outputs": [],
   "source": [
    "heart22 = pd.read_csv('~/Desktop/capstone-project-Tasnimacj/data/cleaned_data/heart_bool.csv', index_col=0)"
   ]
  },
  {
   "cell_type": "code",
   "execution_count": 58,
   "metadata": {},
   "outputs": [],
   "source": [
    "# heart22.info()  #---DEBUG: Index: 246013 entries, 342 to 445130"
   ]
  },
  {
   "cell_type": "code",
   "execution_count": 59,
   "metadata": {},
   "outputs": [
    {
     "data": {
      "text/html": [
       "<div>\n",
       "<style scoped>\n",
       "    .dataframe tbody tr th:only-of-type {\n",
       "        vertical-align: middle;\n",
       "    }\n",
       "\n",
       "    .dataframe tbody tr th {\n",
       "        vertical-align: top;\n",
       "    }\n",
       "\n",
       "    .dataframe thead th {\n",
       "        text-align: right;\n",
       "    }\n",
       "</style>\n",
       "<table border=\"1\" class=\"dataframe\">\n",
       "  <thead>\n",
       "    <tr style=\"text-align: right;\">\n",
       "      <th></th>\n",
       "      <th>Sex</th>\n",
       "      <th>GeneralHealth</th>\n",
       "      <th>PhysicalHealthDays</th>\n",
       "      <th>MentalHealthDays</th>\n",
       "      <th>LastCheckupTime</th>\n",
       "      <th>PhysicalActivities</th>\n",
       "      <th>SleepHours</th>\n",
       "      <th>RemovedTeeth</th>\n",
       "      <th>HadHeartAttack</th>\n",
       "      <th>HadAngina</th>\n",
       "      <th>...</th>\n",
       "      <th>HeightInMeters</th>\n",
       "      <th>WeightInKilograms</th>\n",
       "      <th>BMI</th>\n",
       "      <th>AlcoholDrinkers</th>\n",
       "      <th>HIVTesting</th>\n",
       "      <th>FluVaxLast12</th>\n",
       "      <th>PneumoVaxEver</th>\n",
       "      <th>TetanusLast10Tdap</th>\n",
       "      <th>HighRiskLastYear</th>\n",
       "      <th>CovidPos</th>\n",
       "    </tr>\n",
       "  </thead>\n",
       "  <tbody>\n",
       "    <tr>\n",
       "      <th>445124</th>\n",
       "      <td>Male</td>\n",
       "      <td>Good</td>\n",
       "      <td>0.0</td>\n",
       "      <td>15.0</td>\n",
       "      <td>Within past year (anytime less than 12 months ...</td>\n",
       "      <td>1</td>\n",
       "      <td>7.0</td>\n",
       "      <td>1 to 5</td>\n",
       "      <td>0</td>\n",
       "      <td>0</td>\n",
       "      <td>...</td>\n",
       "      <td>1.68</td>\n",
       "      <td>83.91</td>\n",
       "      <td>29.86</td>\n",
       "      <td>1</td>\n",
       "      <td>1</td>\n",
       "      <td>1</td>\n",
       "      <td>1</td>\n",
       "      <td>Yes, received tetanus shot but not sure what type</td>\n",
       "      <td>0</td>\n",
       "      <td>Yes</td>\n",
       "    </tr>\n",
       "    <tr>\n",
       "      <th>445128</th>\n",
       "      <td>Female</td>\n",
       "      <td>Excellent</td>\n",
       "      <td>2.0</td>\n",
       "      <td>2.0</td>\n",
       "      <td>Within past year (anytime less than 12 months ...</td>\n",
       "      <td>1</td>\n",
       "      <td>7.0</td>\n",
       "      <td>None of them</td>\n",
       "      <td>0</td>\n",
       "      <td>0</td>\n",
       "      <td>...</td>\n",
       "      <td>1.70</td>\n",
       "      <td>83.01</td>\n",
       "      <td>28.66</td>\n",
       "      <td>0</td>\n",
       "      <td>1</td>\n",
       "      <td>1</td>\n",
       "      <td>0</td>\n",
       "      <td>Yes, received tetanus shot but not sure what type</td>\n",
       "      <td>0</td>\n",
       "      <td>No</td>\n",
       "    </tr>\n",
       "    <tr>\n",
       "      <th>445130</th>\n",
       "      <td>Male</td>\n",
       "      <td>Very good</td>\n",
       "      <td>0.0</td>\n",
       "      <td>0.0</td>\n",
       "      <td>Within past year (anytime less than 12 months ...</td>\n",
       "      <td>0</td>\n",
       "      <td>5.0</td>\n",
       "      <td>None of them</td>\n",
       "      <td>1</td>\n",
       "      <td>0</td>\n",
       "      <td>...</td>\n",
       "      <td>1.83</td>\n",
       "      <td>108.86</td>\n",
       "      <td>32.55</td>\n",
       "      <td>0</td>\n",
       "      <td>1</td>\n",
       "      <td>1</td>\n",
       "      <td>1</td>\n",
       "      <td>No, did not receive any tetanus shot in the pa...</td>\n",
       "      <td>0</td>\n",
       "      <td>Yes</td>\n",
       "    </tr>\n",
       "  </tbody>\n",
       "</table>\n",
       "<p>3 rows × 39 columns</p>\n",
       "</div>"
      ],
      "text/plain": [
       "           Sex GeneralHealth  PhysicalHealthDays  MentalHealthDays  \\\n",
       "445124    Male          Good                 0.0              15.0   \n",
       "445128  Female     Excellent                 2.0               2.0   \n",
       "445130    Male     Very good                 0.0               0.0   \n",
       "\n",
       "                                          LastCheckupTime  PhysicalActivities  \\\n",
       "445124  Within past year (anytime less than 12 months ...                   1   \n",
       "445128  Within past year (anytime less than 12 months ...                   1   \n",
       "445130  Within past year (anytime less than 12 months ...                   0   \n",
       "\n",
       "        SleepHours  RemovedTeeth  HadHeartAttack  HadAngina  ...  \\\n",
       "445124         7.0        1 to 5               0          0  ...   \n",
       "445128         7.0  None of them               0          0  ...   \n",
       "445130         5.0  None of them               1          0  ...   \n",
       "\n",
       "        HeightInMeters  WeightInKilograms    BMI  AlcoholDrinkers  HIVTesting  \\\n",
       "445124            1.68              83.91  29.86                1           1   \n",
       "445128            1.70              83.01  28.66                0           1   \n",
       "445130            1.83             108.86  32.55                0           1   \n",
       "\n",
       "        FluVaxLast12  PneumoVaxEver  \\\n",
       "445124             1              1   \n",
       "445128             1              0   \n",
       "445130             1              1   \n",
       "\n",
       "                                        TetanusLast10Tdap  HighRiskLastYear  \\\n",
       "445124  Yes, received tetanus shot but not sure what type                 0   \n",
       "445128  Yes, received tetanus shot but not sure what type                 0   \n",
       "445130  No, did not receive any tetanus shot in the pa...                 0   \n",
       "\n",
       "        CovidPos  \n",
       "445124       Yes  \n",
       "445128        No  \n",
       "445130       Yes  \n",
       "\n",
       "[3 rows x 39 columns]"
      ]
     },
     "execution_count": 59,
     "metadata": {},
     "output_type": "execute_result"
    }
   ],
   "source": [
    "heart22.tail(3)"
   ]
  },
  {
   "cell_type": "markdown",
   "metadata": {},
   "source": [
    "After loading in the data, we can see that the index does not match the number of rows. Our last row is index '445130' but the data only has 246013 rows. \n",
    "To make sure there are no indexing issues that could pose a problem, lets reset the index."
   ]
  },
  {
   "cell_type": "code",
   "execution_count": 60,
   "metadata": {},
   "outputs": [],
   "source": [
    "heart22.reset_index(drop=True,inplace=True)"
   ]
  },
  {
   "cell_type": "code",
   "execution_count": 61,
   "metadata": {},
   "outputs": [],
   "source": [
    "# heart22.info() #---DEBUG: RangeIndex: 246013 entries, 0 to 246012 and no extra index column"
   ]
  },
  {
   "cell_type": "code",
   "execution_count": 62,
   "metadata": {},
   "outputs": [
    {
     "data": {
      "text/html": [
       "<div>\n",
       "<style scoped>\n",
       "    .dataframe tbody tr th:only-of-type {\n",
       "        vertical-align: middle;\n",
       "    }\n",
       "\n",
       "    .dataframe tbody tr th {\n",
       "        vertical-align: top;\n",
       "    }\n",
       "\n",
       "    .dataframe thead th {\n",
       "        text-align: right;\n",
       "    }\n",
       "</style>\n",
       "<table border=\"1\" class=\"dataframe\">\n",
       "  <thead>\n",
       "    <tr style=\"text-align: right;\">\n",
       "      <th></th>\n",
       "      <th>Sex</th>\n",
       "      <th>GeneralHealth</th>\n",
       "      <th>PhysicalHealthDays</th>\n",
       "      <th>MentalHealthDays</th>\n",
       "      <th>LastCheckupTime</th>\n",
       "      <th>PhysicalActivities</th>\n",
       "      <th>SleepHours</th>\n",
       "      <th>RemovedTeeth</th>\n",
       "      <th>HadHeartAttack</th>\n",
       "      <th>HadAngina</th>\n",
       "      <th>...</th>\n",
       "      <th>HeightInMeters</th>\n",
       "      <th>WeightInKilograms</th>\n",
       "      <th>BMI</th>\n",
       "      <th>AlcoholDrinkers</th>\n",
       "      <th>HIVTesting</th>\n",
       "      <th>FluVaxLast12</th>\n",
       "      <th>PneumoVaxEver</th>\n",
       "      <th>TetanusLast10Tdap</th>\n",
       "      <th>HighRiskLastYear</th>\n",
       "      <th>CovidPos</th>\n",
       "    </tr>\n",
       "  </thead>\n",
       "  <tbody>\n",
       "    <tr>\n",
       "      <th>246010</th>\n",
       "      <td>Male</td>\n",
       "      <td>Good</td>\n",
       "      <td>0.0</td>\n",
       "      <td>15.0</td>\n",
       "      <td>Within past year (anytime less than 12 months ...</td>\n",
       "      <td>1</td>\n",
       "      <td>7.0</td>\n",
       "      <td>1 to 5</td>\n",
       "      <td>0</td>\n",
       "      <td>0</td>\n",
       "      <td>...</td>\n",
       "      <td>1.68</td>\n",
       "      <td>83.91</td>\n",
       "      <td>29.86</td>\n",
       "      <td>1</td>\n",
       "      <td>1</td>\n",
       "      <td>1</td>\n",
       "      <td>1</td>\n",
       "      <td>Yes, received tetanus shot but not sure what type</td>\n",
       "      <td>0</td>\n",
       "      <td>Yes</td>\n",
       "    </tr>\n",
       "    <tr>\n",
       "      <th>246011</th>\n",
       "      <td>Female</td>\n",
       "      <td>Excellent</td>\n",
       "      <td>2.0</td>\n",
       "      <td>2.0</td>\n",
       "      <td>Within past year (anytime less than 12 months ...</td>\n",
       "      <td>1</td>\n",
       "      <td>7.0</td>\n",
       "      <td>None of them</td>\n",
       "      <td>0</td>\n",
       "      <td>0</td>\n",
       "      <td>...</td>\n",
       "      <td>1.70</td>\n",
       "      <td>83.01</td>\n",
       "      <td>28.66</td>\n",
       "      <td>0</td>\n",
       "      <td>1</td>\n",
       "      <td>1</td>\n",
       "      <td>0</td>\n",
       "      <td>Yes, received tetanus shot but not sure what type</td>\n",
       "      <td>0</td>\n",
       "      <td>No</td>\n",
       "    </tr>\n",
       "    <tr>\n",
       "      <th>246012</th>\n",
       "      <td>Male</td>\n",
       "      <td>Very good</td>\n",
       "      <td>0.0</td>\n",
       "      <td>0.0</td>\n",
       "      <td>Within past year (anytime less than 12 months ...</td>\n",
       "      <td>0</td>\n",
       "      <td>5.0</td>\n",
       "      <td>None of them</td>\n",
       "      <td>1</td>\n",
       "      <td>0</td>\n",
       "      <td>...</td>\n",
       "      <td>1.83</td>\n",
       "      <td>108.86</td>\n",
       "      <td>32.55</td>\n",
       "      <td>0</td>\n",
       "      <td>1</td>\n",
       "      <td>1</td>\n",
       "      <td>1</td>\n",
       "      <td>No, did not receive any tetanus shot in the pa...</td>\n",
       "      <td>0</td>\n",
       "      <td>Yes</td>\n",
       "    </tr>\n",
       "  </tbody>\n",
       "</table>\n",
       "<p>3 rows × 39 columns</p>\n",
       "</div>"
      ],
      "text/plain": [
       "           Sex GeneralHealth  PhysicalHealthDays  MentalHealthDays  \\\n",
       "246010    Male          Good                 0.0              15.0   \n",
       "246011  Female     Excellent                 2.0               2.0   \n",
       "246012    Male     Very good                 0.0               0.0   \n",
       "\n",
       "                                          LastCheckupTime  PhysicalActivities  \\\n",
       "246010  Within past year (anytime less than 12 months ...                   1   \n",
       "246011  Within past year (anytime less than 12 months ...                   1   \n",
       "246012  Within past year (anytime less than 12 months ...                   0   \n",
       "\n",
       "        SleepHours  RemovedTeeth  HadHeartAttack  HadAngina  ...  \\\n",
       "246010         7.0        1 to 5               0          0  ...   \n",
       "246011         7.0  None of them               0          0  ...   \n",
       "246012         5.0  None of them               1          0  ...   \n",
       "\n",
       "        HeightInMeters  WeightInKilograms    BMI  AlcoholDrinkers  HIVTesting  \\\n",
       "246010            1.68              83.91  29.86                1           1   \n",
       "246011            1.70              83.01  28.66                0           1   \n",
       "246012            1.83             108.86  32.55                0           1   \n",
       "\n",
       "        FluVaxLast12  PneumoVaxEver  \\\n",
       "246010             1              1   \n",
       "246011             1              0   \n",
       "246012             1              1   \n",
       "\n",
       "                                        TetanusLast10Tdap  HighRiskLastYear  \\\n",
       "246010  Yes, received tetanus shot but not sure what type                 0   \n",
       "246011  Yes, received tetanus shot but not sure what type                 0   \n",
       "246012  No, did not receive any tetanus shot in the pa...                 0   \n",
       "\n",
       "        CovidPos  \n",
       "246010       Yes  \n",
       "246011        No  \n",
       "246012       Yes  \n",
       "\n",
       "[3 rows x 39 columns]"
      ]
     },
     "execution_count": 62,
     "metadata": {},
     "output_type": "execute_result"
    }
   ],
   "source": [
    "heart22.tail(3)"
   ]
  },
  {
   "cell_type": "markdown",
   "metadata": {},
   "source": [
    "We have successfully resest the index. We can continue with encoding and preparing data for modeling.\n",
    "Machine learning models have difficulty with label variables so they must be converted to numeric variables before we can begin looking at classification models."
   ]
  },
  {
   "cell_type": "code",
   "execution_count": 63,
   "metadata": {},
   "outputs": [],
   "source": [
    "categorical= list(heart22.select_dtypes(include=['object']))"
   ]
  },
  {
   "cell_type": "code",
   "execution_count": 64,
   "metadata": {},
   "outputs": [
    {
     "data": {
      "text/plain": [
       "11"
      ]
     },
     "execution_count": 64,
     "metadata": {},
     "output_type": "execute_result"
    }
   ],
   "source": [
    "len(categorical)"
   ]
  },
  {
   "cell_type": "markdown",
   "metadata": {},
   "source": [
    "We have 11 object columns. Let's have a look at what they contain and how we can transform them to contain numeric values instead."
   ]
  },
  {
   "cell_type": "code",
   "execution_count": 65,
   "metadata": {},
   "outputs": [
    {
     "name": "stdout",
     "output_type": "stream",
     "text": [
      "Sex\n",
      "Female    127806\n",
      "Male      118207\n",
      "Name: count, dtype: int64 \n",
      "\n",
      "GeneralHealth\n",
      "Very good    86996\n",
      "Good         77407\n",
      "Excellent    41522\n",
      "Fair         30658\n",
      "Poor          9430\n",
      "Name: count, dtype: int64 \n",
      "\n",
      "LastCheckupTime\n",
      "Within past year (anytime less than 12 months ago)         198144\n",
      "Within past 2 years (1 year but less than 2 years ago)      23227\n",
      "Within past 5 years (2 years but less than 5 years ago)     13744\n",
      "5 or more years ago                                         10898\n",
      "Name: count, dtype: int64 \n",
      "\n",
      "RemovedTeeth\n",
      "None of them              131585\n",
      "1 to 5                     74701\n",
      "6 or more, but not all     25949\n",
      "All                        13778\n",
      "Name: count, dtype: int64 \n",
      "\n",
      "HadDiabetes\n",
      "No                                         204827\n",
      "Yes                                         33811\n",
      "No, pre-diabetes or borderline diabetes      5392\n",
      "Yes, but only during pregnancy (female)      1983\n",
      "Name: count, dtype: int64 \n",
      "\n",
      "SmokerStatus\n",
      "Never smoked                             147731\n",
      "Former smoker                             68524\n",
      "Current smoker - now smokes every day     21659\n",
      "Current smoker - now smokes some days      8099\n",
      "Name: count, dtype: int64 \n",
      "\n",
      "ECigaretteUsage\n",
      "Never used e-cigarettes in my entire life    190119\n",
      "Not at all (right now)                        43281\n",
      "Use them some days                             6658\n",
      "Use them every day                             5955\n",
      "Name: count, dtype: int64 \n",
      "\n",
      "RaceEthnicityCategory\n",
      "White only, Non-Hispanic         186327\n",
      "Hispanic                          22570\n",
      "Black only, Non-Hispanic          19330\n",
      "Other race only, Non-Hispanic     12205\n",
      "Multiracial, Non-Hispanic          5581\n",
      "Name: count, dtype: int64 \n",
      "\n",
      "AgeCategory\n",
      "Age 65 to 69       28555\n",
      "Age 60 to 64       26719\n",
      "Age 70 to 74       25737\n",
      "Age 55 to 59       22224\n",
      "Age 50 to 54       19912\n",
      "Age 75 to 79       18133\n",
      "Age 80 or older    17816\n",
      "Age 40 to 44       16973\n",
      "Age 45 to 49       16753\n",
      "Age 35 to 39       15614\n",
      "Age 30 to 34       13346\n",
      "Age 18 to 24       13122\n",
      "Age 25 to 29       11109\n",
      "Name: count, dtype: int64 \n",
      "\n",
      "TetanusLast10Tdap\n",
      "No, did not receive any tetanus shot in the past 10 years    81743\n",
      "Yes, received tetanus shot but not sure what type            74118\n",
      "Yes, received Tdap                                           70282\n",
      "Yes, received tetanus shot, but not Tdap                     19870\n",
      "Name: count, dtype: int64 \n",
      "\n",
      "CovidPos\n",
      "No                                                               167297\n",
      "Yes                                                               70324\n",
      "Tested positive using home test without a health professional      8392\n",
      "Name: count, dtype: int64 \n",
      "\n"
     ]
    }
   ],
   "source": [
    "for col in categorical:\n",
    "    print(heart22[col].value_counts(), '\\n')"
   ]
  },
  {
   "cell_type": "markdown",
   "metadata": {},
   "source": [
    "For these columns, we would need to represent these values as numeric data with dummy variables. It will turn the catergorical values into new numeric variables that indicate yes, no or other for each value. \n",
    "\n",
    "For some columns, we can aggregate the data to reduce granularity in our data. For example, we can break down the ECigaretteUsage column into currently use e-cigarettes vs do not use e-cigarettes.\n",
    "\n",
    "For the Sex column, I will assign female as 1 (as there are more females in the dataset), and male as 0. To make it clear that the column represents female or not, I can rename the column."
   ]
  },
  {
   "cell_type": "code",
   "execution_count": 66,
   "metadata": {},
   "outputs": [],
   "source": [
    "heart22 = heart22.rename(columns={\"Sex\": \"Female\"})\n",
    "\n",
    "heart22['Female'] = heart22['Female'].map({'Female': 1, 'Male': 0})\n"
   ]
  },
  {
   "cell_type": "code",
   "execution_count": 67,
   "metadata": {},
   "outputs": [
    {
     "data": {
      "text/html": [
       "<div>\n",
       "<style scoped>\n",
       "    .dataframe tbody tr th:only-of-type {\n",
       "        vertical-align: middle;\n",
       "    }\n",
       "\n",
       "    .dataframe tbody tr th {\n",
       "        vertical-align: top;\n",
       "    }\n",
       "\n",
       "    .dataframe thead th {\n",
       "        text-align: right;\n",
       "    }\n",
       "</style>\n",
       "<table border=\"1\" class=\"dataframe\">\n",
       "  <thead>\n",
       "    <tr style=\"text-align: right;\">\n",
       "      <th></th>\n",
       "      <th>Female</th>\n",
       "      <th>GeneralHealth</th>\n",
       "      <th>PhysicalHealthDays</th>\n",
       "      <th>MentalHealthDays</th>\n",
       "      <th>LastCheckupTime</th>\n",
       "      <th>PhysicalActivities</th>\n",
       "      <th>SleepHours</th>\n",
       "      <th>RemovedTeeth</th>\n",
       "      <th>HadHeartAttack</th>\n",
       "      <th>HadAngina</th>\n",
       "      <th>...</th>\n",
       "      <th>HeightInMeters</th>\n",
       "      <th>WeightInKilograms</th>\n",
       "      <th>BMI</th>\n",
       "      <th>AlcoholDrinkers</th>\n",
       "      <th>HIVTesting</th>\n",
       "      <th>FluVaxLast12</th>\n",
       "      <th>PneumoVaxEver</th>\n",
       "      <th>TetanusLast10Tdap</th>\n",
       "      <th>HighRiskLastYear</th>\n",
       "      <th>CovidPos</th>\n",
       "    </tr>\n",
       "  </thead>\n",
       "  <tbody>\n",
       "    <tr>\n",
       "      <th>0</th>\n",
       "      <td>1</td>\n",
       "      <td>Very good</td>\n",
       "      <td>4.0</td>\n",
       "      <td>0.0</td>\n",
       "      <td>Within past year (anytime less than 12 months ...</td>\n",
       "      <td>1</td>\n",
       "      <td>9.0</td>\n",
       "      <td>None of them</td>\n",
       "      <td>0</td>\n",
       "      <td>0</td>\n",
       "      <td>...</td>\n",
       "      <td>1.60</td>\n",
       "      <td>71.67</td>\n",
       "      <td>27.99</td>\n",
       "      <td>0</td>\n",
       "      <td>0</td>\n",
       "      <td>1</td>\n",
       "      <td>1</td>\n",
       "      <td>Yes, received Tdap</td>\n",
       "      <td>0</td>\n",
       "      <td>No</td>\n",
       "    </tr>\n",
       "    <tr>\n",
       "      <th>1</th>\n",
       "      <td>0</td>\n",
       "      <td>Very good</td>\n",
       "      <td>0.0</td>\n",
       "      <td>0.0</td>\n",
       "      <td>Within past year (anytime less than 12 months ...</td>\n",
       "      <td>1</td>\n",
       "      <td>6.0</td>\n",
       "      <td>None of them</td>\n",
       "      <td>0</td>\n",
       "      <td>0</td>\n",
       "      <td>...</td>\n",
       "      <td>1.78</td>\n",
       "      <td>95.25</td>\n",
       "      <td>30.13</td>\n",
       "      <td>0</td>\n",
       "      <td>0</td>\n",
       "      <td>1</td>\n",
       "      <td>1</td>\n",
       "      <td>Yes, received tetanus shot but not sure what type</td>\n",
       "      <td>0</td>\n",
       "      <td>No</td>\n",
       "    </tr>\n",
       "    <tr>\n",
       "      <th>2</th>\n",
       "      <td>0</td>\n",
       "      <td>Very good</td>\n",
       "      <td>0.0</td>\n",
       "      <td>0.0</td>\n",
       "      <td>Within past year (anytime less than 12 months ...</td>\n",
       "      <td>0</td>\n",
       "      <td>8.0</td>\n",
       "      <td>6 or more, but not all</td>\n",
       "      <td>0</td>\n",
       "      <td>0</td>\n",
       "      <td>...</td>\n",
       "      <td>1.85</td>\n",
       "      <td>108.86</td>\n",
       "      <td>31.66</td>\n",
       "      <td>1</td>\n",
       "      <td>0</td>\n",
       "      <td>0</td>\n",
       "      <td>1</td>\n",
       "      <td>No, did not receive any tetanus shot in the pa...</td>\n",
       "      <td>0</td>\n",
       "      <td>Yes</td>\n",
       "    </tr>\n",
       "  </tbody>\n",
       "</table>\n",
       "<p>3 rows × 39 columns</p>\n",
       "</div>"
      ],
      "text/plain": [
       "   Female GeneralHealth  PhysicalHealthDays  MentalHealthDays  \\\n",
       "0       1     Very good                 4.0               0.0   \n",
       "1       0     Very good                 0.0               0.0   \n",
       "2       0     Very good                 0.0               0.0   \n",
       "\n",
       "                                     LastCheckupTime  PhysicalActivities  \\\n",
       "0  Within past year (anytime less than 12 months ...                   1   \n",
       "1  Within past year (anytime less than 12 months ...                   1   \n",
       "2  Within past year (anytime less than 12 months ...                   0   \n",
       "\n",
       "   SleepHours            RemovedTeeth  HadHeartAttack  HadAngina  ...  \\\n",
       "0         9.0            None of them               0          0  ...   \n",
       "1         6.0            None of them               0          0  ...   \n",
       "2         8.0  6 or more, but not all               0          0  ...   \n",
       "\n",
       "   HeightInMeters  WeightInKilograms    BMI  AlcoholDrinkers  HIVTesting  \\\n",
       "0            1.60              71.67  27.99                0           0   \n",
       "1            1.78              95.25  30.13                0           0   \n",
       "2            1.85             108.86  31.66                1           0   \n",
       "\n",
       "   FluVaxLast12  PneumoVaxEver  \\\n",
       "0             1              1   \n",
       "1             1              1   \n",
       "2             0              1   \n",
       "\n",
       "                                   TetanusLast10Tdap  HighRiskLastYear  \\\n",
       "0                                 Yes, received Tdap                 0   \n",
       "1  Yes, received tetanus shot but not sure what type                 0   \n",
       "2  No, did not receive any tetanus shot in the pa...                 0   \n",
       "\n",
       "   CovidPos  \n",
       "0        No  \n",
       "1        No  \n",
       "2       Yes  \n",
       "\n",
       "[3 rows x 39 columns]"
      ]
     },
     "execution_count": 67,
     "metadata": {},
     "output_type": "execute_result"
    }
   ],
   "source": [
    "heart22.head(3)"
   ]
  },
  {
   "cell_type": "markdown",
   "metadata": {},
   "source": [
    "GenHealth"
   ]
  },
  {
   "cell_type": "code",
   "execution_count": 68,
   "metadata": {},
   "outputs": [],
   "source": [
    "heart22['GeneralHealth'] = heart22['GeneralHealth'].map({'Excellent' : 1, \n",
    "                                                         'Very good' : 2, \n",
    "                                                         'Good' : 3, \n",
    "                                                         'Fair' : 4, \n",
    "                                                         'Poor': 5})\n"
   ]
  },
  {
   "cell_type": "markdown",
   "metadata": {},
   "source": [
    "LastCheckup"
   ]
  },
  {
   "cell_type": "code",
   "execution_count": 69,
   "metadata": {},
   "outputs": [],
   "source": [
    "heart22['LastCheckupTime'] = heart22['LastCheckupTime'].map({'Within past year (anytime less than 12 months ago)' : 1, \n",
    "                                                         'Within past 2 years (1 year but less than 2 years ago)' : 2, \n",
    "                                                         'Within past 5 years (2 years but less than 5 years ago)' : 3, \n",
    "                                                         '5 or more years ago' : 4})"
   ]
  },
  {
   "cell_type": "markdown",
   "metadata": {},
   "source": [
    "Removedteeth"
   ]
  },
  {
   "cell_type": "code",
   "execution_count": 70,
   "metadata": {},
   "outputs": [],
   "source": [
    "heart22['RemovedTeeth'] = heart22['RemovedTeeth'].map({'None of them' : 0, \n",
    "                                                         '1 to 5' : 1, \n",
    "                                                         '6 or more, but not all' : 2, \n",
    "                                                         'All' : 3})"
   ]
  },
  {
   "cell_type": "markdown",
   "metadata": {},
   "source": [
    "HadDiabetes"
   ]
  },
  {
   "cell_type": "code",
   "execution_count": 71,
   "metadata": {},
   "outputs": [
    {
     "data": {
      "text/plain": [
       "HadDiabetes\n",
       "No                                         204827\n",
       "Yes                                         33811\n",
       "No, pre-diabetes or borderline diabetes      5392\n",
       "Yes, but only during pregnancy (female)      1983\n",
       "Name: count, dtype: int64"
      ]
     },
     "execution_count": 71,
     "metadata": {},
     "output_type": "execute_result"
    }
   ],
   "source": [
    "heart22['HadDiabetes'].value_counts()"
   ]
  },
  {
   "cell_type": "code",
   "execution_count": 72,
   "metadata": {},
   "outputs": [],
   "source": [
    "heart22['HadDiabetes'] = heart22['HadDiabetes'].map({'No': 0,\n",
    "                                                     'No, pre-diabetes or borderline diabetes': 0,\n",
    "                                                     'Yes':1,\n",
    "                                                     'Yes, but only during pregnancy (female)':1})"
   ]
  },
  {
   "cell_type": "code",
   "execution_count": 73,
   "metadata": {},
   "outputs": [
    {
     "data": {
      "text/plain": [
       "HadDiabetes\n",
       "0    210219\n",
       "1     35794\n",
       "Name: count, dtype: int64"
      ]
     },
     "execution_count": 73,
     "metadata": {},
     "output_type": "execute_result"
    }
   ],
   "source": [
    "heart22['HadDiabetes'].value_counts()"
   ]
  },
  {
   "cell_type": "markdown",
   "metadata": {},
   "source": [
    "SmokerStatus"
   ]
  },
  {
   "cell_type": "code",
   "execution_count": 74,
   "metadata": {},
   "outputs": [],
   "source": [
    "\n",
    "heart22['SmokerStatus'] = np.where(heart22['SmokerStatus'].str.startswith('Current'), 'Yes', heart22['SmokerStatus'])"
   ]
  },
  {
   "cell_type": "code",
   "execution_count": 75,
   "metadata": {},
   "outputs": [],
   "source": [
    "heart22['SmokerStatus'] = np.where(heart22['SmokerStatus'].str.startswith('Never'), 'No', heart22['SmokerStatus'])\n",
    "\n",
    "heart22['SmokerStatus'] = np.where(heart22['SmokerStatus'].str.startswith('Former'), 'No', heart22['SmokerStatus'])"
   ]
  },
  {
   "cell_type": "code",
   "execution_count": 76,
   "metadata": {},
   "outputs": [],
   "source": [
    "heart22['SmokerStatus'] = heart22['SmokerStatus'].map({'Yes': 1, 'No': 0})\n"
   ]
  },
  {
   "cell_type": "markdown",
   "metadata": {},
   "source": [
    "ECigaretteUsage"
   ]
  },
  {
   "cell_type": "code",
   "execution_count": 77,
   "metadata": {},
   "outputs": [],
   "source": [
    "heart22['ECigaretteUsage'] = np.where(heart22['ECigaretteUsage'].str.startswith('Use'), 'Yes', heart22['ECigaretteUsage'])"
   ]
  },
  {
   "cell_type": "code",
   "execution_count": 78,
   "metadata": {},
   "outputs": [],
   "source": [
    "heart22['ECigaretteUsage'] = heart22['ECigaretteUsage'].map({'Yes': 1, 'Never used e-cigarettes in my entire life': 0,'Not at all (right now)':0})"
   ]
  },
  {
   "cell_type": "code",
   "execution_count": 79,
   "metadata": {},
   "outputs": [
    {
     "data": {
      "text/plain": [
       "ECigaretteUsage\n",
       "0    233400\n",
       "1     12613\n",
       "Name: count, dtype: int64"
      ]
     },
     "execution_count": 79,
     "metadata": {},
     "output_type": "execute_result"
    }
   ],
   "source": [
    "heart22['ECigaretteUsage'].value_counts()"
   ]
  },
  {
   "cell_type": "markdown",
   "metadata": {},
   "source": [
    "RaceEthnicityCategory dummy variables"
   ]
  },
  {
   "cell_type": "markdown",
   "metadata": {},
   "source": [
    "With the RaceEthnicityCategory column, I will need to use dummy variables as I cannot group them and binarise like i did before. I also cannot give an order to these variables as the values have no weight/order over each other."
   ]
  },
  {
   "cell_type": "code",
   "execution_count": 80,
   "metadata": {},
   "outputs": [],
   "source": [
    "# renaming values to be easier to understand\n",
    "heart22['RaceEthnicityCategory'] = heart22['RaceEthnicityCategory'].map({'White only, Non-Hispanic': \"White only\",\n",
    "                                                            'Hispanic': \"Hispanic\",\n",
    "                                                            'Black only, Non-Hispanic':'Black only',\n",
    "                                                            'Other race only, Non-Hispanic':'Other race only',\n",
    "                                                            'Multiracial, Non-Hispanic':'Multiracial'})"
   ]
  },
  {
   "cell_type": "code",
   "execution_count": 81,
   "metadata": {},
   "outputs": [
    {
     "data": {
      "text/plain": [
       "RaceEthnicityCategory\n",
       "White only         186327\n",
       "Hispanic            22570\n",
       "Black only          19330\n",
       "Other race only     12205\n",
       "Multiracial          5581\n",
       "Name: count, dtype: int64"
      ]
     },
     "execution_count": 81,
     "metadata": {},
     "output_type": "execute_result"
    }
   ],
   "source": [
    "heart22['RaceEthnicityCategory'].value_counts()"
   ]
  },
  {
   "cell_type": "code",
   "execution_count": 82,
   "metadata": {},
   "outputs": [],
   "source": [
    " dummy_Race = pd.get_dummies(heart22['RaceEthnicityCategory'],prefix ='RaceEthnicity',dtype=int).iloc[:,:-1]\n",
    "    \n",
    "#White is the baseline, so dropping that\n",
    "# if Hispanic,Black only,Other race only,Multiracial= 0, then ethnicity is White"
   ]
  },
  {
   "cell_type": "markdown",
   "metadata": {},
   "source": [
    "Checking if our dummy variable dataframe reflects our actual data. "
   ]
  },
  {
   "cell_type": "code",
   "execution_count": 83,
   "metadata": {},
   "outputs": [
    {
     "data": {
      "text/html": [
       "<div>\n",
       "<style scoped>\n",
       "    .dataframe tbody tr th:only-of-type {\n",
       "        vertical-align: middle;\n",
       "    }\n",
       "\n",
       "    .dataframe tbody tr th {\n",
       "        vertical-align: top;\n",
       "    }\n",
       "\n",
       "    .dataframe thead th {\n",
       "        text-align: right;\n",
       "    }\n",
       "</style>\n",
       "<table border=\"1\" class=\"dataframe\">\n",
       "  <thead>\n",
       "    <tr style=\"text-align: right;\">\n",
       "      <th></th>\n",
       "      <th>RaceEthnicity_Black only</th>\n",
       "      <th>RaceEthnicity_Hispanic</th>\n",
       "      <th>RaceEthnicity_Multiracial</th>\n",
       "      <th>RaceEthnicity_Other race only</th>\n",
       "    </tr>\n",
       "  </thead>\n",
       "  <tbody>\n",
       "    <tr>\n",
       "      <th>246008</th>\n",
       "      <td>0</td>\n",
       "      <td>0</td>\n",
       "      <td>0</td>\n",
       "      <td>0</td>\n",
       "    </tr>\n",
       "    <tr>\n",
       "      <th>246009</th>\n",
       "      <td>1</td>\n",
       "      <td>0</td>\n",
       "      <td>0</td>\n",
       "      <td>0</td>\n",
       "    </tr>\n",
       "    <tr>\n",
       "      <th>246010</th>\n",
       "      <td>0</td>\n",
       "      <td>0</td>\n",
       "      <td>1</td>\n",
       "      <td>0</td>\n",
       "    </tr>\n",
       "    <tr>\n",
       "      <th>246011</th>\n",
       "      <td>1</td>\n",
       "      <td>0</td>\n",
       "      <td>0</td>\n",
       "      <td>0</td>\n",
       "    </tr>\n",
       "    <tr>\n",
       "      <th>246012</th>\n",
       "      <td>1</td>\n",
       "      <td>0</td>\n",
       "      <td>0</td>\n",
       "      <td>0</td>\n",
       "    </tr>\n",
       "  </tbody>\n",
       "</table>\n",
       "</div>"
      ],
      "text/plain": [
       "        RaceEthnicity_Black only  RaceEthnicity_Hispanic  \\\n",
       "246008                         0                       0   \n",
       "246009                         1                       0   \n",
       "246010                         0                       0   \n",
       "246011                         1                       0   \n",
       "246012                         1                       0   \n",
       "\n",
       "        RaceEthnicity_Multiracial  RaceEthnicity_Other race only  \n",
       "246008                          0                              0  \n",
       "246009                          0                              0  \n",
       "246010                          1                              0  \n",
       "246011                          0                              0  \n",
       "246012                          0                              0  "
      ]
     },
     "execution_count": 83,
     "metadata": {},
     "output_type": "execute_result"
    }
   ],
   "source": [
    "dummy_Race.tail(5)"
   ]
  },
  {
   "cell_type": "code",
   "execution_count": 84,
   "metadata": {},
   "outputs": [
    {
     "data": {
      "text/plain": [
       "246008     White only\n",
       "246009     Black only\n",
       "246010    Multiracial\n",
       "246011     Black only\n",
       "246012     Black only\n",
       "Name: RaceEthnicityCategory, dtype: object"
      ]
     },
     "execution_count": 84,
     "metadata": {},
     "output_type": "execute_result"
    }
   ],
   "source": [
    "heart22['RaceEthnicityCategory'].tail(5)"
   ]
  },
  {
   "cell_type": "code",
   "execution_count": 85,
   "metadata": {},
   "outputs": [
    {
     "data": {
      "text/plain": [
       "(246013, 39)"
      ]
     },
     "execution_count": 85,
     "metadata": {},
     "output_type": "execute_result"
    }
   ],
   "source": [
    "heart22.shape"
   ]
  },
  {
   "cell_type": "code",
   "execution_count": 86,
   "metadata": {},
   "outputs": [],
   "source": [
    "heart22 = pd.concat([heart22.reset_index(drop=True), dummy_Race.reset_index(drop=True)], axis =1 )"
   ]
  },
  {
   "cell_type": "code",
   "execution_count": 87,
   "metadata": {},
   "outputs": [
    {
     "name": "stdout",
     "output_type": "stream",
     "text": [
      "<class 'pandas.core.frame.DataFrame'>\n",
      "RangeIndex: 246013 entries, 0 to 246012\n",
      "Data columns (total 43 columns):\n",
      " #   Column                         Non-Null Count   Dtype  \n",
      "---  ------                         --------------   -----  \n",
      " 0   Female                         246013 non-null  int64  \n",
      " 1   GeneralHealth                  246013 non-null  int64  \n",
      " 2   PhysicalHealthDays             246013 non-null  float64\n",
      " 3   MentalHealthDays               246013 non-null  float64\n",
      " 4   LastCheckupTime                246013 non-null  int64  \n",
      " 5   PhysicalActivities             246013 non-null  int64  \n",
      " 6   SleepHours                     246013 non-null  float64\n",
      " 7   RemovedTeeth                   246013 non-null  int64  \n",
      " 8   HadHeartAttack                 246013 non-null  int64  \n",
      " 9   HadAngina                      246013 non-null  int64  \n",
      " 10  HadStroke                      246013 non-null  int64  \n",
      " 11  HadAsthma                      246013 non-null  int64  \n",
      " 12  HadSkinCancer                  246013 non-null  int64  \n",
      " 13  HadCOPD                        246013 non-null  int64  \n",
      " 14  HadDepressiveDisorder          246013 non-null  int64  \n",
      " 15  HadKidneyDisease               246013 non-null  int64  \n",
      " 16  HadArthritis                   246013 non-null  int64  \n",
      " 17  HadDiabetes                    246013 non-null  int64  \n",
      " 18  DeafOrHardOfHearing            246013 non-null  int64  \n",
      " 19  BlindOrVisionDifficulty        246013 non-null  int64  \n",
      " 20  DifficultyConcentrating        246013 non-null  int64  \n",
      " 21  DifficultyWalking              246013 non-null  int64  \n",
      " 22  DifficultyDressingBathing      246013 non-null  int64  \n",
      " 23  DifficultyErrands              246013 non-null  int64  \n",
      " 24  SmokerStatus                   246013 non-null  int64  \n",
      " 25  ECigaretteUsage                246013 non-null  int64  \n",
      " 26  ChestScan                      246013 non-null  int64  \n",
      " 27  RaceEthnicityCategory          246013 non-null  object \n",
      " 28  AgeCategory                    246013 non-null  object \n",
      " 29  HeightInMeters                 246013 non-null  float64\n",
      " 30  WeightInKilograms              246013 non-null  float64\n",
      " 31  BMI                            246013 non-null  float64\n",
      " 32  AlcoholDrinkers                246013 non-null  int64  \n",
      " 33  HIVTesting                     246013 non-null  int64  \n",
      " 34  FluVaxLast12                   246013 non-null  int64  \n",
      " 35  PneumoVaxEver                  246013 non-null  int64  \n",
      " 36  TetanusLast10Tdap              246013 non-null  object \n",
      " 37  HighRiskLastYear               246013 non-null  int64  \n",
      " 38  CovidPos                       246013 non-null  object \n",
      " 39  RaceEthnicity_Black only       246013 non-null  int64  \n",
      " 40  RaceEthnicity_Hispanic         246013 non-null  int64  \n",
      " 41  RaceEthnicity_Multiracial      246013 non-null  int64  \n",
      " 42  RaceEthnicity_Other race only  246013 non-null  int64  \n",
      "dtypes: float64(6), int64(33), object(4)\n",
      "memory usage: 80.7+ MB\n"
     ]
    }
   ],
   "source": [
    "heart22.info()"
   ]
  },
  {
   "cell_type": "code",
   "execution_count": 88,
   "metadata": {},
   "outputs": [],
   "source": [
    "heart22.drop(columns='RaceEthnicityCategory', inplace=True)"
   ]
  },
  {
   "cell_type": "code",
   "execution_count": 89,
   "metadata": {},
   "outputs": [
    {
     "data": {
      "text/plain": [
       "(246013, 42)"
      ]
     },
     "execution_count": 89,
     "metadata": {},
     "output_type": "execute_result"
    }
   ],
   "source": [
    "heart22.shape"
   ]
  },
  {
   "cell_type": "markdown",
   "metadata": {},
   "source": [
    "Add the dummy columns onto the original dataframe and remove the categorical column as it is no longer needed.\n"
   ]
  },
  {
   "cell_type": "markdown",
   "metadata": {},
   "source": [
    "Age ranges"
   ]
  },
  {
   "cell_type": "code",
   "execution_count": 90,
   "metadata": {},
   "outputs": [],
   "source": [
    "heart22['AgeCategory'] = heart22['AgeCategory'].map({\n",
    "                                                     'Age 80 or older': 13,\n",
    "\n",
    "                                                     'Age 75 to 79' : 12,\n",
    "                                                     'Age 70 to 74' : 11,\n",
    "                                                     'Age 65 to 69' : 10,\n",
    "                                                     'Age 60 to 64' : 9,\n",
    "\n",
    "                                                     'Age 55 to 59' : 8,\n",
    "                                                     'Age 50 to 54' : 7,\n",
    "                                                     'Age 45 to 49' : 6,\n",
    "                                                     'Age 40 to 44' : 5,\n",
    "\n",
    "                                                     'Age 35 to 39' : 4,\n",
    "                                                     'Age 30 to 34' : 3,\n",
    "                                                     'Age 25 to 29' : 2,\n",
    "                                                     'Age 18 to 24' : 1 })"
   ]
  },
  {
   "cell_type": "markdown",
   "metadata": {},
   "source": [
    "TetanusLast10Tdap"
   ]
  },
  {
   "cell_type": "code",
   "execution_count": 91,
   "metadata": {},
   "outputs": [],
   "source": [
    "heart22['TetanusLast10Tdap'] = np.where(heart22['TetanusLast10Tdap'].str.startswith('Yes'), 'Yes', heart22['TetanusLast10Tdap'])"
   ]
  },
  {
   "cell_type": "code",
   "execution_count": 92,
   "metadata": {},
   "outputs": [],
   "source": [
    "heart22['TetanusLast10Tdap'] = heart22['TetanusLast10Tdap'].map({'Yes': 1, 'No, did not receive any tetanus shot in the past 10 years': 0})"
   ]
  },
  {
   "cell_type": "code",
   "execution_count": 93,
   "metadata": {},
   "outputs": [
    {
     "data": {
      "text/plain": [
       "TetanusLast10Tdap\n",
       "1    164270\n",
       "0     81743\n",
       "Name: count, dtype: int64"
      ]
     },
     "execution_count": 93,
     "metadata": {},
     "output_type": "execute_result"
    }
   ],
   "source": [
    "heart22['TetanusLast10Tdap'].value_counts()"
   ]
  },
  {
   "cell_type": "markdown",
   "metadata": {},
   "source": [
    "covid"
   ]
  },
  {
   "cell_type": "code",
   "execution_count": 94,
   "metadata": {},
   "outputs": [],
   "source": [
    "heart22['CovidPos'] = heart22['CovidPos'].map({'Yes': 1,\n",
    "                                                'Tested positive using home test without a health professional':1,\n",
    "                                                'No': 0})"
   ]
  },
  {
   "cell_type": "code",
   "execution_count": 95,
   "metadata": {},
   "outputs": [
    {
     "data": {
      "text/plain": [
       "CovidPos\n",
       "0    167297\n",
       "1     78716\n",
       "Name: count, dtype: int64"
      ]
     },
     "execution_count": 95,
     "metadata": {},
     "output_type": "execute_result"
    }
   ],
   "source": [
    "heart22['CovidPos'].value_counts()"
   ]
  },
  {
   "cell_type": "code",
   "execution_count": 96,
   "metadata": {},
   "outputs": [
    {
     "name": "stdout",
     "output_type": "stream",
     "text": [
      "<class 'pandas.core.frame.DataFrame'>\n",
      "RangeIndex: 246013 entries, 0 to 246012\n",
      "Data columns (total 42 columns):\n",
      " #   Column                         Non-Null Count   Dtype  \n",
      "---  ------                         --------------   -----  \n",
      " 0   Female                         246013 non-null  int64  \n",
      " 1   GeneralHealth                  246013 non-null  int64  \n",
      " 2   PhysicalHealthDays             246013 non-null  float64\n",
      " 3   MentalHealthDays               246013 non-null  float64\n",
      " 4   LastCheckupTime                246013 non-null  int64  \n",
      " 5   PhysicalActivities             246013 non-null  int64  \n",
      " 6   SleepHours                     246013 non-null  float64\n",
      " 7   RemovedTeeth                   246013 non-null  int64  \n",
      " 8   HadHeartAttack                 246013 non-null  int64  \n",
      " 9   HadAngina                      246013 non-null  int64  \n",
      " 10  HadStroke                      246013 non-null  int64  \n",
      " 11  HadAsthma                      246013 non-null  int64  \n",
      " 12  HadSkinCancer                  246013 non-null  int64  \n",
      " 13  HadCOPD                        246013 non-null  int64  \n",
      " 14  HadDepressiveDisorder          246013 non-null  int64  \n",
      " 15  HadKidneyDisease               246013 non-null  int64  \n",
      " 16  HadArthritis                   246013 non-null  int64  \n",
      " 17  HadDiabetes                    246013 non-null  int64  \n",
      " 18  DeafOrHardOfHearing            246013 non-null  int64  \n",
      " 19  BlindOrVisionDifficulty        246013 non-null  int64  \n",
      " 20  DifficultyConcentrating        246013 non-null  int64  \n",
      " 21  DifficultyWalking              246013 non-null  int64  \n",
      " 22  DifficultyDressingBathing      246013 non-null  int64  \n",
      " 23  DifficultyErrands              246013 non-null  int64  \n",
      " 24  SmokerStatus                   246013 non-null  int64  \n",
      " 25  ECigaretteUsage                246013 non-null  int64  \n",
      " 26  ChestScan                      246013 non-null  int64  \n",
      " 27  AgeCategory                    246013 non-null  int64  \n",
      " 28  HeightInMeters                 246013 non-null  float64\n",
      " 29  WeightInKilograms              246013 non-null  float64\n",
      " 30  BMI                            246013 non-null  float64\n",
      " 31  AlcoholDrinkers                246013 non-null  int64  \n",
      " 32  HIVTesting                     246013 non-null  int64  \n",
      " 33  FluVaxLast12                   246013 non-null  int64  \n",
      " 34  PneumoVaxEver                  246013 non-null  int64  \n",
      " 35  TetanusLast10Tdap              246013 non-null  int64  \n",
      " 36  HighRiskLastYear               246013 non-null  int64  \n",
      " 37  CovidPos                       246013 non-null  int64  \n",
      " 38  RaceEthnicity_Black only       246013 non-null  int64  \n",
      " 39  RaceEthnicity_Hispanic         246013 non-null  int64  \n",
      " 40  RaceEthnicity_Multiracial      246013 non-null  int64  \n",
      " 41  RaceEthnicity_Other race only  246013 non-null  int64  \n",
      "dtypes: float64(6), int64(36)\n",
      "memory usage: 78.8 MB\n"
     ]
    }
   ],
   "source": [
    "heart22.info()"
   ]
  },
  {
   "cell_type": "markdown",
   "metadata": {},
   "source": [
    "All columns are numeric and no label variables. We can save this as a new csv and use it for modeling in future notebooks.\n"
   ]
  },
  {
   "cell_type": "code",
   "execution_count": 97,
   "metadata": {},
   "outputs": [],
   "source": [
    "# save as new cleaned .csv\n",
    "heart22.to_csv('~/Desktop/capstone-project-Tasnimacj/data/cleaned_data/heart22_preprocessed.csv')"
   ]
  }
 ],
 "metadata": {
  "kernelspec": {
   "display_name": "capstone",
   "language": "python",
   "name": "python3"
  },
  "language_info": {
   "codemirror_mode": {
    "name": "ipython",
    "version": 3
   },
   "file_extension": ".py",
   "mimetype": "text/x-python",
   "name": "python",
   "nbconvert_exporter": "python",
   "pygments_lexer": "ipython3",
   "version": "3.8.18"
  },
  "orig_nbformat": 4
 },
 "nbformat": 4,
 "nbformat_minor": 2
}
