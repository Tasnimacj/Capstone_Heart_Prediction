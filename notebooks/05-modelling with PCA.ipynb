{
 "cells": [
  {
   "cell_type": "markdown",
   "metadata": {},
   "source": [
    "# 05. Modeling with PCA\n",
    "___\n"
   ]
  },
  {
   "cell_type": "code",
   "execution_count": 2,
   "metadata": {},
   "outputs": [],
   "source": [
    "import numpy as np\n",
    "import pandas as pd\n",
    "import matplotlib.pyplot as plt\n",
    "import seaborn as sns\n",
    "\n",
    "\n",
    "from sklearn.model_selection import train_test_split\n",
    "\n",
    "\n",
    "from sklearn.preprocessing import StandardScaler, MinMaxScaler\n",
    "from sklearn.linear_model import LogisticRegression\n",
    "from sklearn.pipeline import Pipeline\n",
    "from sklearn.decomposition import PCA\n",
    "from sklearn.tree import DecisionTreeClassifier, plot_tree\n",
    "from sklearn.metrics import ConfusionMatrixDisplay, classification_report\n",
    "from sklearn.metrics import confusion_matrix, recall_score, precision_score, f1_score, roc_curve, roc_auc_score\n",
    "\n",
    "from sklearn.model_selection import GridSearchCV\n",
    "\n",
    "\n"
   ]
  },
  {
   "cell_type": "markdown",
   "metadata": {},
   "source": [
    "___\n",
    "\n",
    "\n",
    "Introduction\n",
    "\n",
    "\n",
    "In this notebook, I will be building two types classification models. Using Logistic Regression and Decision Trees, we will see if we can correctly classify our target variable and predict the classes of new datapoints.\n",
    "I will train each model with a portion of the dataset and then compare the outputs with my test set. \n",
    "I will follow the same steps as the previous notebook, but introducing PCA for dimensionality reduction.\n",
    "\n",
    "\n",
    "___\n"
   ]
  },
  {
   "cell_type": "code",
   "execution_count": 3,
   "metadata": {},
   "outputs": [],
   "source": [
    "heart22 = pd.read_csv('~/Desktop/capstone-project-Tasnimacj/data/cleaned_data/heart22_preprocessed.csv',index_col=0 )"
   ]
  },
  {
   "cell_type": "code",
   "execution_count": 4,
   "metadata": {},
   "outputs": [
    {
     "name": "stdout",
     "output_type": "stream",
     "text": [
      "<class 'pandas.core.frame.DataFrame'>\n",
      "Index: 246013 entries, 0 to 246012\n",
      "Data columns (total 42 columns):\n",
      " #   Column                         Non-Null Count   Dtype  \n",
      "---  ------                         --------------   -----  \n",
      " 0   Female                         246013 non-null  int64  \n",
      " 1   GeneralHealth                  246013 non-null  int64  \n",
      " 2   PhysicalHealthDays             246013 non-null  float64\n",
      " 3   MentalHealthDays               246013 non-null  float64\n",
      " 4   LastCheckupTime                246013 non-null  int64  \n",
      " 5   PhysicalActivities             246013 non-null  int64  \n",
      " 6   SleepHours                     246013 non-null  float64\n",
      " 7   RemovedTeeth                   246013 non-null  int64  \n",
      " 8   HadHeartAttack                 246013 non-null  int64  \n",
      " 9   HadAngina                      246013 non-null  int64  \n",
      " 10  HadStroke                      246013 non-null  int64  \n",
      " 11  HadAsthma                      246013 non-null  int64  \n",
      " 12  HadSkinCancer                  246013 non-null  int64  \n",
      " 13  HadCOPD                        246013 non-null  int64  \n",
      " 14  HadDepressiveDisorder          246013 non-null  int64  \n",
      " 15  HadKidneyDisease               246013 non-null  int64  \n",
      " 16  HadArthritis                   246013 non-null  int64  \n",
      " 17  HadDiabetes                    246013 non-null  int64  \n",
      " 18  DeafOrHardOfHearing            246013 non-null  int64  \n",
      " 19  BlindOrVisionDifficulty        246013 non-null  int64  \n",
      " 20  DifficultyConcentrating        246013 non-null  int64  \n",
      " 21  DifficultyWalking              246013 non-null  int64  \n",
      " 22  DifficultyDressingBathing      246013 non-null  int64  \n",
      " 23  DifficultyErrands              246013 non-null  int64  \n",
      " 24  SmokerStatus                   246013 non-null  int64  \n",
      " 25  ECigaretteUsage                246013 non-null  int64  \n",
      " 26  ChestScan                      246013 non-null  int64  \n",
      " 27  AgeCategory                    246013 non-null  int64  \n",
      " 28  HeightInMeters                 246013 non-null  float64\n",
      " 29  WeightInKilograms              246013 non-null  float64\n",
      " 30  BMI                            246013 non-null  float64\n",
      " 31  AlcoholDrinkers                246013 non-null  int64  \n",
      " 32  HIVTesting                     246013 non-null  int64  \n",
      " 33  FluVaxLast12                   246013 non-null  int64  \n",
      " 34  PneumoVaxEver                  246013 non-null  int64  \n",
      " 35  TetanusLast10Tdap              246013 non-null  int64  \n",
      " 36  HighRiskLastYear               246013 non-null  int64  \n",
      " 37  CovidPos                       246013 non-null  int64  \n",
      " 38  RaceEthnicity_Black only       246013 non-null  int64  \n",
      " 39  RaceEthnicity_Hispanic         246013 non-null  int64  \n",
      " 40  RaceEthnicity_Multiracial      246013 non-null  int64  \n",
      " 41  RaceEthnicity_Other race only  246013 non-null  int64  \n",
      "dtypes: float64(6), int64(36)\n",
      "memory usage: 80.7 MB\n"
     ]
    }
   ],
   "source": [
    "heart22.info()"
   ]
  },
  {
   "cell_type": "markdown",
   "metadata": {},
   "source": [
    "\n",
    " After loading in the data, we have to split our data into our feature columns and target variable. We do a train-test split to prevent our models from overfitting."
   ]
  },
  {
   "cell_type": "code",
   "execution_count": 5,
   "metadata": {},
   "outputs": [],
   "source": [
    "y = heart22['HadAngina'] # Target Variable\n",
    "X = heart22.drop('HadAngina', axis=1) "
   ]
  },
  {
   "cell_type": "code",
   "execution_count": 6,
   "metadata": {},
   "outputs": [
    {
     "name": "stdout",
     "output_type": "stream",
     "text": [
      "Shape of y: (246013,)\n",
      "Shape of X: (246013, 41)\n"
     ]
    }
   ],
   "source": [
    "print('Shape of y:', y.shape)\n",
    "print('Shape of X:', X.shape)"
   ]
  },
  {
   "cell_type": "code",
   "execution_count": 7,
   "metadata": {},
   "outputs": [
    {
     "name": "stdout",
     "output_type": "stream",
     "text": [
      "The remainder set has 196810 data points.\n",
      "The test set has 49203 data points.\n"
     ]
    }
   ],
   "source": [
    "#1st split\n",
    "\n",
    "X_rem, X_test, y_rem, y_test = train_test_split(X, y, test_size=0.2, random_state=25, stratify=y)\n",
    "\n",
    "print(f'The remainder set has {len(X_rem)} data points.')\n",
    "print(f'The test set has {len(X_test)} data points.')"
   ]
  },
  {
   "cell_type": "markdown",
   "metadata": {},
   "source": [
    "___\n",
    "\n",
    "### 1 PCA\n"
   ]
  },
  {
   "cell_type": "markdown",
   "metadata": {},
   "source": [
    "PCA stands for Principal Component Analysis. It combines features and creates new components to describe the directions of greatest variance. It aims to explain most of the data but also reduce the number of features needed."
   ]
  },
  {
   "cell_type": "code",
   "execution_count": 8,
   "metadata": {},
   "outputs": [],
   "source": [
    "ss = StandardScaler().fit(X_rem)\n",
    "X_rem_ss = ss.transform(X_rem)\n",
    "X_test_ss = ss.transform(X_test)"
   ]
  },
  {
   "cell_type": "code",
   "execution_count": 10,
   "metadata": {},
   "outputs": [
    {
     "name": "stdout",
     "output_type": "stream",
     "text": [
      "The two axis have correlation: 0.02\n"
     ]
    }
   ],
   "source": [
    "print(f\"correlation: {np.corrcoef(X_rem_ss[:,0], X_rem_ss[:,1])[0,1]:0.2f}\")"
   ]
  },
  {
   "cell_type": "markdown",
   "metadata": {},
   "source": [
    "There is almost no correlation between my features, so this means that I would need all my feature columns to explain the data. \n",
    "\n",
    "We can fit and transform our scaled data to create our pca object, X_pca."
   ]
  },
  {
   "cell_type": "code",
   "execution_count": 11,
   "metadata": {},
   "outputs": [],
   "source": [
    "my_PCA = PCA()\n",
    "\n",
    "X_pca = my_PCA.fit_transform(X_rem_ss)\n"
   ]
  },
  {
   "cell_type": "code",
   "execution_count": 12,
   "metadata": {},
   "outputs": [
    {
     "data": {
      "text/plain": [
       "(196810, 41)"
      ]
     },
     "execution_count": 12,
     "metadata": {},
     "output_type": "execute_result"
    }
   ],
   "source": [
    "X_pca.shape"
   ]
  },
  {
   "cell_type": "code",
   "execution_count": 15,
   "metadata": {},
   "outputs": [
    {
     "data": {
      "text/plain": [
       "array([0.11132925, 0.0680004 , 0.05572923, 0.03943203, 0.03838521,\n",
       "       0.03148202, 0.02830254, 0.02740439, 0.02669218, 0.02571383,\n",
       "       0.02489283, 0.02428743, 0.02408577, 0.02370368, 0.02344469,\n",
       "       0.02299635, 0.02259557, 0.02186955, 0.02116488, 0.02102949,\n",
       "       0.02058346, 0.01995303, 0.019775  , 0.01961808, 0.0192491 ,\n",
       "       0.01880456, 0.01856819, 0.01816608, 0.01763422, 0.01675282,\n",
       "       0.01654482, 0.01580101, 0.0147906 , 0.01469905, 0.01348372,\n",
       "       0.01308221, 0.01254683, 0.01108528, 0.00891798, 0.00722446,\n",
       "       0.0001782 ])"
      ]
     },
     "execution_count": 15,
     "metadata": {},
     "output_type": "execute_result"
    }
   ],
   "source": [
    "ex_var_ratio = my_PCA.explained_variance_ratio_\n",
    "\n",
    "ex_var_ratio"
   ]
  },
  {
   "cell_type": "markdown",
   "metadata": {},
   "source": [
    "Scree Plot"
   ]
  },
  {
   "cell_type": "markdown",
   "metadata": {},
   "source": [
    "Using a scree plot, we can see the variance explained by each component."
   ]
  },
  {
   "cell_type": "code",
   "execution_count": 16,
   "metadata": {},
   "outputs": [
    {
     "data": {
      "image/png": "[encoded data removed]",
      "text/plain": [
       "<Figure size 640x480 with 1 Axes>"
      ]
     },
     "metadata": {},
     "output_type": "display_data"
    }
   ],
   "source": [
    "plt.figure()\n",
    "sns.set_style('darkgrid')\n",
    "\n",
    "plt.plot(range(0,41),ex_var_ratio,marker='.')\n",
    "\n",
    "plt.xlabel('Number of PCs')\n",
    "plt.ylabel('Proportion of Variance Explained')\n",
    "\n",
    "plt.xticks(range(0,41,2))\n",
    "\n",
    "\n",
    "plt.show()"
   ]
  },
  {
   "cell_type": "markdown",
   "metadata": {},
   "source": [
    "Looking at the plot, it would seem that we would need all the components to explain all the variance."
   ]
  },
  {
   "cell_type": "markdown",
   "metadata": {},
   "source": [
    "Threshold Explained Variance"
   ]
  },
  {
   "cell_type": "markdown",
   "metadata": {},
   "source": [
    "Another graph we can plot is cumulative sum of variance against number of components."
   ]
  },
  {
   "cell_type": "code",
   "execution_count": 17,
   "metadata": {},
   "outputs": [
    {
     "data": {
      "text/plain": [
       "array([0.11132925, 0.17932965, 0.23505888, 0.27449091, 0.31287612,\n",
       "       0.34435815, 0.37266068, 0.40006507, 0.42675725, 0.45247108,\n",
       "       0.47736391, 0.50165134, 0.5257371 , 0.54944078, 0.57288547,\n",
       "       0.59588182, 0.6184774 , 0.64034695, 0.66151183, 0.68254132,\n",
       "       0.70312478, 0.72307782, 0.74285282, 0.76247089, 0.78171999,\n",
       "       0.80052455, 0.81909274, 0.83725882, 0.85489304, 0.87164586,\n",
       "       0.88819068, 0.90399169, 0.91878228, 0.93348133, 0.94696505,\n",
       "       0.96004725, 0.97259409, 0.98367937, 0.99259735, 0.9998218 ,\n",
       "       1.        ])"
      ]
     },
     "execution_count": 17,
     "metadata": {},
     "output_type": "execute_result"
    }
   ],
   "source": [
    "cumulative_sum = np.cumsum(ex_var_ratio)\n",
    "\n",
    "cumulative_sum"
   ]
  },
  {
   "cell_type": "code",
   "execution_count": 18,
   "metadata": {},
   "outputs": [
    {
     "data": {
      "image/png": "[encoded data removed]",
      "text/plain": [
       "<Figure size 640x480 with 1 Axes>"
      ]
     },
     "metadata": {},
     "output_type": "display_data"
    }
   ],
   "source": [
    "\n",
    "plt.figure()\n",
    "\n",
    "plt.plot(range(0,41), cumulative_sum, marker='.')\n",
    "\n",
    "plt.axhline(0.9, c='red', linestyle='--')\n",
    "\n",
    "plt.xlabel('Number of PCs')\n",
    "plt.ylabel('Cumulative Sum of Explained Variance')\n",
    "\n",
    "plt.xticks(range(0,41,2))\n",
    "\n",
    "\n",
    "\n",
    "plt.show()"
   ]
  },
  {
   "cell_type": "markdown",
   "metadata": {},
   "source": [
    "To explain 90% of explained variance, we would need 31 PCs. "
   ]
  },
  {
   "cell_type": "markdown",
   "metadata": {},
   "source": [
    "___\n",
    "\n",
    "### 2 Tuning Logistic Regression"
   ]
  },
  {
   "cell_type": "markdown",
   "metadata": {},
   "source": [
    "Pipeline"
   ]
  },
  {
   "cell_type": "markdown",
   "metadata": {},
   "source": [
    "Using a pipeline, I want to find the best hyperparameters for my model. I set up a pipeline that contains a scaler, dimension reducer and a model of our choice. "
   ]
  },
  {
   "cell_type": "code",
   "execution_count": 19,
   "metadata": {},
   "outputs": [],
   "source": [
    "from tempfile import mkdtemp\n",
    "cachedir = mkdtemp()"
   ]
  },
  {
   "cell_type": "code",
   "execution_count": 20,
   "metadata": {},
   "outputs": [],
   "source": [
    "pipe = Pipeline([(\"scaler\", StandardScaler()),\n",
    "                 (\"my_pca\", PCA()),\n",
    "                 (\"model\", LogisticRegression())], memory=cachedir)"
   ]
  },
  {
   "cell_type": "markdown",
   "metadata": {},
   "source": [
    "Hyperparameter Optimisation"
   ]
  },
  {
   "cell_type": "markdown",
   "metadata": {},
   "source": [
    "Setting up a parameter grid with what I would like to change in my model. I want to explore different c values and the model penalty. For now, I only want to scale my data using a standard scaler.\n",
    "\n",
    "For our PCA, I want my model to have either 80%, 85% or 90% explained variance."
   ]
  },
  {
   "cell_type": "code",
   "execution_count": 21,
   "metadata": {},
   "outputs": [],
   "source": [
    "\n",
    "n_components = [0.8, 0.85, 0.9]\n",
    "c_values = [.0001, .001, .01, .1, 1, 10, 100, 1000, 10000]\n",
    "\n",
    "\n",
    "log_reg_param = [\n",
    "\n",
    "    {'scaler': [ StandardScaler()],\n",
    "     'my_pca__n_components': n_components,\n",
    "     'model': [LogisticRegression(solver='saga',random_state=1, n_jobs=-1, max_iter=10000)], \n",
    "     'model__C': c_values,\n",
    "     'model__penalty': ['l1', 'l2'],\n",
    "    }\n",
    "]"
   ]
  },
  {
   "cell_type": "markdown",
   "metadata": {},
   "source": [
    "GridSearch"
   ]
  },
  {
   "cell_type": "code",
   "execution_count": 22,
   "metadata": {},
   "outputs": [],
   "source": [
    "grid = GridSearchCV(estimator=pipe,param_grid=log_reg_param, cv=5,verbose=1,refit=True)"
   ]
  },
  {
   "cell_type": "code",
   "execution_count": 23,
   "metadata": {},
   "outputs": [
    {
     "name": "stdout",
     "output_type": "stream",
     "text": [
      "Fitting 5 folds for each of 54 candidates, totalling 270 fits\n"
     ]
    }
   ],
   "source": [
    "fittedgrid_lr = grid.fit(X_rem,y_rem)"
   ]
  },
  {
   "cell_type": "code",
   "execution_count": 24,
   "metadata": {},
   "outputs": [
    {
     "data": {
      "text/plain": [
       "{'model': LogisticRegression(C=0.01, max_iter=10000, n_jobs=-1, penalty='l1',\n",
       "                    random_state=1, solver='saga'),\n",
       " 'model__C': 0.01,\n",
       " 'model__penalty': 'l1',\n",
       " 'my_pca__n_components': 0.85,\n",
       " 'scaler': StandardScaler()}"
      ]
     },
     "execution_count": 24,
     "metadata": {},
     "output_type": "execute_result"
    }
   ],
   "source": [
    "fittedgrid_lr.best_params_"
   ]
  },
  {
   "cell_type": "markdown",
   "metadata": {},
   "source": [
    "GridSearch looks at different parameter settings across 5 cross folds on our Remainder set. It does this to find the best model settings whilst preventing data leakage and overfitting on our train set. The model works best by selecting components that explain 0.85 variance.\n",
    "GridSearch has found that the best parameters for our Logistic Regression is having a C value of 0.01, which means we need a strong regularization strength. We need a L1 penalty to help set coefficients to 0."
   ]
  },
  {
   "cell_type": "markdown",
   "metadata": {},
   "source": [
    "Model Interpretation"
   ]
  },
  {
   "cell_type": "code",
   "execution_count": 25,
   "metadata": {},
   "outputs": [
    {
     "data": {
      "text/plain": [
       "array([0.11132925, 0.0680004 , 0.05572923, 0.03943203, 0.03838521,\n",
       "       0.03148202, 0.02830254, 0.02740439, 0.02669218, 0.02571383,\n",
       "       0.02489283, 0.02428743, 0.02408577, 0.02370368, 0.02344469,\n",
       "       0.02299635, 0.02259557, 0.02186955, 0.02116488, 0.02102949,\n",
       "       0.02058346, 0.01995303, 0.019775  , 0.01961808, 0.0192491 ,\n",
       "       0.01880456, 0.01856819, 0.01816608, 0.01763422])"
      ]
     },
     "execution_count": 25,
     "metadata": {},
     "output_type": "execute_result"
    }
   ],
   "source": [
    "fittedgrid_lr.best_estimator_.named_steps[\"my_pca\"].explained_variance_ratio_"
   ]
  },
  {
   "cell_type": "markdown",
   "metadata": {},
   "source": [
    "We can see that each PC component only explains a very small amount of variance."
   ]
  },
  {
   "cell_type": "markdown",
   "metadata": {},
   "source": [
    "Model Evaluation"
   ]
  },
  {
   "cell_type": "code",
   "execution_count": 71,
   "metadata": {},
   "outputs": [
    {
     "name": "stdout",
     "output_type": "stream",
     "text": [
      "Best accuracy on the remainder set: 0.9447334993140593\n",
      "Best accuracy on the test set: 0.9444139584984655\n"
     ]
    }
   ],
   "source": [
    "print(f\"Best accuracy on the remainder set: {fittedgrid_lr.score(X_rem, y_rem)}\")\n",
    "print(f\"Best accuracy on the test set: {fittedgrid_lr.score(X_test, y_test)}\")"
   ]
  },
  {
   "cell_type": "code",
   "execution_count": 72,
   "metadata": {},
   "outputs": [
    {
     "data": {
      "text/html": [
       "<div>\n",
       "<style scoped>\n",
       "    .dataframe tbody tr th:only-of-type {\n",
       "        vertical-align: middle;\n",
       "    }\n",
       "\n",
       "    .dataframe tbody tr th {\n",
       "        vertical-align: top;\n",
       "    }\n",
       "\n",
       "    .dataframe thead th {\n",
       "        text-align: right;\n",
       "    }\n",
       "</style>\n",
       "<table border=\"1\" class=\"dataframe\">\n",
       "  <thead>\n",
       "    <tr style=\"text-align: right;\">\n",
       "      <th></th>\n",
       "      <th>predicted 0</th>\n",
       "      <th>predicted 1</th>\n",
       "    </tr>\n",
       "  </thead>\n",
       "  <tbody>\n",
       "    <tr>\n",
       "      <th>true 0</th>\n",
       "      <td>45669</td>\n",
       "      <td>543</td>\n",
       "    </tr>\n",
       "    <tr>\n",
       "      <th>true 1</th>\n",
       "      <td>2192</td>\n",
       "      <td>799</td>\n",
       "    </tr>\n",
       "  </tbody>\n",
       "</table>\n",
       "</div>"
      ],
      "text/plain": [
       "        predicted 0  predicted 1\n",
       "true 0        45669          543\n",
       "true 1         2192          799"
      ]
     },
     "metadata": {},
     "output_type": "display_data"
    },
    {
     "name": "stdout",
     "output_type": "stream",
     "text": [
      "Recall score: 26.71%\n",
      "Precision score: 59.54%\n",
      "F1 score: 36.88%\n"
     ]
    }
   ],
   "source": [
    "y_test_pred = fittedgrid_lr.predict(X_test)\n",
    "\n",
    "conmat = pd.DataFrame(\n",
    "    data = confusion_matrix(y_test, y_test_pred),\n",
    "    index = ['true 0', 'true 1'],\n",
    "    columns = ['predicted 0', 'predicted 1']\n",
    ")\n",
    "display(conmat)\n",
    "\n",
    "print(f'Recall score: {recall_score(y_test, y_test_pred)*100:0.2f}%')\n",
    "print(f'Precision score: {precision_score(y_test, y_test_pred)*100:0.2f}%')\n",
    "print(f'F1 score: {f1_score(y_test, y_test_pred)*100:0.2f}%')"
   ]
  },
  {
   "cell_type": "code",
   "execution_count": 73,
   "metadata": {},
   "outputs": [],
   "source": [
    "best_logreg_recall = round(recall_score(y_test, y_test_pred)*100, 2)\n",
    "best_logreg_precision = round(precision_score(y_test, y_test_pred)*100, 2)\n",
    "best_logreg_f1 = round(f1_score(y_test, y_test_pred)*100, 2)\n",
    "best_logreg_accu = round(fittedgrid_lr.score(X_test_ss, y_test)*100,2)"
   ]
  },
  {
   "cell_type": "markdown",
   "metadata": {},
   "source": [
    "Our decided best logistic regression model has not improved after introducing PCA. It produces similar results and ROC to our previous gridsearch logistic regression model. "
   ]
  },
  {
   "cell_type": "markdown",
   "metadata": {},
   "source": [
    "ROC"
   ]
  },
  {
   "cell_type": "code",
   "execution_count": 39,
   "metadata": {},
   "outputs": [
    {
     "name": "stdout",
     "output_type": "stream",
     "text": [
      "Threshold of 0.5:\n",
      "Precision score: 0.5953800298062594\n",
      "Recall score: 0.2671347375459712 \n",
      "\n",
      "Threshold of 0.8:\n",
      "Precision score: 0.7534883720930232\n",
      "Recall score: 0.05416248746238716\n"
     ]
    }
   ],
   "source": [
    "y_proba = fittedgrid_lr.best_estimator_.predict_proba(X_test)[:,1]\n",
    "\n",
    "# precision and recall for default (0.5) cut-off\n",
    "y_threshold = np.where(y_proba > 0.5, 1, 0)\n",
    "\n",
    "print(\"Threshold of 0.5:\")\n",
    "print(f\"Precision score: {precision_score(y_test, y_threshold)}\")\n",
    "print(f\"Recall score: {recall_score(y_test, y_threshold)}\",'\\n')\n",
    "\n",
    "\n",
    "# higher cut-off (0.8)\n",
    "y_threshold = np.where(y_proba > 0.8, 1, 0)\n",
    "\n",
    "print(\"Threshold of 0.8:\")\n",
    "print(f\"Precision score: {precision_score(y_test, y_threshold)}\")\n",
    "print(f\"Recall score: {recall_score(y_test, y_threshold)}\")"
   ]
  },
  {
   "cell_type": "code",
   "execution_count": 40,
   "metadata": {},
   "outputs": [
    {
     "data": {
      "image/png": "[encoded data removed]",
      "text/plain": [
       "<Figure size 640x480 with 1 Axes>"
      ]
     },
     "metadata": {},
     "output_type": "display_data"
    },
    {
     "name": "stdout",
     "output_type": "stream",
     "text": [
      "Area under curve (AUC):0.8927998904819133\n",
      "\n"
     ]
    }
   ],
   "source": [
    "from sklearn.metrics import roc_curve, roc_auc_score # template block of code\n",
    "\n",
    "fprs, tprs, thresholds = roc_curve(y_test, y_proba)\n",
    "roc_auc = roc_auc_score(y_test, y_proba)\n",
    "\n",
    "plt.figure()\n",
    "plt.plot(fprs, tprs, color='darkorange',\n",
    "         lw=2, label='AUC = %0.2f' % roc_auc)\n",
    "plt.plot([0, 1], [0, 1], color='navy', lw=2, linestyle='--')\n",
    "plt.xlabel('False Positive Rate (FPR)')\n",
    "plt.ylabel('True Positive Rate (TPR)')\n",
    "plt.title('ROC Curve for Angina Prediction')\n",
    "plt.legend(loc=\"best\")\n",
    "plt.show()\n",
    "\n",
    "print(f'Area under curve (AUC):{roc_auc}')\n",
    "print()\n",
    "\n",
    "\n",
    "## Code block sourced from Brainstation Model Evaluation notebook\n"
   ]
  },
  {
   "cell_type": "markdown",
   "metadata": {},
   "source": [
    "___\n",
    "\n",
    "### 3 Tuning Decision Tree"
   ]
  },
  {
   "cell_type": "markdown",
   "metadata": {},
   "source": [
    "Pipeline"
   ]
  },
  {
   "cell_type": "markdown",
   "metadata": {},
   "source": [
    "Setting up the pipeline for another classification model, this time I will use Decision Tree Classifier."
   ]
  },
  {
   "cell_type": "code",
   "execution_count": 41,
   "metadata": {},
   "outputs": [],
   "source": [
    "pipe = Pipeline([(\"scaler\", StandardScaler()),\n",
    "                 (\"my_pca\", PCA()),\n",
    "                 (\"dt_model\", DecisionTreeClassifier())], memory=cachedir)"
   ]
  },
  {
   "cell_type": "markdown",
   "metadata": {},
   "source": [
    "Hyperparameter Optimisation"
   ]
  },
  {
   "cell_type": "markdown",
   "metadata": {},
   "source": [
    "For the parameter grid, this time I want to see if scaling data would make a change in modeling. I still want to check for same PCs and explore different options for the trees max_depth and min_samples_leaf."
   ]
  },
  {
   "cell_type": "code",
   "execution_count": 42,
   "metadata": {},
   "outputs": [],
   "source": [
    "\n",
    "dt_param  = {\"scaler\":[StandardScaler(), None],\n",
    "            \"my_pca__n_components\":n_components,\n",
    "            \"dt_model__max_depth\": [None, 2, 4, 6, 8,10],\n",
    "            \"dt_model__min_samples_leaf\": [2, 5, 10] }"
   ]
  },
  {
   "cell_type": "code",
   "execution_count": 31,
   "metadata": {},
   "outputs": [
    {
     "data": {
      "text/plain": [
       "dict_keys(['memory', 'steps', 'verbose', 'scaler', 'my_pca', 'dt_model', 'scaler__copy', 'scaler__with_mean', 'scaler__with_std', 'my_pca__copy', 'my_pca__iterated_power', 'my_pca__n_components', 'my_pca__random_state', 'my_pca__svd_solver', 'my_pca__tol', 'my_pca__whiten', 'dt_model__ccp_alpha', 'dt_model__class_weight', 'dt_model__criterion', 'dt_model__max_depth', 'dt_model__max_features', 'dt_model__max_leaf_nodes', 'dt_model__min_impurity_decrease', 'dt_model__min_impurity_split', 'dt_model__min_samples_leaf', 'dt_model__min_samples_split', 'dt_model__min_weight_fraction_leaf', 'dt_model__random_state', 'dt_model__splitter'])"
      ]
     },
     "execution_count": 31,
     "metadata": {},
     "output_type": "execute_result"
    }
   ],
   "source": [
    "# pipe.get_params().keys()"
   ]
  },
  {
   "cell_type": "markdown",
   "metadata": {},
   "source": [
    "GridSearch"
   ]
  },
  {
   "cell_type": "code",
   "execution_count": 43,
   "metadata": {},
   "outputs": [],
   "source": [
    "grid = GridSearchCV(estimator=pipe,param_grid=dt_param, cv=5,verbose=1,refit=True)"
   ]
  },
  {
   "cell_type": "code",
   "execution_count": 44,
   "metadata": {},
   "outputs": [
    {
     "name": "stdout",
     "output_type": "stream",
     "text": [
      "Fitting 5 folds for each of 108 candidates, totalling 540 fits\n"
     ]
    }
   ],
   "source": [
    "fittedgrid_dt = grid.fit(X_rem,y_rem)\n"
   ]
  },
  {
   "cell_type": "code",
   "execution_count": 46,
   "metadata": {},
   "outputs": [
    {
     "data": {
      "text/plain": [
       "{'dt_model__max_depth': 6,\n",
       " 'dt_model__min_samples_leaf': 5,\n",
       " 'my_pca__n_components': 0.9,\n",
       " 'scaler': StandardScaler()}"
      ]
     },
     "execution_count": 46,
     "metadata": {},
     "output_type": "execute_result"
    }
   ],
   "source": [
    "fittedgrid_dt.best_params_"
   ]
  },
  {
   "cell_type": "markdown",
   "metadata": {},
   "source": [
    "The best optimization for our decision tree would be using a standard scaler, having a max_depth of 6 and 5 min_samples_leaf. Scaling my data beforehand seems to be a crucial step for modeling. \n",
    "Here for our decision tree, we would need to explain 90% of the variance in our data, which means we would need about 31 features."
   ]
  },
  {
   "cell_type": "markdown",
   "metadata": {},
   "source": [
    "Model Interpretation"
   ]
  },
  {
   "cell_type": "code",
   "execution_count": 47,
   "metadata": {},
   "outputs": [
    {
     "data": {
      "text/plain": [
       "array([0.11132925, 0.0680004 , 0.05572923, 0.03943203, 0.03838521,\n",
       "       0.03148202, 0.02830254, 0.02740439, 0.02669218, 0.02571383,\n",
       "       0.02489283, 0.02428743, 0.02408577, 0.02370368, 0.02344469,\n",
       "       0.02299635, 0.02259557, 0.02186955, 0.02116488, 0.02102949,\n",
       "       0.02058346, 0.01995303, 0.019775  , 0.01961808, 0.0192491 ,\n",
       "       0.01880456, 0.01856819, 0.01816608, 0.01763422, 0.01675282,\n",
       "       0.01654482, 0.01580101])"
      ]
     },
     "execution_count": 47,
     "metadata": {},
     "output_type": "execute_result"
    }
   ],
   "source": [
    "\n",
    "fittedgrid_dt.best_estimator_.named_steps[\"my_pca\"].explained_variance_ratio_"
   ]
  },
  {
   "cell_type": "markdown",
   "metadata": {},
   "source": [
    "Model Evaluation"
   ]
  },
  {
   "cell_type": "code",
   "execution_count": 49,
   "metadata": {},
   "outputs": [
    {
     "name": "stdout",
     "output_type": "stream",
     "text": [
      "Best accuracy on the remainder set: 0.9445150144809715\n",
      "Best accuracy on the test set: 0.9424222100278439\n"
     ]
    }
   ],
   "source": [
    "print(f\"Best accuracy on the remainder set: {fittedgrid_dt.score(X_rem, y_rem)}\")\n",
    "print(f\"Best accuracy on the test set: {fittedgrid_dt.score(X_test, y_test)}\")"
   ]
  },
  {
   "cell_type": "code",
   "execution_count": 50,
   "metadata": {},
   "outputs": [
    {
     "data": {
      "text/html": [
       "<div>\n",
       "<style scoped>\n",
       "    .dataframe tbody tr th:only-of-type {\n",
       "        vertical-align: middle;\n",
       "    }\n",
       "\n",
       "    .dataframe tbody tr th {\n",
       "        vertical-align: top;\n",
       "    }\n",
       "\n",
       "    .dataframe thead th {\n",
       "        text-align: right;\n",
       "    }\n",
       "</style>\n",
       "<table border=\"1\" class=\"dataframe\">\n",
       "  <thead>\n",
       "    <tr style=\"text-align: right;\">\n",
       "      <th></th>\n",
       "      <th>predicted 0</th>\n",
       "      <th>predicted 1</th>\n",
       "    </tr>\n",
       "  </thead>\n",
       "  <tbody>\n",
       "    <tr>\n",
       "      <th>true 0</th>\n",
       "      <td>45432</td>\n",
       "      <td>780</td>\n",
       "    </tr>\n",
       "    <tr>\n",
       "      <th>true 1</th>\n",
       "      <td>2053</td>\n",
       "      <td>938</td>\n",
       "    </tr>\n",
       "  </tbody>\n",
       "</table>\n",
       "</div>"
      ],
      "text/plain": [
       "        predicted 0  predicted 1\n",
       "true 0        45432          780\n",
       "true 1         2053          938"
      ]
     },
     "metadata": {},
     "output_type": "display_data"
    },
    {
     "name": "stdout",
     "output_type": "stream",
     "text": [
      "Recall score: 31.36%\n",
      "Precision score: 54.60%\n",
      "F1 score: 39.84%\n"
     ]
    }
   ],
   "source": [
    "\n",
    "y_test_pred = fittedgrid_dt.predict(X_test)\n",
    "\n",
    "conmat = pd.DataFrame(\n",
    "    data = confusion_matrix(y_test, y_test_pred),\n",
    "    index = ['true 0', 'true 1'],\n",
    "    columns = ['predicted 0', 'predicted 1']\n",
    ")\n",
    "display(conmat)\n",
    "\n",
    "print(f'Recall score: {recall_score(y_test, y_test_pred)*100:0.2f}%')\n",
    "print(f'Precision score: {precision_score(y_test, y_test_pred)*100:0.2f}%')\n",
    "print(f'F1 score: {f1_score(y_test, y_test_pred)*100:0.2f}%')"
   ]
  },
  {
   "cell_type": "code",
   "execution_count": 51,
   "metadata": {},
   "outputs": [],
   "source": [
    "best_dt_recall = round(recall_score(y_test, y_test_pred)*100, 2)\n",
    "best_dt_precision = round(precision_score(y_test, y_test_pred)*100, 2)\n",
    "best_dt_f1 = round(f1_score(y_test, y_test_pred)*100, 2)\n",
    "best_dt_accu = round(fittedgrid_dt.score(X_test_ss, y_test)*100,2)"
   ]
  },
  {
   "cell_type": "markdown",
   "metadata": {},
   "source": [
    "Our recall score has improved slightly compared to with no PCA. However, the precision has dropped by 5%."
   ]
  },
  {
   "cell_type": "markdown",
   "metadata": {},
   "source": [
    "ROC"
   ]
  },
  {
   "cell_type": "code",
   "execution_count": 55,
   "metadata": {},
   "outputs": [
    {
     "name": "stdout",
     "output_type": "stream",
     "text": [
      "Threshold of 0.5:\n",
      "Precision score: 0.5459837019790454\n",
      "Recall score: 0.3136074891340689 \n",
      "\n",
      "Threshold of 0.75:\n",
      "Precision score: 0.6\n",
      "Recall score: 0.02106318956870612\n"
     ]
    }
   ],
   "source": [
    "y_proba = fittedgrid_dt.best_estimator_.predict_proba(X_test)[:,1]\n",
    "\n",
    "# precision and recall for default (0.5) cut-off\n",
    "y_threshold = np.where(y_proba > 0.5, 1, 0)\n",
    "\n",
    "print(\"Threshold of 0.5:\")\n",
    "print(f\"Precision score: {precision_score(y_test, y_threshold)}\")\n",
    "print(f\"Recall score: {recall_score(y_test, y_threshold)}\",'\\n')\n",
    "\n",
    "\n",
    "# higher cut-off (0.75)\n",
    "y_threshold = np.where(y_proba > 0.75, 1, 0)\n",
    "\n",
    "print(\"Threshold of 0.75:\")\n",
    "print(f\"Precision score: {precision_score(y_test, y_threshold)}\")\n",
    "print(f\"Recall score: {recall_score(y_test, y_threshold)}\")"
   ]
  },
  {
   "cell_type": "code",
   "execution_count": 56,
   "metadata": {},
   "outputs": [
    {
     "data": {
      "image/png": "[encoded data removed]",
      "text/plain": [
       "<Figure size 640x480 with 1 Axes>"
      ]
     },
     "metadata": {},
     "output_type": "display_data"
    },
    {
     "name": "stdout",
     "output_type": "stream",
     "text": [
      "Area under curve (AUC):0.8745992840172614\n",
      "\n"
     ]
    }
   ],
   "source": [
    "from sklearn.metrics import roc_curve, roc_auc_score # template block of code\n",
    "\n",
    "fprs, tprs, thresholds = roc_curve(y_test, y_proba)\n",
    "roc_auc = roc_auc_score(y_test, y_proba)\n",
    "\n",
    "plt.figure()\n",
    "plt.plot(fprs, tprs, color='darkorange',\n",
    "         lw=2, label='AUC = %0.2f' % roc_auc)\n",
    "plt.plot([0, 1], [0, 1], color='navy', lw=2, linestyle='--')\n",
    "plt.xlabel('False Positive Rate (FPR)')\n",
    "plt.ylabel('True Positive Rate (TPR)')\n",
    "plt.title('ROC Curve for Angina Prediction')\n",
    "plt.legend(loc=\"best\")\n",
    "plt.show()\n",
    "\n",
    "print(f'Area under curve (AUC):{roc_auc}')\n",
    "print()\n",
    "\n",
    "\n",
    "## Code block sourced from Brainstation Model Evaluation notebook"
   ]
  },
  {
   "cell_type": "markdown",
   "metadata": {},
   "source": [
    "Our AUC has actually improved a little as well."
   ]
  },
  {
   "cell_type": "markdown",
   "metadata": {},
   "source": [
    "___\n",
    "\n",
    "\n",
    "Conclusion"
   ]
  },
  {
   "cell_type": "code",
   "execution_count": 74,
   "metadata": {},
   "outputs": [],
   "source": [
    "data = {'F1 score' :[best_logreg_f1,best_dt_f1],\n",
    "       'Recall score':[best_logreg_recall,best_dt_recall], \n",
    "       'Precision score':[best_logreg_precision,best_dt_precision],\n",
    "       'Accuracy':[best_logreg_accu,best_dt_accu]}\n",
    "\n",
    "\n",
    "scores = pd.DataFrame(\n",
    "    data = data,\n",
    "    index = ['Best LogReg (PCA)', 'Best DT (PCA)'],\n",
    "    columns = ['F1 score','Recall score', 'Precision score', 'Accuracy']\n",
    ")"
   ]
  },
  {
   "cell_type": "markdown",
   "metadata": {},
   "source": [
    "Here is a table that compares the F1, Recall, Precision and Test Accuracy for each model."
   ]
  },
  {
   "cell_type": "code",
   "execution_count": 61,
   "metadata": {},
   "outputs": [
    {
     "data": {
      "text/html": [
       "<div>\n",
       "<style scoped>\n",
       "    .dataframe tbody tr th:only-of-type {\n",
       "        vertical-align: middle;\n",
       "    }\n",
       "\n",
       "    .dataframe tbody tr th {\n",
       "        vertical-align: top;\n",
       "    }\n",
       "\n",
       "    .dataframe thead th {\n",
       "        text-align: right;\n",
       "    }\n",
       "</style>\n",
       "<table border=\"1\" class=\"dataframe\">\n",
       "  <thead>\n",
       "    <tr style=\"text-align: right;\">\n",
       "      <th></th>\n",
       "      <th>F1 score</th>\n",
       "      <th>Recall score</th>\n",
       "      <th>Precision score</th>\n",
       "      <th>Accuracy</th>\n",
       "    </tr>\n",
       "  </thead>\n",
       "  <tbody>\n",
       "    <tr>\n",
       "      <th>Best LogReg (PCA)</th>\n",
       "      <td>36.88</td>\n",
       "      <td>26.71</td>\n",
       "      <td>59.54</td>\n",
       "      <td>93.76</td>\n",
       "    </tr>\n",
       "    <tr>\n",
       "      <th>Best DT (PCA)</th>\n",
       "      <td>39.84</td>\n",
       "      <td>31.36</td>\n",
       "      <td>54.60</td>\n",
       "      <td>92.36</td>\n",
       "    </tr>\n",
       "  </tbody>\n",
       "</table>\n",
       "</div>"
      ],
      "text/plain": [
       "                   F1 score  Recall score  Precision score  Accuracy\n",
       "Best LogReg (PCA)     36.88         26.71            59.54     93.76\n",
       "Best DT (PCA)         39.84         31.36            54.60     92.36"
      ]
     },
     "execution_count": 61,
     "metadata": {},
     "output_type": "execute_result"
    }
   ],
   "source": [
    "scores"
   ]
  },
  {
   "cell_type": "markdown",
   "metadata": {},
   "source": [
    "After trying PCA, I found that it has not helped improve my models as I thought it would.\n",
    " It seems I would need most, if not all, of my features to explain my data, so PCA is an unnecessary step."
   ]
  },
  {
   "cell_type": "code",
   "execution_count": 59,
   "metadata": {},
   "outputs": [],
   "source": [
    "scores.to_csv('~/Desktop/capstone-project-Tasnimacj/data/cleaned_data/scores_pca.csv')\n",
    "#save our score dataframe"
   ]
  }
 ],
 "metadata": {
  "kernelspec": {
   "display_name": "capstone",
   "language": "python",
   "name": "python3"
  },
  "language_info": {
   "codemirror_mode": {
    "name": "ipython",
    "version": 3
   },
   "file_extension": ".py",
   "mimetype": "text/x-python",
   "name": "python",
   "nbconvert_exporter": "python",
   "pygments_lexer": "ipython3",
   "version": "3.8.18"
  },
  "orig_nbformat": 4
 },
 "nbformat": 4,
 "nbformat_minor": 2
}
